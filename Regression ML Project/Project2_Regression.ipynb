{
 "cells": [
  {
   "cell_type": "markdown",
   "id": "4c4af5a7",
   "metadata": {},
   "source": [
    "# AML Project 2 - Regression"
   ]
  },
  {
   "cell_type": "markdown",
   "id": "a37b08b5",
   "metadata": {},
   "source": [
    "Problem Statement :  The objective of the project is to build predictive model to analyze and predict the productivity performance of the employees in the garment factory"
   ]
  },
  {
   "cell_type": "code",
   "execution_count": 1,
   "id": "29e5c191",
   "metadata": {},
   "outputs": [],
   "source": [
    "import numpy as np\n",
    "import pandas as pd\n",
    "import sklearn\n",
    "import seaborn as sns\n",
    "import tensorflow as tf\n",
    "import keras"
   ]
  },
  {
   "cell_type": "code",
   "execution_count": 2,
   "id": "f963108a",
   "metadata": {},
   "outputs": [
    {
     "name": "stdout",
     "output_type": "stream",
     "text": [
      "numpy: 1.19.5\n",
      "seaborn: 0.11.2\n",
      "pandas: 1.3.4\n",
      "sklearn: 0.24.2\n",
      "tensorflow: 2.7.0\n",
      "keras 2.7.0\n"
     ]
    }
   ],
   "source": [
    "#numpy, scipy, pandas, seaborn and sklearn package versions used throughout the project1\n",
    "print('numpy:', np.__version__)\n",
    "print('seaborn:', sns.__version__)\n",
    "print('pandas:', pd.__version__)\n",
    "print('sklearn:', sklearn.__version__)\n",
    "print('tensorflow:', tf.__version__)\n",
    "print('keras', keras.__version__)"
   ]
  },
  {
   "cell_type": "markdown",
   "id": "65ce6e8b",
   "metadata": {},
   "source": [
    "# Data Exploration"
   ]
  },
  {
   "cell_type": "code",
   "execution_count": 3,
   "id": "261a0a02",
   "metadata": {},
   "outputs": [],
   "source": [
    "df_reg = pd.read_csv(\"garments_worker_productivity.csv\")"
   ]
  },
  {
   "cell_type": "code",
   "execution_count": 4,
   "id": "563eabfc",
   "metadata": {
    "scrolled": false
   },
   "outputs": [
    {
     "name": "stdout",
     "output_type": "stream",
     "text": [
      "<class 'pandas.core.frame.DataFrame'>\n",
      "RangeIndex: 1197 entries, 0 to 1196\n",
      "Data columns (total 15 columns):\n",
      " #   Column                 Non-Null Count  Dtype  \n",
      "---  ------                 --------------  -----  \n",
      " 0   date                   1197 non-null   object \n",
      " 1   quarter                1197 non-null   object \n",
      " 2   department             1197 non-null   object \n",
      " 3   day                    1197 non-null   object \n",
      " 4   team                   1197 non-null   int64  \n",
      " 5   targeted_productivity  1197 non-null   float64\n",
      " 6   smv                    1197 non-null   float64\n",
      " 7   wip                    691 non-null    float64\n",
      " 8   over_time              1197 non-null   int64  \n",
      " 9   incentive              1197 non-null   int64  \n",
      " 10  idle_time              1197 non-null   float64\n",
      " 11  idle_men               1197 non-null   int64  \n",
      " 12  no_of_style_change     1197 non-null   int64  \n",
      " 13  no_of_workers          1197 non-null   float64\n",
      " 14  actual_productivity    1197 non-null   float64\n",
      "dtypes: float64(6), int64(5), object(4)\n",
      "memory usage: 140.4+ KB\n"
     ]
    }
   ],
   "source": [
    "df_reg.info()"
   ]
  },
  {
   "cell_type": "markdown",
   "id": "491e983a",
   "metadata": {},
   "source": [
    "Feature data types breakdown :\n",
    "       \n",
    "    Float features : 6\n",
    "    Integer features : 5\n",
    "    String features : 4 "
   ]
  },
  {
   "cell_type": "code",
   "execution_count": 5,
   "id": "be9738d3",
   "metadata": {
    "scrolled": true
   },
   "outputs": [
    {
     "data": {
      "text/html": [
       "<div>\n",
       "<style scoped>\n",
       "    .dataframe tbody tr th:only-of-type {\n",
       "        vertical-align: middle;\n",
       "    }\n",
       "\n",
       "    .dataframe tbody tr th {\n",
       "        vertical-align: top;\n",
       "    }\n",
       "\n",
       "    .dataframe thead th {\n",
       "        text-align: right;\n",
       "    }\n",
       "</style>\n",
       "<table border=\"1\" class=\"dataframe\">\n",
       "  <thead>\n",
       "    <tr style=\"text-align: right;\">\n",
       "      <th></th>\n",
       "      <th>team</th>\n",
       "      <th>targeted_productivity</th>\n",
       "      <th>smv</th>\n",
       "      <th>wip</th>\n",
       "      <th>over_time</th>\n",
       "      <th>incentive</th>\n",
       "      <th>idle_time</th>\n",
       "      <th>idle_men</th>\n",
       "      <th>no_of_style_change</th>\n",
       "      <th>no_of_workers</th>\n",
       "      <th>actual_productivity</th>\n",
       "    </tr>\n",
       "  </thead>\n",
       "  <tbody>\n",
       "    <tr>\n",
       "      <th>count</th>\n",
       "      <td>1197.000000</td>\n",
       "      <td>1197.000000</td>\n",
       "      <td>1197.000000</td>\n",
       "      <td>691.000000</td>\n",
       "      <td>1197.000000</td>\n",
       "      <td>1197.000000</td>\n",
       "      <td>1197.000000</td>\n",
       "      <td>1197.000000</td>\n",
       "      <td>1197.000000</td>\n",
       "      <td>1197.000000</td>\n",
       "      <td>1197.000000</td>\n",
       "    </tr>\n",
       "    <tr>\n",
       "      <th>mean</th>\n",
       "      <td>6.426901</td>\n",
       "      <td>0.729632</td>\n",
       "      <td>15.062172</td>\n",
       "      <td>1190.465991</td>\n",
       "      <td>4567.460317</td>\n",
       "      <td>38.210526</td>\n",
       "      <td>0.730159</td>\n",
       "      <td>0.369256</td>\n",
       "      <td>0.150376</td>\n",
       "      <td>34.609858</td>\n",
       "      <td>0.735091</td>\n",
       "    </tr>\n",
       "    <tr>\n",
       "      <th>std</th>\n",
       "      <td>3.463963</td>\n",
       "      <td>0.097891</td>\n",
       "      <td>10.943219</td>\n",
       "      <td>1837.455001</td>\n",
       "      <td>3348.823563</td>\n",
       "      <td>160.182643</td>\n",
       "      <td>12.709757</td>\n",
       "      <td>3.268987</td>\n",
       "      <td>0.427848</td>\n",
       "      <td>22.197687</td>\n",
       "      <td>0.174488</td>\n",
       "    </tr>\n",
       "    <tr>\n",
       "      <th>min</th>\n",
       "      <td>1.000000</td>\n",
       "      <td>0.070000</td>\n",
       "      <td>2.900000</td>\n",
       "      <td>7.000000</td>\n",
       "      <td>0.000000</td>\n",
       "      <td>0.000000</td>\n",
       "      <td>0.000000</td>\n",
       "      <td>0.000000</td>\n",
       "      <td>0.000000</td>\n",
       "      <td>2.000000</td>\n",
       "      <td>0.233705</td>\n",
       "    </tr>\n",
       "    <tr>\n",
       "      <th>25%</th>\n",
       "      <td>3.000000</td>\n",
       "      <td>0.700000</td>\n",
       "      <td>3.940000</td>\n",
       "      <td>774.500000</td>\n",
       "      <td>1440.000000</td>\n",
       "      <td>0.000000</td>\n",
       "      <td>0.000000</td>\n",
       "      <td>0.000000</td>\n",
       "      <td>0.000000</td>\n",
       "      <td>9.000000</td>\n",
       "      <td>0.650307</td>\n",
       "    </tr>\n",
       "    <tr>\n",
       "      <th>50%</th>\n",
       "      <td>6.000000</td>\n",
       "      <td>0.750000</td>\n",
       "      <td>15.260000</td>\n",
       "      <td>1039.000000</td>\n",
       "      <td>3960.000000</td>\n",
       "      <td>0.000000</td>\n",
       "      <td>0.000000</td>\n",
       "      <td>0.000000</td>\n",
       "      <td>0.000000</td>\n",
       "      <td>34.000000</td>\n",
       "      <td>0.773333</td>\n",
       "    </tr>\n",
       "    <tr>\n",
       "      <th>75%</th>\n",
       "      <td>9.000000</td>\n",
       "      <td>0.800000</td>\n",
       "      <td>24.260000</td>\n",
       "      <td>1252.500000</td>\n",
       "      <td>6960.000000</td>\n",
       "      <td>50.000000</td>\n",
       "      <td>0.000000</td>\n",
       "      <td>0.000000</td>\n",
       "      <td>0.000000</td>\n",
       "      <td>57.000000</td>\n",
       "      <td>0.850253</td>\n",
       "    </tr>\n",
       "    <tr>\n",
       "      <th>max</th>\n",
       "      <td>12.000000</td>\n",
       "      <td>0.800000</td>\n",
       "      <td>54.560000</td>\n",
       "      <td>23122.000000</td>\n",
       "      <td>25920.000000</td>\n",
       "      <td>3600.000000</td>\n",
       "      <td>300.000000</td>\n",
       "      <td>45.000000</td>\n",
       "      <td>2.000000</td>\n",
       "      <td>89.000000</td>\n",
       "      <td>1.120437</td>\n",
       "    </tr>\n",
       "  </tbody>\n",
       "</table>\n",
       "</div>"
      ],
      "text/plain": [
       "              team  targeted_productivity          smv           wip  \\\n",
       "count  1197.000000            1197.000000  1197.000000    691.000000   \n",
       "mean      6.426901               0.729632    15.062172   1190.465991   \n",
       "std       3.463963               0.097891    10.943219   1837.455001   \n",
       "min       1.000000               0.070000     2.900000      7.000000   \n",
       "25%       3.000000               0.700000     3.940000    774.500000   \n",
       "50%       6.000000               0.750000    15.260000   1039.000000   \n",
       "75%       9.000000               0.800000    24.260000   1252.500000   \n",
       "max      12.000000               0.800000    54.560000  23122.000000   \n",
       "\n",
       "          over_time    incentive    idle_time     idle_men  \\\n",
       "count   1197.000000  1197.000000  1197.000000  1197.000000   \n",
       "mean    4567.460317    38.210526     0.730159     0.369256   \n",
       "std     3348.823563   160.182643    12.709757     3.268987   \n",
       "min        0.000000     0.000000     0.000000     0.000000   \n",
       "25%     1440.000000     0.000000     0.000000     0.000000   \n",
       "50%     3960.000000     0.000000     0.000000     0.000000   \n",
       "75%     6960.000000    50.000000     0.000000     0.000000   \n",
       "max    25920.000000  3600.000000   300.000000    45.000000   \n",
       "\n",
       "       no_of_style_change  no_of_workers  actual_productivity  \n",
       "count         1197.000000    1197.000000          1197.000000  \n",
       "mean             0.150376      34.609858             0.735091  \n",
       "std              0.427848      22.197687             0.174488  \n",
       "min              0.000000       2.000000             0.233705  \n",
       "25%              0.000000       9.000000             0.650307  \n",
       "50%              0.000000      34.000000             0.773333  \n",
       "75%              0.000000      57.000000             0.850253  \n",
       "max              2.000000      89.000000             1.120437  "
      ]
     },
     "execution_count": 5,
     "metadata": {},
     "output_type": "execute_result"
    }
   ],
   "source": [
    "df_reg.describe()"
   ]
  },
  {
   "cell_type": "markdown",
   "id": "bdab6152",
   "metadata": {},
   "source": [
    "# Missing Values"
   ]
  },
  {
   "cell_type": "code",
   "execution_count": 6,
   "id": "023dbd48",
   "metadata": {},
   "outputs": [
    {
     "data": {
      "text/plain": [
       "date                       0\n",
       "quarter                    0\n",
       "department                 0\n",
       "day                        0\n",
       "team                       0\n",
       "targeted_productivity      0\n",
       "smv                        0\n",
       "wip                      506\n",
       "over_time                  0\n",
       "incentive                  0\n",
       "idle_time                  0\n",
       "idle_men                   0\n",
       "no_of_style_change         0\n",
       "no_of_workers              0\n",
       "actual_productivity        0\n",
       "dtype: int64"
      ]
     },
     "execution_count": 6,
     "metadata": {},
     "output_type": "execute_result"
    }
   ],
   "source": [
    "df_reg.isnull().sum()"
   ]
  },
  {
   "cell_type": "markdown",
   "id": "697caecc",
   "metadata": {},
   "source": [
    "# Exploratory Data Analysis"
   ]
  },
  {
   "cell_type": "code",
   "execution_count": 7,
   "id": "174c0c1d",
   "metadata": {},
   "outputs": [],
   "source": [
    "import pylab as plt\n",
    "\n",
    "# Set the global default size of matplotlib figures\n",
    "plt.rc('figure', figsize=(12, 6))\n",
    "\n",
    "# Size of matplotlib figures that contain subplots\n",
    "fizsize_with_subplots = (10, 10)\n",
    "\n",
    "# Size of matplotlib histogram bins\n",
    "bin_size = 10"
   ]
  },
  {
   "cell_type": "code",
   "execution_count": 8,
   "id": "50f4e92d",
   "metadata": {},
   "outputs": [
    {
     "data": {
      "text/plain": [
       "Text(0.5, 1.0, 'Work in Progress Histogram')"
      ]
     },
     "execution_count": 8,
     "metadata": {},
     "output_type": "execute_result"
    },
    {
     "data": {
      "image/png": "[encoded data removed]",
      "text/plain": [
       "<Figure size 720x720 with 4 Axes>"
      ]
     },
     "metadata": {
      "needs_background": "light"
     },
     "output_type": "display_data"
    }
   ],
   "source": [
    "# Set up a grid of plots\n",
    "fig = plt.figure(figsize=fizsize_with_subplots) \n",
    "fig_dims = (3, 2)\n",
    "\n",
    "# Plot department count\n",
    "plt.subplot2grid(fig_dims, (0, 0))\n",
    "df_reg['department'].value_counts().plot(kind='bar', \n",
    "                                         title='Types of department')\n",
    "plt.xticks(rotation=0)\n",
    "\n",
    "# Plot day of the week count\n",
    "plt.subplot2grid(fig_dims, (0, 1))\n",
    "df_reg['day'].value_counts().plot(kind='bar', \n",
    "                                       title='how many days of a week are working days')\n",
    "#plt.xticks(rotation=0)\n",
    "\n",
    "# Plot team count\n",
    "plt.subplot2grid(fig_dims, (1, 0))\n",
    "df_reg['team'].value_counts().plot(kind='bar', \n",
    "                                    title='Number of Team')\n",
    "plt.xticks(rotation=0)\n",
    "\n",
    "\n",
    "# Plot standard minute value histogram\n",
    "plt.subplot2grid(fig_dims, (2, 0))\n",
    "df_reg['smv'].hist()\n",
    "plt.title('standard minute value Histogram')\n",
    "\n",
    "# Plot Actual Productivity histogram\n",
    "plt.subplot2grid(fig_dims, (2, 0))\n",
    "df_reg['actual_productivity'].hist()\n",
    "plt.title('Actual Productivity Histogram')\n",
    "\n",
    "\n",
    "# Plot wip histogram\n",
    "plt.subplot2grid(fig_dims, (2, 0))\n",
    "df_reg['wip'].hist()\n",
    "plt.title('Work in Progress Histogram')"
   ]
  },
  {
   "cell_type": "markdown",
   "id": "15ed835d",
   "metadata": {},
   "source": [
    "# Feature 1 : 'date' [Date in MM-DD-YYYY]"
   ]
  },
  {
   "cell_type": "code",
   "execution_count": 9,
   "id": "fc0f7e68",
   "metadata": {},
   "outputs": [
    {
     "data": {
      "text/plain": [
       "array(['1/1/2015', '1/3/2015', '1/4/2015', '1/5/2015', '1/6/2015',\n",
       "       '1/7/2015', '1/8/2015', '1/10/2015', '1/11/2015', '1/12/2015',\n",
       "       '1/13/2015', '1/14/2015', '1/15/2015', '1/17/2015', '1/18/2015',\n",
       "       '1/19/2015', '1/20/2015', '1/21/2015', '1/22/2015', '1/24/2015',\n",
       "       '1/25/2015', '1/26/2015', '1/27/2015', '1/28/2015', '1/29/2015',\n",
       "       '1/31/2015', '2/1/2015', '2/2/2015', '2/3/2015', '2/4/2015',\n",
       "       '2/5/2015', '2/7/2015', '2/8/2015', '2/9/2015', '2/10/2015',\n",
       "       '2/11/2015', '2/12/2015', '2/14/2015', '2/15/2015', '2/16/2015',\n",
       "       '2/17/2015', '2/18/2015', '2/19/2015', '2/22/2015', '2/23/2015',\n",
       "       '2/24/2015', '2/25/2015', '2/26/2015', '2/28/2015', '3/1/2015',\n",
       "       '3/2/2015', '3/3/2015', '3/4/2015', '3/5/2015', '3/7/2015',\n",
       "       '3/8/2015', '3/9/2015', '3/10/2015', '3/11/2015'], dtype=object)"
      ]
     },
     "execution_count": 9,
     "metadata": {},
     "output_type": "execute_result"
    }
   ],
   "source": [
    "df_reg['date'].unique()"
   ]
  },
  {
   "cell_type": "markdown",
   "id": "19a855a1",
   "metadata": {},
   "source": [
    "# Feature 2 : 'day' [Day of the Week]"
   ]
  },
  {
   "cell_type": "code",
   "execution_count": 10,
   "id": "14252e9b",
   "metadata": {},
   "outputs": [
    {
     "data": {
      "text/plain": [
       "Wednesday    208\n",
       "Sunday       203\n",
       "Tuesday      201\n",
       "Thursday     199\n",
       "Monday       199\n",
       "Saturday     187\n",
       "Name: day, dtype: int64"
      ]
     },
     "execution_count": 10,
     "metadata": {},
     "output_type": "execute_result"
    }
   ],
   "source": [
    "df_reg['day'].value_counts()"
   ]
  },
  {
   "cell_type": "code",
   "execution_count": 11,
   "id": "8a5cdc7a",
   "metadata": {},
   "outputs": [
    {
     "data": {
      "text/plain": [
       "(array([0, 1, 2, 3, 4, 5]),\n",
       " [Text(0, 0, 'Monday'),\n",
       "  Text(1, 0, 'Saturday'),\n",
       "  Text(2, 0, 'Sunday'),\n",
       "  Text(3, 0, 'Thursday'),\n",
       "  Text(4, 0, 'Tuesday'),\n",
       "  Text(5, 0, 'Wednesday')])"
      ]
     },
     "execution_count": 11,
     "metadata": {},
     "output_type": "execute_result"
    },
    {
     "data": {
      "image/png": "[encoded data removed]",
      "text/plain": [
       "<Figure size 864x432 with 1 Axes>"
      ]
     },
     "metadata": {
      "needs_background": "light"
     },
     "output_type": "display_data"
    }
   ],
   "source": [
    "df_reg.groupby('day').count()['no_of_workers'].plot(kind = 'bar',  \n",
    "                                                         title = 'No of workers department-wise Histogram')\n",
    "plt.xticks(rotation=0)"
   ]
  },
  {
   "cell_type": "markdown",
   "id": "d4980743",
   "metadata": {},
   "source": [
    "# Feature 3 : 'quarter' "
   ]
  },
  {
   "cell_type": "markdown",
   "id": "a4548c1e",
   "metadata": {},
   "source": [
    "The feature 'quarter' represents a portion of the month. A month was divided into four quarters"
   ]
  },
  {
   "cell_type": "code",
   "execution_count": 12,
   "id": "7c2d837e",
   "metadata": {},
   "outputs": [
    {
     "data": {
      "text/plain": [
       "Quarter1    360\n",
       "Quarter2    335\n",
       "Quarter4    248\n",
       "Quarter3    210\n",
       "Quarter5     44\n",
       "Name: quarter, dtype: int64"
      ]
     },
     "execution_count": 12,
     "metadata": {},
     "output_type": "execute_result"
    }
   ],
   "source": [
    "df_reg['quarter'].value_counts()"
   ]
  },
  {
   "cell_type": "code",
   "execution_count": 13,
   "id": "e07aedba",
   "metadata": {},
   "outputs": [
    {
     "data": {
      "image/png": "[encoded data removed]",
      "text/plain": [
       "<Figure size 864x432 with 1 Axes>"
      ]
     },
     "metadata": {
      "needs_background": "light"
     },
     "output_type": "display_data"
    }
   ],
   "source": [
    "quarter_count = sns.countplot(x = 'quarter', data = df_reg, palette=[\"blue\", \"seagreen\", \"pink\",\"orange\", \"skyblue\"])\n",
    "plt.xlabel('No of quarters')\n",
    "plt.show()"
   ]
  },
  {
   "cell_type": "markdown",
   "id": "cbddda28",
   "metadata": {},
   "source": [
    "# Feature 4 : 'department' [Associated department with the instance]"
   ]
  },
  {
   "cell_type": "markdown",
   "id": "6052cc0a",
   "metadata": {},
   "source": [
    "The feature 'department' represents an associated department with the instance."
   ]
  },
  {
   "cell_type": "code",
   "execution_count": 14,
   "id": "d2c64565",
   "metadata": {},
   "outputs": [
    {
     "data": {
      "text/plain": [
       "array(['sweing', 'finishing ', 'finishing'], dtype=object)"
      ]
     },
     "execution_count": 14,
     "metadata": {},
     "output_type": "execute_result"
    }
   ],
   "source": [
    "df_reg['department'].unique()"
   ]
  },
  {
   "cell_type": "code",
   "execution_count": 15,
   "id": "cf5718e4",
   "metadata": {},
   "outputs": [],
   "source": [
    "# Spelling correction : 'sweing' to 'sewing'\n",
    "df_reg['department']=df_reg['department'].replace(['sweing'],['sewing'])"
   ]
  },
  {
   "cell_type": "code",
   "execution_count": 16,
   "id": "bf61466e",
   "metadata": {},
   "outputs": [
    {
     "data": {
      "text/plain": [
       "(array([0, 1, 2]),\n",
       " [Text(0, 0, 'finishing'), Text(1, 0, 'finishing '), Text(2, 0, 'sewing')])"
      ]
     },
     "execution_count": 16,
     "metadata": {},
     "output_type": "execute_result"
    },
    {
     "data": {
      "image/png": "[encoded data removed]",
      "text/plain": [
       "<Figure size 864x432 with 1 Axes>"
      ]
     },
     "metadata": {
      "needs_background": "light"
     },
     "output_type": "display_data"
    }
   ],
   "source": [
    "df_reg.groupby('department').count()['no_of_workers'].plot(kind = 'bar',  \n",
    "                                                         title = 'No of workers department-wise Histogram')\n",
    "plt.xticks(rotation=0)"
   ]
  },
  {
   "cell_type": "markdown",
   "id": "0e0fb7b0",
   "metadata": {},
   "source": [
    "There are 3 department namely 'sewing', 'finishing' and 'finishing ', we will use 'finishing ' for our null value\n",
    "handling and finally prepare 2 distinct groups of 'sewing', 'finishing' later on...\n"
   ]
  },
  {
   "cell_type": "markdown",
   "id": "125944a0",
   "metadata": {},
   "source": [
    "# Feature 5 : 'team' "
   ]
  },
  {
   "cell_type": "markdown",
   "id": "595df9d8",
   "metadata": {},
   "source": [
    "The feature 'teamno' represents an associated team number with the instance."
   ]
  },
  {
   "cell_type": "code",
   "execution_count": 17,
   "id": "3ff6d968",
   "metadata": {},
   "outputs": [
    {
     "data": {
      "text/plain": [
       "8     109\n",
       "2     109\n",
       "1     105\n",
       "4     105\n",
       "9     104\n",
       "10    100\n",
       "12     99\n",
       "7      96\n",
       "3      95\n",
       "6      94\n",
       "5      93\n",
       "11     88\n",
       "Name: team, dtype: int64"
      ]
     },
     "execution_count": 17,
     "metadata": {},
     "output_type": "execute_result"
    }
   ],
   "source": [
    "df_reg['team'].value_counts()"
   ]
  },
  {
   "cell_type": "code",
   "execution_count": 18,
   "id": "f324046a",
   "metadata": {},
   "outputs": [
    {
     "data": {
      "image/png": "[encoded data removed]",
      "text/plain": [
       "<Figure size 864x432 with 1 Axes>"
      ]
     },
     "metadata": {
      "needs_background": "light"
     },
     "output_type": "display_data"
    }
   ],
   "source": [
    "team_count = sns.countplot(x = 'team', data = df_reg)\n",
    "plt.xlabel('No of Teams')\n",
    "plt.show()"
   ]
  },
  {
   "cell_type": "markdown",
   "id": "d77c4054",
   "metadata": {},
   "source": [
    "# Feature 6 : 'no_of_workers' "
   ]
  },
  {
   "cell_type": "markdown",
   "id": "cd09ca5f",
   "metadata": {},
   "source": [
    "The feature 'no_of_workers' represents the Number of workers in each team."
   ]
  },
  {
   "cell_type": "code",
   "execution_count": 19,
   "id": "401995fc",
   "metadata": {},
   "outputs": [
    {
     "data": {
      "text/plain": [
       "<AxesSubplot:>"
      ]
     },
     "execution_count": 19,
     "metadata": {},
     "output_type": "execute_result"
    },
    {
     "data": {
      "image/png": "[encoded data removed]",
      "text/plain": [
       "<Figure size 720x720 with 1 Axes>"
      ]
     },
     "metadata": {
      "needs_background": "light"
     },
     "output_type": "display_data"
    }
   ],
   "source": [
    "df_reg.boxplot(column=['no_of_workers'],figsize=(10,10))"
   ]
  },
  {
   "cell_type": "code",
   "execution_count": 20,
   "id": "930121be",
   "metadata": {},
   "outputs": [
    {
     "data": {
      "image/png": "[encoded data removed]",
      "text/plain": [
       "<Figure size 864x432 with 1 Axes>"
      ]
     },
     "metadata": {
      "needs_background": "light"
     },
     "output_type": "display_data"
    }
   ],
   "source": [
    "df_reg['no_of_workers'].plot(kind='hist')\n",
    "plt.show()"
   ]
  },
  {
   "cell_type": "markdown",
   "id": "151bbd33",
   "metadata": {},
   "source": [
    "# Feature 7 : 'no_of_stylechange' "
   ]
  },
  {
   "cell_type": "markdown",
   "id": "56d9f343",
   "metadata": {},
   "source": [
    "The feature 'no_of_stylechange' represents the Number of changes in the style of a particular product."
   ]
  },
  {
   "cell_type": "code",
   "execution_count": 21,
   "id": "06820838",
   "metadata": {},
   "outputs": [
    {
     "data": {
      "text/plain": [
       "array([0, 1, 2])"
      ]
     },
     "execution_count": 21,
     "metadata": {},
     "output_type": "execute_result"
    }
   ],
   "source": [
    "df_reg['no_of_style_change'].unique()"
   ]
  },
  {
   "cell_type": "code",
   "execution_count": 22,
   "id": "4db366e5",
   "metadata": {},
   "outputs": [
    {
     "data": {
      "image/png": "[encoded data removed]",
      "text/plain": [
       "<Figure size 864x432 with 1 Axes>"
      ]
     },
     "metadata": {
      "needs_background": "light"
     },
     "output_type": "display_data"
    }
   ],
   "source": [
    "df_reg['no_of_style_change'].plot(kind='hist')\n",
    "plt.show()"
   ]
  },
  {
   "cell_type": "markdown",
   "id": "47b823d4",
   "metadata": {},
   "source": [
    "# Feature 8 : 'targeted_productivity' "
   ]
  },
  {
   "cell_type": "markdown",
   "id": "33e95af4",
   "metadata": {},
   "source": [
    "The feature 'targeted_productivity'represents argeted productivity set by the Authority for each team for each day."
   ]
  },
  {
   "cell_type": "code",
   "execution_count": 23,
   "id": "7ad6430c",
   "metadata": {},
   "outputs": [
    {
     "data": {
      "text/plain": [
       "<AxesSubplot:>"
      ]
     },
     "execution_count": 23,
     "metadata": {},
     "output_type": "execute_result"
    },
    {
     "data": {
      "image/png": "[encoded data removed]",
      "text/plain": [
       "<Figure size 720x720 with 1 Axes>"
      ]
     },
     "metadata": {
      "needs_background": "light"
     },
     "output_type": "display_data"
    }
   ],
   "source": [
    "df_reg.boxplot(column=['targeted_productivity'],figsize=(10,10))"
   ]
  },
  {
   "cell_type": "markdown",
   "id": "11c586c3",
   "metadata": {},
   "source": [
    "Observaion : Targeted productivity tends to inflate more beyond 70%"
   ]
  },
  {
   "cell_type": "markdown",
   "id": "d893ccc3",
   "metadata": {},
   "source": [
    "# Feature 9 : 'smv' "
   ]
  },
  {
   "cell_type": "markdown",
   "id": "b5e4df8c",
   "metadata": {},
   "source": [
    "The feature 'smv' represents Standard Minute Value, it is the allocated time for a task."
   ]
  },
  {
   "cell_type": "code",
   "execution_count": 24,
   "id": "50d292fd",
   "metadata": {},
   "outputs": [
    {
     "data": {
      "text/plain": [
       "<AxesSubplot:>"
      ]
     },
     "execution_count": 24,
     "metadata": {},
     "output_type": "execute_result"
    },
    {
     "data": {
      "image/png": "[encoded data removed]",
      "text/plain": [
       "<Figure size 720x720 with 1 Axes>"
      ]
     },
     "metadata": {
      "needs_background": "light"
     },
     "output_type": "display_data"
    }
   ],
   "source": [
    "df_reg.boxplot(column=['smv'],figsize=(10,10))"
   ]
  },
  {
   "cell_type": "markdown",
   "id": "0fa99b3e",
   "metadata": {},
   "source": [
    "Observation : Overall average allocated time for a single task is more than 15 minutes"
   ]
  },
  {
   "cell_type": "markdown",
   "id": "93e310b5",
   "metadata": {},
   "source": [
    "# Feature 10 : 'wip' "
   ]
  },
  {
   "cell_type": "markdown",
   "id": "8a0bebac",
   "metadata": {},
   "source": [
    "The feature 'wip'  as Work in progress. Includes the number of unfinished items for products."
   ]
  },
  {
   "cell_type": "code",
   "execution_count": 25,
   "id": "e21a7fc1",
   "metadata": {},
   "outputs": [
    {
     "data": {
      "text/plain": [
       "<AxesSubplot:>"
      ]
     },
     "execution_count": 25,
     "metadata": {},
     "output_type": "execute_result"
    },
    {
     "data": {
      "image/png": "[encoded data removed]",
      "text/plain": [
       "<Figure size 720x720 with 1 Axes>"
      ]
     },
     "metadata": {
      "needs_background": "light"
     },
     "output_type": "display_data"
    }
   ],
   "source": [
    "df_reg.boxplot(column=['wip'],figsize=(10,10))"
   ]
  },
  {
   "cell_type": "code",
   "execution_count": 26,
   "id": "663ab63b",
   "metadata": {},
   "outputs": [
    {
     "data": {
      "image/png": "[encoded data removed]",
      "text/plain": [
       "<Figure size 864x432 with 1 Axes>"
      ]
     },
     "metadata": {
      "needs_background": "light"
     },
     "output_type": "display_data"
    }
   ],
   "source": [
    "df_reg['wip'].plot(kind='hist')\n",
    "plt.show()"
   ]
  },
  {
   "cell_type": "markdown",
   "id": "98c7ec0d",
   "metadata": {},
   "source": [
    "# Feature 11 : 'overtime' "
   ]
  },
  {
   "cell_type": "markdown",
   "id": "514c7eae",
   "metadata": {},
   "source": [
    "The feature 'overtime' represents the amount of overtime by each team in minutes."
   ]
  },
  {
   "cell_type": "code",
   "execution_count": 27,
   "id": "eb00822e",
   "metadata": {},
   "outputs": [
    {
     "data": {
      "text/plain": [
       "array([ 7080,   960,  3660,  1920,  6720,  6900,  6000,  6480,  2160,\n",
       "        7200,  1440,  6600,  5640,  1560,  6300,  6540, 13800,  6975,\n",
       "        7020,  6780,  4260,  6660,  4320,  6960,  2400,  3840,  4800,\n",
       "        4440,  1800,  2700, 10620, 10350,  9900,  5310, 10170,  4470,\n",
       "       10530, 10440,  5490,  5670,  9720, 12600, 10050, 15120, 14640,\n",
       "         900, 25920, 10260,  2760,  4710,  9540,  7680,  3600,  6420,\n",
       "        7980,  3240,  8220,  6930,  8460,  7350,  5400,  1620,  1980,\n",
       "        2970,  7320,  5100,  3390,  1260,  3420,  8970,  4950, 10080,\n",
       "        9810,  6570,  5040,  4380,  3630,  8280,  6120,  5580,  3720,\n",
       "        5760,  7470, 10500,  6360,  4140,  8400, 12180,  9000, 15000,\n",
       "       10770, 12000,  9360,  3060,  2520,   720,  3780, 10320,   360,\n",
       "        6840,  1080,  1200,  4080,   240,  5880,  6240,  4200,  3960,\n",
       "         600,  2280,  5940,  1320,  5460,  2040,  4020,  3000,  3360,\n",
       "        5820,  6060,  2640,  7500,  2880,   120,  3300,     0,  3480,\n",
       "        7380,  4560,  7140,  5160,  5280,   840,  5520,   480,  8160,\n",
       "        5700,  2820,  5340,  1680,  7560,  1700,  4680,  3120])"
      ]
     },
     "execution_count": 27,
     "metadata": {},
     "output_type": "execute_result"
    }
   ],
   "source": [
    "df_reg['over_time'].unique()"
   ]
  },
  {
   "cell_type": "code",
   "execution_count": 28,
   "id": "5e606fc6",
   "metadata": {},
   "outputs": [
    {
     "data": {
      "text/plain": [
       "<AxesSubplot:>"
      ]
     },
     "execution_count": 28,
     "metadata": {},
     "output_type": "execute_result"
    },
    {
     "data": {
      "image/png": "[encoded data removed]",
      "text/plain": [
       "<Figure size 720x720 with 1 Axes>"
      ]
     },
     "metadata": {
      "needs_background": "light"
     },
     "output_type": "display_data"
    }
   ],
   "source": [
    "df_reg.boxplot(column=['over_time'],figsize=(10,10))"
   ]
  },
  {
   "cell_type": "markdown",
   "id": "442266f1",
   "metadata": {},
   "source": [
    "# Feature 12 : 'incentive' "
   ]
  },
  {
   "cell_type": "markdown",
   "id": "bd805f34",
   "metadata": {},
   "source": [
    "The feature 'incentive' represents the amount of financial incentive (in BDT) that enables or motivates a particular course of action."
   ]
  },
  {
   "cell_type": "code",
   "execution_count": 29,
   "id": "b019ca51",
   "metadata": {},
   "outputs": [
    {
     "data": {
      "text/plain": [
       "<AxesSubplot:>"
      ]
     },
     "execution_count": 29,
     "metadata": {},
     "output_type": "execute_result"
    },
    {
     "data": {
      "image/png": "[encoded data removed]",
      "text/plain": [
       "<Figure size 720x720 with 1 Axes>"
      ]
     },
     "metadata": {
      "needs_background": "light"
     },
     "output_type": "display_data"
    }
   ],
   "source": [
    "df_reg.boxplot(column=['incentive'],figsize=(10,10))"
   ]
  },
  {
   "cell_type": "code",
   "execution_count": 30,
   "id": "82615485",
   "metadata": {},
   "outputs": [
    {
     "data": {
      "image/png": "[encoded data removed]",
      "text/plain": [
       "<Figure size 864x432 with 1 Axes>"
      ]
     },
     "metadata": {
      "needs_background": "light"
     },
     "output_type": "display_data"
    }
   ],
   "source": [
    "df_reg['incentive'].plot(kind='hist')\n",
    "plt.show()"
   ]
  },
  {
   "cell_type": "markdown",
   "id": "21b1df75",
   "metadata": {},
   "source": [
    "Observation : There are a few high incentives involved. May be those speicific high incentive tasks\n",
    "belong to a particular department and team. We will see it soon!"
   ]
  },
  {
   "cell_type": "markdown",
   "id": "b8346497",
   "metadata": {},
   "source": [
    "# Feature 13 : 'idle_time' "
   ]
  },
  {
   "cell_type": "markdown",
   "id": "824e2c9d",
   "metadata": {},
   "source": [
    "The feature'idle_time' represents the amount of time when the production was interrupted due to several reasons."
   ]
  },
  {
   "cell_type": "code",
   "execution_count": 31,
   "id": "7946c1ad",
   "metadata": {},
   "outputs": [
    {
     "data": {
      "text/plain": [
       "<AxesSubplot:>"
      ]
     },
     "execution_count": 31,
     "metadata": {},
     "output_type": "execute_result"
    },
    {
     "data": {
      "image/png": "[encoded data removed]",
      "text/plain": [
       "<Figure size 720x720 with 1 Axes>"
      ]
     },
     "metadata": {
      "needs_background": "light"
     },
     "output_type": "display_data"
    }
   ],
   "source": [
    "df_reg.boxplot(column=['idle_time'],figsize=(10,10))"
   ]
  },
  {
   "cell_type": "code",
   "execution_count": 32,
   "id": "49964e8e",
   "metadata": {},
   "outputs": [
    {
     "data": {
      "image/png": "[encoded data removed]",
      "text/plain": [
       "<Figure size 864x432 with 1 Axes>"
      ]
     },
     "metadata": {
      "needs_background": "light"
     },
     "output_type": "display_data"
    }
   ],
   "source": [
    "df_reg['idle_time'].plot(kind='hist')\n",
    "plt.show()"
   ]
  },
  {
   "cell_type": "markdown",
   "id": "563d1a9b",
   "metadata": {},
   "source": [
    "Observation : Idle time is between 0-30 minutes (approx.) for most of the observations, however a few tasks might possess a\n",
    "large idle time"
   ]
  },
  {
   "cell_type": "markdown",
   "id": "46d5bc18",
   "metadata": {},
   "source": [
    "# Feature 14 : 'idle_men' "
   ]
  },
  {
   "cell_type": "markdown",
   "id": "63e9e570",
   "metadata": {},
   "source": [
    "The feature 'idle_men'represents the number of workers who were idle due to production interruption."
   ]
  },
  {
   "cell_type": "code",
   "execution_count": 33,
   "id": "54614fc0",
   "metadata": {},
   "outputs": [
    {
     "data": {
      "text/plain": [
       "<AxesSubplot:>"
      ]
     },
     "execution_count": 33,
     "metadata": {},
     "output_type": "execute_result"
    },
    {
     "data": {
      "image/png": "[encoded data removed]",
      "text/plain": [
       "<Figure size 720x720 with 1 Axes>"
      ]
     },
     "metadata": {
      "needs_background": "light"
     },
     "output_type": "display_data"
    }
   ],
   "source": [
    "df_reg.boxplot(column=['idle_men'],figsize=(10,10))"
   ]
  },
  {
   "cell_type": "code",
   "execution_count": 34,
   "id": "f552d7ae",
   "metadata": {},
   "outputs": [
    {
     "data": {
      "image/png": "[encoded data removed]",
      "text/plain": [
       "<Figure size 864x432 with 1 Axes>"
      ]
     },
     "metadata": {
      "needs_background": "light"
     },
     "output_type": "display_data"
    }
   ],
   "source": [
    "df_reg['idle_men'].plot(kind='hist')\n",
    "plt.show()"
   ]
  },
  {
   "cell_type": "markdown",
   "id": "89929765",
   "metadata": {},
   "source": [
    "Observation : Because of low idle time for most of the observations the frequency of number of idle \n",
    "men is higher between 0-5, however a few tasks might possess a large idle time so more workers might be idle\n",
    "for those tasks."
   ]
  },
  {
   "cell_type": "markdown",
   "id": "6afad6c3",
   "metadata": {},
   "source": [
    "# Feature 15 : 'actual_productivity'"
   ]
  },
  {
   "cell_type": "markdown",
   "id": "3f3cf2fa",
   "metadata": {},
   "source": [
    "The feature 'actual_productivity'represents the actual % of productivity that was delivered by the workers. It ranges from 0-1."
   ]
  },
  {
   "cell_type": "code",
   "execution_count": 35,
   "id": "34b8a381",
   "metadata": {},
   "outputs": [
    {
     "data": {
      "text/plain": [
       "<AxesSubplot:>"
      ]
     },
     "execution_count": 35,
     "metadata": {},
     "output_type": "execute_result"
    },
    {
     "data": {
      "image/png": "[encoded data removed]",
      "text/plain": [
       "<Figure size 720x720 with 1 Axes>"
      ]
     },
     "metadata": {
      "needs_background": "light"
     },
     "output_type": "display_data"
    }
   ],
   "source": [
    "df_reg.boxplot(column=['actual_productivity'],figsize=(10,10))"
   ]
  },
  {
   "cell_type": "markdown",
   "id": "aa62b534",
   "metadata": {},
   "source": [
    "Observation : Average actual productivity across the board is below 75% in contrast to average targeted productivity (more than 75%). Targeted prodcutivity tends to inflate more"
   ]
  },
  {
   "cell_type": "markdown",
   "id": "8294351e",
   "metadata": {},
   "source": [
    "# Performance Measure"
   ]
  },
  {
   "cell_type": "code",
   "execution_count": 36,
   "id": "248d65ac",
   "metadata": {},
   "outputs": [
    {
     "data": {
      "text/plain": [
       "Index(['date', 'quarter', 'department', 'day', 'team', 'targeted_productivity',\n",
       "       'smv', 'wip', 'over_time', 'incentive', 'idle_time', 'idle_men',\n",
       "       'no_of_style_change', 'no_of_workers', 'actual_productivity',\n",
       "       'difference'],\n",
       "      dtype='object')"
      ]
     },
     "execution_count": 36,
     "metadata": {},
     "output_type": "execute_result"
    }
   ],
   "source": [
    "df_reg_performance = df_reg.copy()\n",
    "\n",
    "df_reg_performance['difference'] = df_reg.actual_productivity - df_reg.targeted_productivity\n",
    "df_reg_performance.columns"
   ]
  },
  {
   "cell_type": "code",
   "execution_count": 37,
   "id": "0d854e03",
   "metadata": {},
   "outputs": [
    {
     "data": {
      "text/html": [
       "<div>\n",
       "<style scoped>\n",
       "    .dataframe tbody tr th:only-of-type {\n",
       "        vertical-align: middle;\n",
       "    }\n",
       "\n",
       "    .dataframe tbody tr th {\n",
       "        vertical-align: top;\n",
       "    }\n",
       "\n",
       "    .dataframe thead th {\n",
       "        text-align: right;\n",
       "    }\n",
       "</style>\n",
       "<table border=\"1\" class=\"dataframe\">\n",
       "  <thead>\n",
       "    <tr style=\"text-align: right;\">\n",
       "      <th></th>\n",
       "      <th>date</th>\n",
       "      <th>quarter</th>\n",
       "      <th>department</th>\n",
       "      <th>day</th>\n",
       "      <th>team</th>\n",
       "      <th>targeted_productivity</th>\n",
       "      <th>smv</th>\n",
       "      <th>wip</th>\n",
       "      <th>over_time</th>\n",
       "      <th>incentive</th>\n",
       "      <th>idle_time</th>\n",
       "      <th>idle_men</th>\n",
       "      <th>no_of_style_change</th>\n",
       "      <th>no_of_workers</th>\n",
       "      <th>actual_productivity</th>\n",
       "      <th>difference</th>\n",
       "      <th>Perform_label</th>\n",
       "    </tr>\n",
       "  </thead>\n",
       "  <tbody>\n",
       "    <tr>\n",
       "      <th>0</th>\n",
       "      <td>1/1/2015</td>\n",
       "      <td>Quarter1</td>\n",
       "      <td>sewing</td>\n",
       "      <td>Thursday</td>\n",
       "      <td>8</td>\n",
       "      <td>0.80</td>\n",
       "      <td>26.16</td>\n",
       "      <td>1108.0</td>\n",
       "      <td>7080</td>\n",
       "      <td>98</td>\n",
       "      <td>0.0</td>\n",
       "      <td>0</td>\n",
       "      <td>0</td>\n",
       "      <td>59.0</td>\n",
       "      <td>0.940725</td>\n",
       "      <td>0.140725</td>\n",
       "      <td>1.0</td>\n",
       "    </tr>\n",
       "    <tr>\n",
       "      <th>1</th>\n",
       "      <td>1/1/2015</td>\n",
       "      <td>Quarter1</td>\n",
       "      <td>finishing</td>\n",
       "      <td>Thursday</td>\n",
       "      <td>1</td>\n",
       "      <td>0.75</td>\n",
       "      <td>3.94</td>\n",
       "      <td>NaN</td>\n",
       "      <td>960</td>\n",
       "      <td>0</td>\n",
       "      <td>0.0</td>\n",
       "      <td>0</td>\n",
       "      <td>0</td>\n",
       "      <td>8.0</td>\n",
       "      <td>0.886500</td>\n",
       "      <td>0.136500</td>\n",
       "      <td>1.0</td>\n",
       "    </tr>\n",
       "    <tr>\n",
       "      <th>2</th>\n",
       "      <td>1/1/2015</td>\n",
       "      <td>Quarter1</td>\n",
       "      <td>sewing</td>\n",
       "      <td>Thursday</td>\n",
       "      <td>11</td>\n",
       "      <td>0.80</td>\n",
       "      <td>11.41</td>\n",
       "      <td>968.0</td>\n",
       "      <td>3660</td>\n",
       "      <td>50</td>\n",
       "      <td>0.0</td>\n",
       "      <td>0</td>\n",
       "      <td>0</td>\n",
       "      <td>30.5</td>\n",
       "      <td>0.800570</td>\n",
       "      <td>0.000570</td>\n",
       "      <td>1.0</td>\n",
       "    </tr>\n",
       "    <tr>\n",
       "      <th>3</th>\n",
       "      <td>1/1/2015</td>\n",
       "      <td>Quarter1</td>\n",
       "      <td>sewing</td>\n",
       "      <td>Thursday</td>\n",
       "      <td>12</td>\n",
       "      <td>0.80</td>\n",
       "      <td>11.41</td>\n",
       "      <td>968.0</td>\n",
       "      <td>3660</td>\n",
       "      <td>50</td>\n",
       "      <td>0.0</td>\n",
       "      <td>0</td>\n",
       "      <td>0</td>\n",
       "      <td>30.5</td>\n",
       "      <td>0.800570</td>\n",
       "      <td>0.000570</td>\n",
       "      <td>1.0</td>\n",
       "    </tr>\n",
       "    <tr>\n",
       "      <th>4</th>\n",
       "      <td>1/1/2015</td>\n",
       "      <td>Quarter1</td>\n",
       "      <td>sewing</td>\n",
       "      <td>Thursday</td>\n",
       "      <td>6</td>\n",
       "      <td>0.80</td>\n",
       "      <td>25.90</td>\n",
       "      <td>1170.0</td>\n",
       "      <td>1920</td>\n",
       "      <td>50</td>\n",
       "      <td>0.0</td>\n",
       "      <td>0</td>\n",
       "      <td>0</td>\n",
       "      <td>56.0</td>\n",
       "      <td>0.800382</td>\n",
       "      <td>0.000382</td>\n",
       "      <td>1.0</td>\n",
       "    </tr>\n",
       "  </tbody>\n",
       "</table>\n",
       "</div>"
      ],
      "text/plain": [
       "       date   quarter  department       day  team  targeted_productivity  \\\n",
       "0  1/1/2015  Quarter1      sewing  Thursday     8                   0.80   \n",
       "1  1/1/2015  Quarter1  finishing   Thursday     1                   0.75   \n",
       "2  1/1/2015  Quarter1      sewing  Thursday    11                   0.80   \n",
       "3  1/1/2015  Quarter1      sewing  Thursday    12                   0.80   \n",
       "4  1/1/2015  Quarter1      sewing  Thursday     6                   0.80   \n",
       "\n",
       "     smv     wip  over_time  incentive  idle_time  idle_men  \\\n",
       "0  26.16  1108.0       7080         98        0.0         0   \n",
       "1   3.94     NaN        960          0        0.0         0   \n",
       "2  11.41   968.0       3660         50        0.0         0   \n",
       "3  11.41   968.0       3660         50        0.0         0   \n",
       "4  25.90  1170.0       1920         50        0.0         0   \n",
       "\n",
       "   no_of_style_change  no_of_workers  actual_productivity  difference  \\\n",
       "0                   0           59.0             0.940725    0.140725   \n",
       "1                   0            8.0             0.886500    0.136500   \n",
       "2                   0           30.5             0.800570    0.000570   \n",
       "3                   0           30.5             0.800570    0.000570   \n",
       "4                   0           56.0             0.800382    0.000382   \n",
       "\n",
       "   Perform_label  \n",
       "0            1.0  \n",
       "1            1.0  \n",
       "2            1.0  \n",
       "3            1.0  \n",
       "4            1.0  "
      ]
     },
     "execution_count": 37,
     "metadata": {},
     "output_type": "execute_result"
    }
   ],
   "source": [
    "df_reg_performance['Perform_label'] = np.nan\n",
    "df_reg_performance.head()\n",
    "df_reg_performance.loc[df_reg_performance['difference']<0,'Perform_label'] = -1\n",
    "df_reg_performance.loc[(df_reg_performance['difference']==0), 'Perform_label'] = 0\n",
    "df_reg_performance.loc[df_reg_performance['difference']>0, 'Perform_label'] = 1\n",
    "df_reg_performance.head()"
   ]
  },
  {
   "cell_type": "code",
   "execution_count": 38,
   "id": "d39e89f5",
   "metadata": {},
   "outputs": [
    {
     "data": {
      "image/png": "[encoded data removed]",
      "text/plain": [
       "<Figure size 864x432 with 1 Axes>"
      ]
     },
     "metadata": {
      "needs_background": "light"
     },
     "output_type": "display_data"
    }
   ],
   "source": [
    "perform_label_plo = sns.countplot(x = 'Perform_label', data = df_reg_performance, palette='Set1')\n",
    "plt.xlabel('No of Target_label')\n",
    "\n",
    "plt.show()"
   ]
  },
  {
   "cell_type": "markdown",
   "id": "73ecc4ce",
   "metadata": {},
   "source": [
    "So, there are more over-performance records than under-performed. It seems that expected productvity performance\n",
    "is hardly forecasted correctly"
   ]
  },
  {
   "cell_type": "markdown",
   "id": "310b2132",
   "metadata": {},
   "source": [
    "# Parsing the missing values across multiple columns"
   ]
  },
  {
   "cell_type": "code",
   "execution_count": 39,
   "id": "401baa06",
   "metadata": {},
   "outputs": [
    {
     "data": {
      "text/plain": [
       "date                       0\n",
       "quarter                    0\n",
       "department                 0\n",
       "day                        0\n",
       "team                       0\n",
       "targeted_productivity      0\n",
       "smv                        0\n",
       "wip                      506\n",
       "over_time                  0\n",
       "incentive                  0\n",
       "idle_time                  0\n",
       "idle_men                   0\n",
       "no_of_style_change         0\n",
       "no_of_workers              0\n",
       "actual_productivity        0\n",
       "dtype: int64"
      ]
     },
     "execution_count": 39,
     "metadata": {},
     "output_type": "execute_result"
    }
   ],
   "source": [
    "df_reg.isnull().sum()"
   ]
  },
  {
   "cell_type": "markdown",
   "id": "90c8efbe",
   "metadata": {},
   "source": [
    "ONLY 'wip' feature seems to have missing values worth (506/(1196*15)) or 2.8%. So to adjust missing values we spread the missing values across other columns to make it 5-10% across the dataset"
   ]
  },
  {
   "cell_type": "code",
   "execution_count": 40,
   "id": "c1fc9cae",
   "metadata": {},
   "outputs": [],
   "source": [
    "df_reg['department'].replace({'finishing ':np.nan}, inplace = True)\n",
    "df_reg['quarter'].replace({'Quarter5':np.nan}, inplace = True)\n",
    "df_reg['targeted_productivity'].replace({0.07:np.nan}, inplace = True)\n",
    "df_reg['incentive'].replace({0:np.nan}, inplace = True)"
   ]
  },
  {
   "cell_type": "code",
   "execution_count": 41,
   "id": "2a6b85ef",
   "metadata": {},
   "outputs": [
    {
     "data": {
      "text/plain": [
       "date                       0\n",
       "quarter                   44\n",
       "department               257\n",
       "day                        0\n",
       "team                       0\n",
       "targeted_productivity      1\n",
       "smv                        0\n",
       "wip                      506\n",
       "over_time                  0\n",
       "incentive                604\n",
       "idle_time                  0\n",
       "idle_men                   0\n",
       "no_of_style_change         0\n",
       "no_of_workers              0\n",
       "actual_productivity        0\n",
       "dtype: int64"
      ]
     },
     "execution_count": 41,
     "metadata": {},
     "output_type": "execute_result"
    }
   ],
   "source": [
    "df_reg.isnull().sum()"
   ]
  },
  {
   "cell_type": "code",
   "execution_count": 42,
   "id": "d0d2cbcf",
   "metadata": {},
   "outputs": [
    {
     "data": {
      "text/plain": [
       "date                      0.000000\n",
       "quarter                   3.675856\n",
       "department               21.470343\n",
       "day                       0.000000\n",
       "team                      0.000000\n",
       "targeted_productivity     0.083542\n",
       "smv                       0.000000\n",
       "wip                      42.272348\n",
       "over_time                 0.000000\n",
       "incentive                50.459482\n",
       "idle_time                 0.000000\n",
       "idle_men                  0.000000\n",
       "no_of_style_change        0.000000\n",
       "no_of_workers             0.000000\n",
       "actual_productivity       0.000000\n",
       "dtype: float64"
      ]
     },
     "execution_count": 42,
     "metadata": {},
     "output_type": "execute_result"
    }
   ],
   "source": [
    "percent_missing = df_reg.isnull().sum() * 100 / len(df_reg)\n",
    "percent_missing"
   ]
  },
  {
   "cell_type": "code",
   "execution_count": 43,
   "id": "ee1b39a5",
   "metadata": {},
   "outputs": [
    {
     "data": {
      "text/plain": [
       "0.07864104706209969"
      ]
     },
     "execution_count": 43,
     "metadata": {},
     "output_type": "execute_result"
    }
   ],
   "source": [
    "missing_across_dataset = df_reg.isnull().sum().sum()/(len(df_reg)*15)\n",
    "missing_across_dataset"
   ]
  },
  {
   "cell_type": "markdown",
   "id": "a150456d",
   "metadata": {},
   "source": [
    "Now the missing value across the entire dataset becomes 7.8% which is acceptable in terms of project requirement"
   ]
  },
  {
   "cell_type": "code",
   "execution_count": 44,
   "id": "5e6b288b",
   "metadata": {},
   "outputs": [
    {
     "name": "stdout",
     "output_type": "stream",
     "text": [
      "<class 'pandas.core.frame.DataFrame'>\n",
      "RangeIndex: 1197 entries, 0 to 1196\n",
      "Data columns (total 15 columns):\n",
      " #   Column                 Non-Null Count  Dtype  \n",
      "---  ------                 --------------  -----  \n",
      " 0   date                   1197 non-null   object \n",
      " 1   quarter                1153 non-null   object \n",
      " 2   department             940 non-null    object \n",
      " 3   day                    1197 non-null   object \n",
      " 4   team                   1197 non-null   int64  \n",
      " 5   targeted_productivity  1196 non-null   float64\n",
      " 6   smv                    1197 non-null   float64\n",
      " 7   wip                    691 non-null    float64\n",
      " 8   over_time              1197 non-null   int64  \n",
      " 9   incentive              593 non-null    float64\n",
      " 10  idle_time              1197 non-null   float64\n",
      " 11  idle_men               1197 non-null   int64  \n",
      " 12  no_of_style_change     1197 non-null   int64  \n",
      " 13  no_of_workers          1197 non-null   float64\n",
      " 14  actual_productivity    1197 non-null   float64\n",
      "dtypes: float64(7), int64(4), object(4)\n",
      "memory usage: 140.4+ KB\n"
     ]
    }
   ],
   "source": [
    "df_reg.info()"
   ]
  },
  {
   "cell_type": "markdown",
   "id": "c1219b36",
   "metadata": {},
   "source": [
    "# No of rows having at least 1 Missing value"
   ]
  },
  {
   "cell_type": "code",
   "execution_count": 45,
   "id": "3efaa94b",
   "metadata": {},
   "outputs": [
    {
     "data": {
      "text/plain": [
       "634"
      ]
     },
     "execution_count": 45,
     "metadata": {},
     "output_type": "execute_result"
    }
   ],
   "source": [
    "sum([True for idx,row in df_reg.iterrows() if any(row.isnull())])"
   ]
  },
  {
   "cell_type": "markdown",
   "id": "bf11cdd0",
   "metadata": {},
   "source": [
    "# Transforming a few data types "
   ]
  },
  {
   "cell_type": "code",
   "execution_count": 46,
   "id": "335b2535",
   "metadata": {},
   "outputs": [],
   "source": [
    "#converting 'date' to datetime\n",
    "df_reg['date'] = df_reg['date'].astype(np.datetime64)\n",
    "\n",
    "#converting 'team' to object\n",
    "df_reg['team'] = df_reg['team'].astype(str)"
   ]
  },
  {
   "cell_type": "code",
   "execution_count": 47,
   "id": "f8f077f1",
   "metadata": {},
   "outputs": [
    {
     "name": "stdout",
     "output_type": "stream",
     "text": [
      "<class 'pandas.core.frame.DataFrame'>\n",
      "RangeIndex: 1197 entries, 0 to 1196\n",
      "Data columns (total 15 columns):\n",
      " #   Column                 Non-Null Count  Dtype         \n",
      "---  ------                 --------------  -----         \n",
      " 0   date                   1197 non-null   datetime64[ns]\n",
      " 1   quarter                1153 non-null   object        \n",
      " 2   department             940 non-null    object        \n",
      " 3   day                    1197 non-null   object        \n",
      " 4   team                   1197 non-null   object        \n",
      " 5   targeted_productivity  1196 non-null   float64       \n",
      " 6   smv                    1197 non-null   float64       \n",
      " 7   wip                    691 non-null    float64       \n",
      " 8   over_time              1197 non-null   int64         \n",
      " 9   incentive              593 non-null    float64       \n",
      " 10  idle_time              1197 non-null   float64       \n",
      " 11  idle_men               1197 non-null   int64         \n",
      " 12  no_of_style_change     1197 non-null   int64         \n",
      " 13  no_of_workers          1197 non-null   float64       \n",
      " 14  actual_productivity    1197 non-null   float64       \n",
      "dtypes: datetime64[ns](1), float64(7), int64(3), object(4)\n",
      "memory usage: 140.4+ KB\n"
     ]
    }
   ],
   "source": [
    "df_reg.info()"
   ]
  },
  {
   "cell_type": "markdown",
   "id": "c6614816",
   "metadata": {},
   "source": [
    "# Data Preparation and Imputation of Missing Values:"
   ]
  },
  {
   "cell_type": "markdown",
   "id": "3883b65d",
   "metadata": {},
   "source": [
    "# Feature : 'quarter'"
   ]
  },
  {
   "cell_type": "code",
   "execution_count": 48,
   "id": "16d6a492",
   "metadata": {},
   "outputs": [
    {
     "data": {
      "text/plain": [
       "array(['Quarter1', 'Quarter2', 'Quarter3', 'Quarter4', nan], dtype=object)"
      ]
     },
     "execution_count": 48,
     "metadata": {},
     "output_type": "execute_result"
    }
   ],
   "source": [
    "df_reg['quarter'].unique()"
   ]
  },
  {
   "cell_type": "code",
   "execution_count": 49,
   "id": "b6043633",
   "metadata": {},
   "outputs": [
    {
     "data": {
      "text/plain": [
       "'Quarter1'"
      ]
     },
     "execution_count": 49,
     "metadata": {},
     "output_type": "execute_result"
    }
   ],
   "source": [
    "# finding the most frequent value in quarter column\n",
    "quarter_mode = df_reg['quarter'].value_counts().idxmax()\n",
    "#quarter_mode = df_reg['quarter'].value_counts()\n",
    "quarter_mode"
   ]
  },
  {
   "cell_type": "code",
   "execution_count": 50,
   "id": "995ac7ed",
   "metadata": {},
   "outputs": [],
   "source": [
    "# imputing missing values with Quarter1\n",
    "df_reg['quarter'].fillna(quarter_mode, inplace = True)"
   ]
  },
  {
   "cell_type": "code",
   "execution_count": 51,
   "id": "10f0fd6c",
   "metadata": {},
   "outputs": [
    {
     "data": {
      "text/plain": [
       "array(['Quarter1', 'Quarter2', 'Quarter3', 'Quarter4'], dtype=object)"
      ]
     },
     "execution_count": 51,
     "metadata": {},
     "output_type": "execute_result"
    }
   ],
   "source": [
    "df_reg['quarter'].unique()"
   ]
  },
  {
   "cell_type": "markdown",
   "id": "2215198c",
   "metadata": {},
   "source": [
    "# Feature : 'department'"
   ]
  },
  {
   "cell_type": "code",
   "execution_count": 52,
   "id": "0d3060c4",
   "metadata": {},
   "outputs": [
    {
     "data": {
      "text/plain": [
       "array(['sewing', nan, 'finishing'], dtype=object)"
      ]
     },
     "execution_count": 52,
     "metadata": {},
     "output_type": "execute_result"
    }
   ],
   "source": [
    "df_reg['department'].unique()"
   ]
  },
  {
   "cell_type": "code",
   "execution_count": 53,
   "id": "7125b603",
   "metadata": {},
   "outputs": [],
   "source": [
    "# Spelling correction : 'sweing' to 'sewing'\n",
    "df_reg['department']=df_reg['department'].replace(['sweing'],['sewing'])"
   ]
  },
  {
   "cell_type": "code",
   "execution_count": 54,
   "id": "fd0589f4",
   "metadata": {},
   "outputs": [
    {
     "data": {
      "text/plain": [
       "'sewing'"
      ]
     },
     "execution_count": 54,
     "metadata": {},
     "output_type": "execute_result"
    }
   ],
   "source": [
    "# finding the most frequent value in 'department' column\n",
    "dept_mode = df_reg['department'].value_counts().idxmax()\n",
    "#dept_mode = df_reg['department'].value_counts()\n",
    "dept_mode"
   ]
  },
  {
   "cell_type": "code",
   "execution_count": 55,
   "id": "cdf9d2d8",
   "metadata": {},
   "outputs": [],
   "source": [
    "# imputing missing values with 'sewing'\n",
    "df_reg['department'].fillna(dept_mode, inplace = True)"
   ]
  },
  {
   "cell_type": "markdown",
   "id": "e7777eea",
   "metadata": {},
   "source": [
    "# Feature : 'wip'"
   ]
  },
  {
   "cell_type": "code",
   "execution_count": 56,
   "id": "2fca15e3",
   "metadata": {},
   "outputs": [
    {
     "data": {
      "text/plain": [
       "array([1.1080e+03,        nan, 9.6800e+02, 1.1700e+03, 9.8400e+02,\n",
       "       7.9500e+02, 7.3300e+02, 6.8100e+02, 8.7200e+02, 5.7800e+02,\n",
       "       6.6800e+02, 8.6100e+02, 7.7200e+02, 9.1300e+02, 1.2610e+03,\n",
       "       8.4400e+02, 1.0050e+03, 6.5900e+02, 1.1520e+03, 1.1380e+03,\n",
       "       6.1000e+02, 9.4400e+02, 5.4400e+02, 1.0720e+03, 5.3900e+02,\n",
       "       1.2780e+03, 1.2270e+03, 1.0390e+03, 8.7800e+02, 1.0330e+03,\n",
       "       7.8200e+02, 1.2160e+03, 5.1300e+02, 7.3400e+02, 1.2020e+03,\n",
       "       8.8400e+02, 1.2550e+03, 1.0470e+03, 6.7800e+02, 7.1200e+02,\n",
       "       1.0370e+03, 7.5700e+02, 7.5900e+02, 1.0830e+03, 6.6600e+02,\n",
       "       1.1870e+03, 1.3050e+03, 7.1600e+02, 9.2500e+02, 9.6300e+02,\n",
       "       1.1010e+03, 1.0350e+03, 9.1000e+02, 1.2090e+03, 5.9000e+02,\n",
       "       8.0800e+02, 1.1790e+03, 1.3240e+03, 1.1350e+03, 7.7600e+02,\n",
       "       9.9000e+02, 9.8600e+02, 9.2400e+02, 1.1200e+03, 1.0660e+03,\n",
       "       1.1440e+03, 4.1300e+02, 5.6800e+02, 1.1890e+03, 9.4200e+02,\n",
       "       1.0500e+03, 1.0260e+03, 7.8300e+02, 8.5700e+02, 5.4800e+02,\n",
       "       4.1100e+02, 2.8700e+02, 7.2400e+02, 1.1220e+03, 9.7000e+02,\n",
       "       1.1580e+03, 6.6000e+02, 7.4900e+02, 8.9300e+02, 8.8700e+02,\n",
       "       1.3350e+03, 1.0820e+03, 1.0750e+03, 9.6600e+02, 1.0950e+03,\n",
       "       1.3830e+03, 1.0120e+03, 8.9600e+02, 8.0500e+02, 7.6200e+02,\n",
       "       1.0430e+03, 8.3100e+02, 5.6200e+02, 1.2080e+03, 1.0990e+03,\n",
       "       1.0930e+03, 1.0310e+03, 1.2330e+03, 9.4100e+02, 8.4300e+02,\n",
       "       7.6000e+02, 7.3700e+02, 3.8100e+02, 1.1410e+03, 1.0040e+03,\n",
       "       5.8100e+02, 1.0730e+03, 1.1560e+03, 1.2110e+03, 1.1260e+03,\n",
       "       1.0630e+03, 7.2300e+02, 4.6500e+02, 5.3000e+02, 1.2970e+03,\n",
       "       7.1500e+02, 1.1500e+03, 1.2320e+03, 1.2180e+03, 1.1590e+03,\n",
       "       9.7200e+02, 1.0920e+03, 9.6500e+02, 8.1600e+02, 9.4700e+02,\n",
       "       8.3800e+02, 1.0860e+03, 1.1600e+03, 1.1770e+03, 1.2810e+03,\n",
       "       1.3690e+03, 1.0840e+03, 3.9100e+02, 1.1020e+03, 1.0760e+03,\n",
       "       9.1700e+02, 1.0440e+03, 1.0670e+03, 1.3960e+03, 1.2920e+03,\n",
       "       1.7100e+02, 1.1280e+03, 8.6500e+02, 8.2500e+02, 1.1630e+03,\n",
       "       1.1400e+03, 1.0270e+03, 1.0520e+03, 6.2400e+02, 1.2880e+03,\n",
       "       1.3810e+03, 8.8200e+02, 1.0020e+03, 5.8500e+02, 1.0250e+03,\n",
       "       1.0280e+03, 1.3800e+03, 1.1960e+03, 1.0060e+03, 9.3000e+02,\n",
       "       9.3800e+02, 1.4840e+03, 1.0400e+03, 1.4920e+03, 1.1110e+03,\n",
       "       1.4340e+03, 3.9900e+02, 9.8300e+02, 1.1340e+03, 1.3630e+03,\n",
       "       1.5010e+03, 1.3520e+03, 1.4500e+03, 9.1600e+02, 1.4220e+03,\n",
       "       1.2060e+03, 1.4040e+03, 1.1390e+03, 1.7350e+03, 1.5950e+03,\n",
       "       1.2450e+03, 1.7200e+03, 1.5100e+03, 9.5500e+02, 1.3280e+03,\n",
       "       1.3840e+03, 1.2440e+03, 1.4800e+03, 1.8630e+03, 1.8590e+03,\n",
       "       9.8000e+02, 1.6060e+03, 7.2700e+02, 1.4720e+03, 1.3320e+03,\n",
       "       1.0090e+03, 1.2660e+03, 1.3160e+03, 1.2820e+03, 1.3820e+03,\n",
       "       1.2950e+03, 1.4480e+03, 8.6700e+02, 1.6360e+03, 1.6820e+03,\n",
       "       1.4950e+03, 1.1810e+03, 1.4130e+03, 3.6000e+02, 1.2960e+03,\n",
       "       1.2170e+03, 5.3200e+02, 1.5570e+03, 1.0160e+03, 1.5840e+03,\n",
       "       1.7640e+03, 1.7450e+03, 1.2500e+03, 1.1180e+03, 1.1430e+03,\n",
       "       1.3370e+03, 1.5190e+03, 1.6350e+03, 1.2990e+03, 1.1060e+03,\n",
       "       1.8710e+03, 1.2940e+03, 1.4620e+03, 9.7600e+02, 3.3800e+02,\n",
       "       1.4550e+03, 1.5590e+03, 1.3500e+03, 1.1750e+03, 1.8680e+03,\n",
       "       1.0450e+03, 1.3420e+03, 1.3400e+03, 1.4290e+03, 3.3600e+02,\n",
       "       5.1100e+02, 9.5800e+02, 1.4160e+03, 1.2870e+03, 1.4440e+03,\n",
       "       1.0880e+03, 1.5790e+03, 1.0150e+03, 1.4360e+03, 1.6010e+03,\n",
       "       7.1700e+02, 8.3000e+02, 1.1360e+03, 1.3970e+03, 1.1160e+03,\n",
       "       1.4320e+03, 1.5020e+03, 2.8200e+02, 1.4170e+03, 7.9900e+02,\n",
       "       1.1090e+03, 1.5820e+03, 1.1240e+03, 1.2760e+03, 1.1920e+03,\n",
       "       8.8100e+02, 1.4000e+03, 1.6882e+04, 2.1385e+04, 2.1266e+04,\n",
       "       2.1540e+04, 1.2261e+04, 2.3122e+04, 8.9920e+03, 9.7920e+03,\n",
       "       2.9840e+03, 8.3900e+02, 2.6980e+03, 1.4350e+03, 1.5000e+03,\n",
       "       1.1880e+03, 1.1120e+03, 1.4520e+03, 3.4000e+02, 1.0290e+03,\n",
       "       1.0700e+03, 9.4600e+02, 1.6390e+03, 4.1500e+02, 1.2630e+03,\n",
       "       1.5320e+03, 1.0940e+03, 1.4710e+03, 1.0420e+03, 1.2480e+03,\n",
       "       3.2600e+02, 1.3000e+03, 1.4850e+03, 1.0690e+03, 7.6600e+02,\n",
       "       5.5700e+02, 1.6080e+03, 4.1700e+02, 1.1670e+03, 1.1860e+03,\n",
       "       1.0600e+03, 1.5340e+03, 1.1420e+03, 1.0210e+03, 8.2900e+02,\n",
       "       8.1300e+02, 6.7700e+02, 6.5800e+02, 4.8600e+02, 6.8700e+02,\n",
       "       6.5200e+02, 1.3880e+03, 1.6150e+03, 1.2830e+03, 9.0900e+02,\n",
       "       6.7000e+02, 6.2900e+02, 7.5400e+02, 1.4800e+02, 1.5400e+02,\n",
       "       1.1270e+03, 1.5060e+03, 1.2710e+03, 7.6700e+02, 1.0300e+02,\n",
       "       7.7300e+02, 7.0800e+02, 8.4200e+02, 9.0100e+02, 1.2680e+03,\n",
       "       1.5460e+03, 1.5120e+03, 9.0000e+02, 6.4000e+02, 1.3000e+01,\n",
       "       8.5500e+02, 1.0610e+03, 1.4980e+03, 5.9800e+02, 6.5600e+02,\n",
       "       8.5400e+02, 6.0900e+02, 7.8800e+02, 6.6700e+02, 1.1000e+01,\n",
       "       4.3400e+02, 1.3270e+03, 8.9400e+02, 7.7900e+02, 4.1900e+02,\n",
       "       1.4000e+01, 1.1930e+03, 1.0000e+01, 7.7000e+02, 6.7400e+02,\n",
       "       4.8100e+02, 6.6400e+02, 8.2400e+02, 9.5700e+02, 8.2200e+02,\n",
       "       1.4200e+03, 6.7900e+02, 5.0700e+02, 8.1400e+02, 7.0000e+02,\n",
       "       9.1900e+02, 1.3610e+03, 1.2000e+01, 1.6880e+03, 4.6100e+02,\n",
       "       1.0790e+03, 8.9500e+02, 9.1200e+02, 7.8400e+02, 7.0000e+00,\n",
       "       6.8000e+02, 1.1310e+03, 2.1030e+03, 1.4450e+03, 1.1330e+03,\n",
       "       7.2600e+02, 8.4900e+02, 1.0540e+03, 2.1200e+03, 1.7900e+02,\n",
       "       7.4100e+02, 6.8500e+02, 8.6400e+02, 1.3740e+03, 5.5300e+02,\n",
       "       1.0570e+03, 1.5870e+03, 8.6800e+02, 1.1190e+03, 9.6200e+02,\n",
       "       2.6500e+02, 8.5900e+02, 2.7600e+02, 8.9900e+02, 2.4700e+02,\n",
       "       6.5300e+02, 1.6030e+03, 4.4400e+02, 8.4100e+02, 1.4100e+03,\n",
       "       1.1030e+03, 9.2200e+02, 1.0550e+03, 1.1460e+03, 7.4600e+02,\n",
       "       8.3400e+02, 1.7170e+03, 1.0410e+03, 1.5310e+03, 6.2700e+02,\n",
       "       4.5000e+02, 8.9100e+02, 5.4100e+02, 7.0900e+02, 1.1000e+03,\n",
       "       8.2600e+02, 5.7700e+02, 1.2280e+03, 1.6410e+03, 1.5830e+03,\n",
       "       1.0620e+03, 7.3900e+02, 6.9800e+02, 1.1720e+03, 4.0800e+02,\n",
       "       1.0680e+03, 1.8340e+03, 1.0850e+03, 3.2300e+02, 1.0530e+03,\n",
       "       7.8600e+02, 1.0030e+03, 6.3500e+02, 8.4700e+02, 3.6100e+02,\n",
       "       1.6530e+03, 1.5000e+01, 6.9400e+02, 1.0650e+03, 1.0200e+03,\n",
       "       1.5910e+03, 3.9800e+02, 4.3700e+02, 1.1640e+03, 9.5400e+02,\n",
       "       1.1940e+03, 6.4400e+02, 7.9200e+02, 5.1200e+02, 5.5600e+02,\n",
       "       6.2200e+02, 5.4900e+02, 1.3930e+03, 1.5780e+03, 2.5400e+02,\n",
       "       3.4700e+02, 6.9200e+02, 9.3400e+02, 1.5270e+03, 6.3200e+02,\n",
       "       1.2310e+03, 6.1600e+02, 5.5100e+02, 9.3500e+02, 8.3200e+02,\n",
       "       1.5110e+03, 6.0100e+02, 1.5620e+03, 2.9000e+01, 9.5000e+02,\n",
       "       5.3400e+02, 1.0960e+03, 4.0200e+02, 5.7300e+02, 1.3130e+03,\n",
       "       1.5700e+02, 4.3300e+02, 9.6100e+02, 1.1690e+03, 8.7400e+02,\n",
       "       1.7720e+03, 5.8600e+02, 1.3340e+03, 3.0000e+01, 2.6100e+02,\n",
       "       5.2000e+01, 4.5500e+02, 7.9700e+02, 9.5900e+02, 1.3730e+03,\n",
       "       1.1170e+03, 2.3000e+02, 1.3900e+03, 5.2900e+02, 1.2670e+03,\n",
       "       1.1950e+03, 4.7100e+02, 1.2260e+03, 1.2510e+03, 6.2600e+02,\n",
       "       1.3790e+03, 1.2540e+03, 1.0640e+03, 3.1300e+02, 1.2390e+03,\n",
       "       9.2800e+02, 8.6900e+02, 7.1100e+02, 1.3220e+03, 9.6400e+02,\n",
       "       1.1320e+03, 3.5700e+02, 8.1700e+02, 1.5760e+03, 1.2620e+03,\n",
       "       9.5300e+02, 1.1610e+03, 1.5740e+03, 1.1040e+03, 7.5600e+02,\n",
       "       1.4990e+03, 1.2470e+03, 9.2300e+02, 1.1800e+03, 1.0010e+03,\n",
       "       1.0170e+03, 4.7000e+02, 7.3500e+02, 5.6000e+02, 1.6740e+03,\n",
       "       2.9000e+02, 9.7100e+02, 9.9200e+02, 9.1400e+02])"
      ]
     },
     "execution_count": 56,
     "metadata": {},
     "output_type": "execute_result"
    }
   ],
   "source": [
    "df_reg['wip'].unique()"
   ]
  },
  {
   "cell_type": "code",
   "execution_count": 57,
   "id": "d8557db6",
   "metadata": {},
   "outputs": [
    {
     "data": {
      "text/plain": [
       "<AxesSubplot:>"
      ]
     },
     "execution_count": 57,
     "metadata": {},
     "output_type": "execute_result"
    },
    {
     "data": {
      "image/png": "[encoded data removed]",
      "text/plain": [
       "<Figure size 864x432 with 1 Axes>"
      ]
     },
     "metadata": {
      "needs_background": "light"
     },
     "output_type": "display_data"
    }
   ],
   "source": [
    "df_reg['wip'].hist()"
   ]
  },
  {
   "cell_type": "markdown",
   "id": "57a772c3",
   "metadata": {},
   "source": [
    "'wip' has a skewed right distribution"
   ]
  },
  {
   "cell_type": "code",
   "execution_count": 58,
   "id": "7476ac3d",
   "metadata": {},
   "outputs": [],
   "source": [
    "med_wip = df_reg['wip'].median()\n",
    "med_wip\n",
    "df_reg['wip'].fillna(med_wip, inplace=True)"
   ]
  },
  {
   "cell_type": "code",
   "execution_count": 59,
   "id": "36eedac5",
   "metadata": {},
   "outputs": [
    {
     "data": {
      "text/plain": [
       "array([1.1080e+03, 1.0390e+03, 9.6800e+02, 1.1700e+03, 9.8400e+02,\n",
       "       7.9500e+02, 7.3300e+02, 6.8100e+02, 8.7200e+02, 5.7800e+02,\n",
       "       6.6800e+02, 8.6100e+02, 7.7200e+02, 9.1300e+02, 1.2610e+03,\n",
       "       8.4400e+02, 1.0050e+03, 6.5900e+02, 1.1520e+03, 1.1380e+03,\n",
       "       6.1000e+02, 9.4400e+02, 5.4400e+02, 1.0720e+03, 5.3900e+02,\n",
       "       1.2780e+03, 1.2270e+03, 8.7800e+02, 1.0330e+03, 7.8200e+02,\n",
       "       1.2160e+03, 5.1300e+02, 7.3400e+02, 1.2020e+03, 8.8400e+02,\n",
       "       1.2550e+03, 1.0470e+03, 6.7800e+02, 7.1200e+02, 1.0370e+03,\n",
       "       7.5700e+02, 7.5900e+02, 1.0830e+03, 6.6600e+02, 1.1870e+03,\n",
       "       1.3050e+03, 7.1600e+02, 9.2500e+02, 9.6300e+02, 1.1010e+03,\n",
       "       1.0350e+03, 9.1000e+02, 1.2090e+03, 5.9000e+02, 8.0800e+02,\n",
       "       1.1790e+03, 1.3240e+03, 1.1350e+03, 7.7600e+02, 9.9000e+02,\n",
       "       9.8600e+02, 9.2400e+02, 1.1200e+03, 1.0660e+03, 1.1440e+03,\n",
       "       4.1300e+02, 5.6800e+02, 1.1890e+03, 9.4200e+02, 1.0500e+03,\n",
       "       1.0260e+03, 7.8300e+02, 8.5700e+02, 5.4800e+02, 4.1100e+02,\n",
       "       2.8700e+02, 7.2400e+02, 1.1220e+03, 9.7000e+02, 1.1580e+03,\n",
       "       6.6000e+02, 7.4900e+02, 8.9300e+02, 8.8700e+02, 1.3350e+03,\n",
       "       1.0820e+03, 1.0750e+03, 9.6600e+02, 1.0950e+03, 1.3830e+03,\n",
       "       1.0120e+03, 8.9600e+02, 8.0500e+02, 7.6200e+02, 1.0430e+03,\n",
       "       8.3100e+02, 5.6200e+02, 1.2080e+03, 1.0990e+03, 1.0930e+03,\n",
       "       1.0310e+03, 1.2330e+03, 9.4100e+02, 8.4300e+02, 7.6000e+02,\n",
       "       7.3700e+02, 3.8100e+02, 1.1410e+03, 1.0040e+03, 5.8100e+02,\n",
       "       1.0730e+03, 1.1560e+03, 1.2110e+03, 1.1260e+03, 1.0630e+03,\n",
       "       7.2300e+02, 4.6500e+02, 5.3000e+02, 1.2970e+03, 7.1500e+02,\n",
       "       1.1500e+03, 1.2320e+03, 1.2180e+03, 1.1590e+03, 9.7200e+02,\n",
       "       1.0920e+03, 9.6500e+02, 8.1600e+02, 9.4700e+02, 8.3800e+02,\n",
       "       1.0860e+03, 1.1600e+03, 1.1770e+03, 1.2810e+03, 1.3690e+03,\n",
       "       1.0840e+03, 3.9100e+02, 1.1020e+03, 1.0760e+03, 9.1700e+02,\n",
       "       1.0440e+03, 1.0670e+03, 1.3960e+03, 1.2920e+03, 1.7100e+02,\n",
       "       1.1280e+03, 8.6500e+02, 8.2500e+02, 1.1630e+03, 1.1400e+03,\n",
       "       1.0270e+03, 1.0520e+03, 6.2400e+02, 1.2880e+03, 1.3810e+03,\n",
       "       8.8200e+02, 1.0020e+03, 5.8500e+02, 1.0250e+03, 1.0280e+03,\n",
       "       1.3800e+03, 1.1960e+03, 1.0060e+03, 9.3000e+02, 9.3800e+02,\n",
       "       1.4840e+03, 1.0400e+03, 1.4920e+03, 1.1110e+03, 1.4340e+03,\n",
       "       3.9900e+02, 9.8300e+02, 1.1340e+03, 1.3630e+03, 1.5010e+03,\n",
       "       1.3520e+03, 1.4500e+03, 9.1600e+02, 1.4220e+03, 1.2060e+03,\n",
       "       1.4040e+03, 1.1390e+03, 1.7350e+03, 1.5950e+03, 1.2450e+03,\n",
       "       1.7200e+03, 1.5100e+03, 9.5500e+02, 1.3280e+03, 1.3840e+03,\n",
       "       1.2440e+03, 1.4800e+03, 1.8630e+03, 1.8590e+03, 9.8000e+02,\n",
       "       1.6060e+03, 7.2700e+02, 1.4720e+03, 1.3320e+03, 1.0090e+03,\n",
       "       1.2660e+03, 1.3160e+03, 1.2820e+03, 1.3820e+03, 1.2950e+03,\n",
       "       1.4480e+03, 8.6700e+02, 1.6360e+03, 1.6820e+03, 1.4950e+03,\n",
       "       1.1810e+03, 1.4130e+03, 3.6000e+02, 1.2960e+03, 1.2170e+03,\n",
       "       5.3200e+02, 1.5570e+03, 1.0160e+03, 1.5840e+03, 1.7640e+03,\n",
       "       1.7450e+03, 1.2500e+03, 1.1180e+03, 1.1430e+03, 1.3370e+03,\n",
       "       1.5190e+03, 1.6350e+03, 1.2990e+03, 1.1060e+03, 1.8710e+03,\n",
       "       1.2940e+03, 1.4620e+03, 9.7600e+02, 3.3800e+02, 1.4550e+03,\n",
       "       1.5590e+03, 1.3500e+03, 1.1750e+03, 1.8680e+03, 1.0450e+03,\n",
       "       1.3420e+03, 1.3400e+03, 1.4290e+03, 3.3600e+02, 5.1100e+02,\n",
       "       9.5800e+02, 1.4160e+03, 1.2870e+03, 1.4440e+03, 1.0880e+03,\n",
       "       1.5790e+03, 1.0150e+03, 1.4360e+03, 1.6010e+03, 7.1700e+02,\n",
       "       8.3000e+02, 1.1360e+03, 1.3970e+03, 1.1160e+03, 1.4320e+03,\n",
       "       1.5020e+03, 2.8200e+02, 1.4170e+03, 7.9900e+02, 1.1090e+03,\n",
       "       1.5820e+03, 1.1240e+03, 1.2760e+03, 1.1920e+03, 8.8100e+02,\n",
       "       1.4000e+03, 1.6882e+04, 2.1385e+04, 2.1266e+04, 2.1540e+04,\n",
       "       1.2261e+04, 2.3122e+04, 8.9920e+03, 9.7920e+03, 2.9840e+03,\n",
       "       8.3900e+02, 2.6980e+03, 1.4350e+03, 1.5000e+03, 1.1880e+03,\n",
       "       1.1120e+03, 1.4520e+03, 3.4000e+02, 1.0290e+03, 1.0700e+03,\n",
       "       9.4600e+02, 1.6390e+03, 4.1500e+02, 1.2630e+03, 1.5320e+03,\n",
       "       1.0940e+03, 1.4710e+03, 1.0420e+03, 1.2480e+03, 3.2600e+02,\n",
       "       1.3000e+03, 1.4850e+03, 1.0690e+03, 7.6600e+02, 5.5700e+02,\n",
       "       1.6080e+03, 4.1700e+02, 1.1670e+03, 1.1860e+03, 1.0600e+03,\n",
       "       1.5340e+03, 1.1420e+03, 1.0210e+03, 8.2900e+02, 8.1300e+02,\n",
       "       6.7700e+02, 6.5800e+02, 4.8600e+02, 6.8700e+02, 6.5200e+02,\n",
       "       1.3880e+03, 1.6150e+03, 1.2830e+03, 9.0900e+02, 6.7000e+02,\n",
       "       6.2900e+02, 7.5400e+02, 1.4800e+02, 1.5400e+02, 1.1270e+03,\n",
       "       1.5060e+03, 1.2710e+03, 7.6700e+02, 1.0300e+02, 7.7300e+02,\n",
       "       7.0800e+02, 8.4200e+02, 9.0100e+02, 1.2680e+03, 1.5460e+03,\n",
       "       1.5120e+03, 9.0000e+02, 6.4000e+02, 1.3000e+01, 8.5500e+02,\n",
       "       1.0610e+03, 1.4980e+03, 5.9800e+02, 6.5600e+02, 8.5400e+02,\n",
       "       6.0900e+02, 7.8800e+02, 6.6700e+02, 1.1000e+01, 4.3400e+02,\n",
       "       1.3270e+03, 8.9400e+02, 7.7900e+02, 4.1900e+02, 1.4000e+01,\n",
       "       1.1930e+03, 1.0000e+01, 7.7000e+02, 6.7400e+02, 4.8100e+02,\n",
       "       6.6400e+02, 8.2400e+02, 9.5700e+02, 8.2200e+02, 1.4200e+03,\n",
       "       6.7900e+02, 5.0700e+02, 8.1400e+02, 7.0000e+02, 9.1900e+02,\n",
       "       1.3610e+03, 1.2000e+01, 1.6880e+03, 4.6100e+02, 1.0790e+03,\n",
       "       8.9500e+02, 9.1200e+02, 7.8400e+02, 7.0000e+00, 6.8000e+02,\n",
       "       1.1310e+03, 2.1030e+03, 1.4450e+03, 1.1330e+03, 7.2600e+02,\n",
       "       8.4900e+02, 1.0540e+03, 2.1200e+03, 1.7900e+02, 7.4100e+02,\n",
       "       6.8500e+02, 8.6400e+02, 1.3740e+03, 5.5300e+02, 1.0570e+03,\n",
       "       1.5870e+03, 8.6800e+02, 1.1190e+03, 9.6200e+02, 2.6500e+02,\n",
       "       8.5900e+02, 2.7600e+02, 8.9900e+02, 2.4700e+02, 6.5300e+02,\n",
       "       1.6030e+03, 4.4400e+02, 8.4100e+02, 1.4100e+03, 1.1030e+03,\n",
       "       9.2200e+02, 1.0550e+03, 1.1460e+03, 7.4600e+02, 8.3400e+02,\n",
       "       1.7170e+03, 1.0410e+03, 1.5310e+03, 6.2700e+02, 4.5000e+02,\n",
       "       8.9100e+02, 5.4100e+02, 7.0900e+02, 1.1000e+03, 8.2600e+02,\n",
       "       5.7700e+02, 1.2280e+03, 1.6410e+03, 1.5830e+03, 1.0620e+03,\n",
       "       7.3900e+02, 6.9800e+02, 1.1720e+03, 4.0800e+02, 1.0680e+03,\n",
       "       1.8340e+03, 1.0850e+03, 3.2300e+02, 1.0530e+03, 7.8600e+02,\n",
       "       1.0030e+03, 6.3500e+02, 8.4700e+02, 3.6100e+02, 1.6530e+03,\n",
       "       1.5000e+01, 6.9400e+02, 1.0650e+03, 1.0200e+03, 1.5910e+03,\n",
       "       3.9800e+02, 4.3700e+02, 1.1640e+03, 9.5400e+02, 1.1940e+03,\n",
       "       6.4400e+02, 7.9200e+02, 5.1200e+02, 5.5600e+02, 6.2200e+02,\n",
       "       5.4900e+02, 1.3930e+03, 1.5780e+03, 2.5400e+02, 3.4700e+02,\n",
       "       6.9200e+02, 9.3400e+02, 1.5270e+03, 6.3200e+02, 1.2310e+03,\n",
       "       6.1600e+02, 5.5100e+02, 9.3500e+02, 8.3200e+02, 1.5110e+03,\n",
       "       6.0100e+02, 1.5620e+03, 2.9000e+01, 9.5000e+02, 5.3400e+02,\n",
       "       1.0960e+03, 4.0200e+02, 5.7300e+02, 1.3130e+03, 1.5700e+02,\n",
       "       4.3300e+02, 9.6100e+02, 1.1690e+03, 8.7400e+02, 1.7720e+03,\n",
       "       5.8600e+02, 1.3340e+03, 3.0000e+01, 2.6100e+02, 5.2000e+01,\n",
       "       4.5500e+02, 7.9700e+02, 9.5900e+02, 1.3730e+03, 1.1170e+03,\n",
       "       2.3000e+02, 1.3900e+03, 5.2900e+02, 1.2670e+03, 1.1950e+03,\n",
       "       4.7100e+02, 1.2260e+03, 1.2510e+03, 6.2600e+02, 1.3790e+03,\n",
       "       1.2540e+03, 1.0640e+03, 3.1300e+02, 1.2390e+03, 9.2800e+02,\n",
       "       8.6900e+02, 7.1100e+02, 1.3220e+03, 9.6400e+02, 1.1320e+03,\n",
       "       3.5700e+02, 8.1700e+02, 1.5760e+03, 1.2620e+03, 9.5300e+02,\n",
       "       1.1610e+03, 1.5740e+03, 1.1040e+03, 7.5600e+02, 1.4990e+03,\n",
       "       1.2470e+03, 9.2300e+02, 1.1800e+03, 1.0010e+03, 1.0170e+03,\n",
       "       4.7000e+02, 7.3500e+02, 5.6000e+02, 1.6740e+03, 2.9000e+02,\n",
       "       9.7100e+02, 9.9200e+02, 9.1400e+02])"
      ]
     },
     "execution_count": 59,
     "metadata": {},
     "output_type": "execute_result"
    }
   ],
   "source": [
    "df_reg['wip'].unique()"
   ]
  },
  {
   "cell_type": "markdown",
   "id": "8b5def3f",
   "metadata": {},
   "source": [
    "# Feature : 'incentive'"
   ]
  },
  {
   "cell_type": "code",
   "execution_count": 60,
   "id": "6a93b17e",
   "metadata": {},
   "outputs": [
    {
     "data": {
      "text/plain": [
       "array([  98.,   nan,   50.,   38.,   45.,   34.,   44.,   63.,   56.,\n",
       "         40.,   60.,   26.,   75.,   23.,   35.,   69.,   88.,   30.,\n",
       "         54.,   37.,   70.,   27.,   21.,   24.,   94.,   29.,   81.,\n",
       "         55.,  119.,   90.,  113.,   46.,  100.,   53.,   93.,   49.,\n",
       "        138.,   33.,   32.,   62.,   65.,  960., 1080., 2880., 3600.,\n",
       "       1440., 1200.,   25.])"
      ]
     },
     "execution_count": 60,
     "metadata": {},
     "output_type": "execute_result"
    }
   ],
   "source": [
    "df_reg['incentive'].unique()"
   ]
  },
  {
   "cell_type": "code",
   "execution_count": 61,
   "id": "077bb935",
   "metadata": {},
   "outputs": [
    {
     "data": {
      "text/plain": [
       "50.0"
      ]
     },
     "execution_count": 61,
     "metadata": {},
     "output_type": "execute_result"
    }
   ],
   "source": [
    "# finding the most frequent value in 'incentive' column\n",
    "incnt_mode = df_reg['incentive'].value_counts().idxmax()\n",
    "incnt_mode"
   ]
  },
  {
   "cell_type": "code",
   "execution_count": 62,
   "id": "ea3fbd4f",
   "metadata": {},
   "outputs": [],
   "source": [
    "df_reg['incentive'].fillna(incnt_mode, inplace=True)"
   ]
  },
  {
   "cell_type": "code",
   "execution_count": 63,
   "id": "50095038",
   "metadata": {},
   "outputs": [
    {
     "data": {
      "text/plain": [
       "array([  98.,   50.,   38.,   45.,   34.,   44.,   63.,   56.,   40.,\n",
       "         60.,   26.,   75.,   23.,   35.,   69.,   88.,   30.,   54.,\n",
       "         37.,   70.,   27.,   21.,   24.,   94.,   29.,   81.,   55.,\n",
       "        119.,   90.,  113.,   46.,  100.,   53.,   93.,   49.,  138.,\n",
       "         33.,   32.,   62.,   65.,  960., 1080., 2880., 3600., 1440.,\n",
       "       1200.,   25.])"
      ]
     },
     "execution_count": 63,
     "metadata": {},
     "output_type": "execute_result"
    }
   ],
   "source": [
    "df_reg['incentive'].unique()"
   ]
  },
  {
   "cell_type": "markdown",
   "id": "28263b67",
   "metadata": {},
   "source": [
    "# Feature : 'targeted_productivity'"
   ]
  },
  {
   "cell_type": "code",
   "execution_count": 64,
   "id": "96efd323",
   "metadata": {},
   "outputs": [
    {
     "data": {
      "text/plain": [
       "array([0.8 , 0.75, 0.7 , 0.65, 0.6 , 0.35, 0.5 ,  nan, 0.4 ])"
      ]
     },
     "execution_count": 64,
     "metadata": {},
     "output_type": "execute_result"
    }
   ],
   "source": [
    "df_reg['targeted_productivity'].unique()"
   ]
  },
  {
   "cell_type": "code",
   "execution_count": 65,
   "id": "33431012",
   "metadata": {},
   "outputs": [
    {
     "data": {
      "text/plain": [
       "0.8"
      ]
     },
     "execution_count": 65,
     "metadata": {},
     "output_type": "execute_result"
    }
   ],
   "source": [
    "# finding the most frequent value in 'incentive' column\n",
    "trgprd_mode = df_reg['targeted_productivity'].value_counts().idxmax()\n",
    "trgprd_mode"
   ]
  },
  {
   "cell_type": "code",
   "execution_count": 66,
   "id": "dae8d391",
   "metadata": {},
   "outputs": [],
   "source": [
    "df_reg['targeted_productivity'].fillna(trgprd_mode, inplace=True)"
   ]
  },
  {
   "cell_type": "code",
   "execution_count": 67,
   "id": "ae8e0423",
   "metadata": {},
   "outputs": [
    {
     "data": {
      "text/plain": [
       "array([0.8 , 0.75, 0.7 , 0.65, 0.6 , 0.35, 0.5 , 0.4 ])"
      ]
     },
     "execution_count": 67,
     "metadata": {},
     "output_type": "execute_result"
    }
   ],
   "source": [
    "df_reg['targeted_productivity'].unique()"
   ]
  },
  {
   "cell_type": "markdown",
   "id": "32dcd990",
   "metadata": {},
   "source": [
    "# Feature Transformation"
   ]
  },
  {
   "cell_type": "code",
   "execution_count": 68,
   "id": "6c7b7ecc",
   "metadata": {},
   "outputs": [
    {
     "name": "stdout",
     "output_type": "stream",
     "text": [
      "<class 'pandas.core.frame.DataFrame'>\n",
      "RangeIndex: 1197 entries, 0 to 1196\n",
      "Data columns (total 15 columns):\n",
      " #   Column                 Non-Null Count  Dtype         \n",
      "---  ------                 --------------  -----         \n",
      " 0   date                   1197 non-null   datetime64[ns]\n",
      " 1   quarter                1197 non-null   object        \n",
      " 2   department             1197 non-null   object        \n",
      " 3   day                    1197 non-null   object        \n",
      " 4   team                   1197 non-null   object        \n",
      " 5   targeted_productivity  1197 non-null   float64       \n",
      " 6   smv                    1197 non-null   float64       \n",
      " 7   wip                    1197 non-null   float64       \n",
      " 8   over_time              1197 non-null   int64         \n",
      " 9   incentive              1197 non-null   float64       \n",
      " 10  idle_time              1197 non-null   float64       \n",
      " 11  idle_men               1197 non-null   int64         \n",
      " 12  no_of_style_change     1197 non-null   int64         \n",
      " 13  no_of_workers          1197 non-null   float64       \n",
      " 14  actual_productivity    1197 non-null   float64       \n",
      "dtypes: datetime64[ns](1), float64(7), int64(3), object(4)\n",
      "memory usage: 140.4+ KB\n"
     ]
    }
   ],
   "source": [
    "df_reg.info()"
   ]
  },
  {
   "cell_type": "code",
   "execution_count": 69,
   "id": "bd9fc6ba",
   "metadata": {},
   "outputs": [
    {
     "data": {
      "text/plain": [
       "array(['Quarter1', 'Quarter2', 'Quarter3', 'Quarter4'], dtype=object)"
      ]
     },
     "execution_count": 69,
     "metadata": {},
     "output_type": "execute_result"
    }
   ],
   "source": [
    "df_reg['quarter'].unique()"
   ]
  },
  {
   "cell_type": "code",
   "execution_count": 70,
   "id": "b480b56f",
   "metadata": {},
   "outputs": [
    {
     "name": "stdout",
     "output_type": "stream",
     "text": [
      "<class 'pandas.core.frame.DataFrame'>\n",
      "RangeIndex: 1197 entries, 0 to 1196\n",
      "Data columns (total 18 columns):\n",
      " #   Column                 Non-Null Count  Dtype         \n",
      "---  ------                 --------------  -----         \n",
      " 0   date                   1197 non-null   datetime64[ns]\n",
      " 1   department             1197 non-null   object        \n",
      " 2   day                    1197 non-null   object        \n",
      " 3   team                   1197 non-null   object        \n",
      " 4   targeted_productivity  1197 non-null   float64       \n",
      " 5   smv                    1197 non-null   float64       \n",
      " 6   wip                    1197 non-null   float64       \n",
      " 7   over_time              1197 non-null   int64         \n",
      " 8   incentive              1197 non-null   float64       \n",
      " 9   idle_time              1197 non-null   float64       \n",
      " 10  idle_men               1197 non-null   int64         \n",
      " 11  no_of_style_change     1197 non-null   int64         \n",
      " 12  no_of_workers          1197 non-null   float64       \n",
      " 13  actual_productivity    1197 non-null   float64       \n",
      " 14  Quarter1               1197 non-null   uint8         \n",
      " 15  Quarter2               1197 non-null   uint8         \n",
      " 16  Quarter3               1197 non-null   uint8         \n",
      " 17  Quarter4               1197 non-null   uint8         \n",
      "dtypes: datetime64[ns](1), float64(7), int64(3), object(3), uint8(4)\n",
      "memory usage: 135.7+ KB\n"
     ]
    }
   ],
   "source": [
    "#'quarter' is a categorical nominal variables of 4 distinct values, so we replace it with a one-hot-vector of length 5\n",
    "cols = pd.get_dummies(df_reg['quarter'])\n",
    "df_reg[cols.columns] = cols\n",
    "df_reg.drop('quarter', axis = 1, inplace = True)\n",
    "df_reg.info()"
   ]
  },
  {
   "cell_type": "code",
   "execution_count": 71,
   "id": "b3034eb5",
   "metadata": {},
   "outputs": [],
   "source": [
    "#converting Quarter1 - Quarter4 to object\n",
    "df_reg['Quarter1'] = df_reg['Quarter1'].astype(str)\n",
    "df_reg['Quarter2'] = df_reg['Quarter2'].astype(str)\n",
    "df_reg['Quarter3'] = df_reg['Quarter3'].astype(str)\n",
    "df_reg['Quarter4'] = df_reg['Quarter4'].astype(str)"
   ]
  },
  {
   "cell_type": "code",
   "execution_count": 72,
   "id": "963f11f7",
   "metadata": {},
   "outputs": [
    {
     "data": {
      "text/plain": [
       "array(['sewing', 'finishing'], dtype=object)"
      ]
     },
     "execution_count": 72,
     "metadata": {},
     "output_type": "execute_result"
    }
   ],
   "source": [
    "df_reg['department'].unique()"
   ]
  },
  {
   "cell_type": "code",
   "execution_count": 73,
   "id": "f8e42fa1",
   "metadata": {},
   "outputs": [
    {
     "name": "stdout",
     "output_type": "stream",
     "text": [
      "<class 'pandas.core.frame.DataFrame'>\n",
      "RangeIndex: 1197 entries, 0 to 1196\n",
      "Data columns (total 19 columns):\n",
      " #   Column                 Non-Null Count  Dtype         \n",
      "---  ------                 --------------  -----         \n",
      " 0   date                   1197 non-null   datetime64[ns]\n",
      " 1   day                    1197 non-null   object        \n",
      " 2   team                   1197 non-null   object        \n",
      " 3   targeted_productivity  1197 non-null   float64       \n",
      " 4   smv                    1197 non-null   float64       \n",
      " 5   wip                    1197 non-null   float64       \n",
      " 6   over_time              1197 non-null   int64         \n",
      " 7   incentive              1197 non-null   float64       \n",
      " 8   idle_time              1197 non-null   float64       \n",
      " 9   idle_men               1197 non-null   int64         \n",
      " 10  no_of_style_change     1197 non-null   int64         \n",
      " 11  no_of_workers          1197 non-null   float64       \n",
      " 12  actual_productivity    1197 non-null   float64       \n",
      " 13  Quarter1               1197 non-null   object        \n",
      " 14  Quarter2               1197 non-null   object        \n",
      " 15  Quarter3               1197 non-null   object        \n",
      " 16  Quarter4               1197 non-null   object        \n",
      " 17  dept_finishing         1197 non-null   uint8         \n",
      " 18  dept_sewing            1197 non-null   uint8         \n",
      "dtypes: datetime64[ns](1), float64(7), int64(3), object(6), uint8(2)\n",
      "memory usage: 161.4+ KB\n"
     ]
    }
   ],
   "source": [
    "#'department' is a categorical nominal variables of 2 distinct values, so we replace it with a one-hot-vector of length 5\n",
    "df_reg['department'] = df_reg['department'].astype(str)\n",
    "cols = pd.get_dummies(df_reg['department'], prefix = 'dept')\n",
    "df_reg[cols.columns] = cols\n",
    "df_reg.drop('department', axis = 1, inplace = True)\n",
    "df_reg.info()"
   ]
  },
  {
   "cell_type": "code",
   "execution_count": 74,
   "id": "29134653",
   "metadata": {},
   "outputs": [],
   "source": [
    "#converting 2 departments to object\n",
    "df_reg['dept_finishing'] = df_reg['dept_finishing'].astype(str)\n",
    "df_reg['dept_sewing'] = df_reg['dept_sewing'].astype(str)"
   ]
  },
  {
   "cell_type": "code",
   "execution_count": 75,
   "id": "e183253d",
   "metadata": {},
   "outputs": [
    {
     "data": {
      "text/plain": [
       "array(['8', '1', '11', ..., '7', '9', '6'], dtype=object)"
      ]
     },
     "execution_count": 75,
     "metadata": {},
     "output_type": "execute_result"
    }
   ],
   "source": [
    "df_reg.team.values"
   ]
  },
  {
   "cell_type": "code",
   "execution_count": 76,
   "id": "9ac83ccd",
   "metadata": {},
   "outputs": [
    {
     "name": "stdout",
     "output_type": "stream",
     "text": [
      "<class 'pandas.core.frame.DataFrame'>\n",
      "RangeIndex: 1197 entries, 0 to 1196\n",
      "Data columns (total 30 columns):\n",
      " #   Column                 Non-Null Count  Dtype         \n",
      "---  ------                 --------------  -----         \n",
      " 0   date                   1197 non-null   datetime64[ns]\n",
      " 1   day                    1197 non-null   object        \n",
      " 2   targeted_productivity  1197 non-null   float64       \n",
      " 3   smv                    1197 non-null   float64       \n",
      " 4   wip                    1197 non-null   float64       \n",
      " 5   over_time              1197 non-null   int64         \n",
      " 6   incentive              1197 non-null   float64       \n",
      " 7   idle_time              1197 non-null   float64       \n",
      " 8   idle_men               1197 non-null   int64         \n",
      " 9   no_of_style_change     1197 non-null   int64         \n",
      " 10  no_of_workers          1197 non-null   float64       \n",
      " 11  actual_productivity    1197 non-null   float64       \n",
      " 12  Quarter1               1197 non-null   object        \n",
      " 13  Quarter2               1197 non-null   object        \n",
      " 14  Quarter3               1197 non-null   object        \n",
      " 15  Quarter4               1197 non-null   object        \n",
      " 16  dept_finishing         1197 non-null   object        \n",
      " 17  dept_sewing            1197 non-null   object        \n",
      " 18  team_1                 1197 non-null   uint8         \n",
      " 19  team_2                 1197 non-null   uint8         \n",
      " 20  team_3                 1197 non-null   uint8         \n",
      " 21  team_4                 1197 non-null   uint8         \n",
      " 22  team_5                 1197 non-null   uint8         \n",
      " 23  team_6                 1197 non-null   uint8         \n",
      " 24  team_7                 1197 non-null   uint8         \n",
      " 25  team_8                 1197 non-null   uint8         \n",
      " 26  team_9                 1197 non-null   uint8         \n",
      " 27  team_10                1197 non-null   uint8         \n",
      " 28  team_11                1197 non-null   uint8         \n",
      " 29  team_12                1197 non-null   uint8         \n",
      "dtypes: datetime64[ns](1), float64(7), int64(3), object(7), uint8(12)\n",
      "memory usage: 182.5+ KB\n"
     ]
    }
   ],
   "source": [
    "#'team' is a categorical nominal variables of 12 distinct values , so we replace it with a one-hot vector of length 12\n",
    "df_reg['team'] = df_reg['team'].astype(int)\n",
    "cols = pd.get_dummies(df_reg['team'], prefix= 'team')\n",
    "df_reg[cols.columns] = cols\n",
    "df_reg.drop('team', axis = 1, inplace = True)\n",
    "df_reg.info()"
   ]
  },
  {
   "cell_type": "code",
   "execution_count": 77,
   "id": "a1db79b5",
   "metadata": {},
   "outputs": [
    {
     "data": {
      "text/plain": [
       "array(['Thursday', 'Saturday', 'Sunday', 'Monday', 'Tuesday', 'Wednesday'],\n",
       "      dtype=object)"
      ]
     },
     "execution_count": 77,
     "metadata": {},
     "output_type": "execute_result"
    }
   ],
   "source": [
    "df_reg.day.unique()"
   ]
  },
  {
   "cell_type": "code",
   "execution_count": 78,
   "id": "963f72ad",
   "metadata": {},
   "outputs": [
    {
     "name": "stdout",
     "output_type": "stream",
     "text": [
      "<class 'pandas.core.frame.DataFrame'>\n",
      "RangeIndex: 1197 entries, 0 to 1196\n",
      "Data columns (total 30 columns):\n",
      " #   Column                 Non-Null Count  Dtype         \n",
      "---  ------                 --------------  -----         \n",
      " 0   date                   1197 non-null   datetime64[ns]\n",
      " 1   day                    1197 non-null   object        \n",
      " 2   targeted_productivity  1197 non-null   float64       \n",
      " 3   smv                    1197 non-null   float64       \n",
      " 4   wip                    1197 non-null   float64       \n",
      " 5   over_time              1197 non-null   int64         \n",
      " 6   incentive              1197 non-null   float64       \n",
      " 7   idle_time              1197 non-null   float64       \n",
      " 8   idle_men               1197 non-null   int64         \n",
      " 9   no_of_style_change     1197 non-null   int64         \n",
      " 10  no_of_workers          1197 non-null   float64       \n",
      " 11  actual_productivity    1197 non-null   float64       \n",
      " 12  Quarter1               1197 non-null   object        \n",
      " 13  Quarter2               1197 non-null   object        \n",
      " 14  Quarter3               1197 non-null   object        \n",
      " 15  Quarter4               1197 non-null   object        \n",
      " 16  dept_finishing         1197 non-null   object        \n",
      " 17  dept_sewing            1197 non-null   object        \n",
      " 18  team_1                 1197 non-null   object        \n",
      " 19  team_2                 1197 non-null   object        \n",
      " 20  team_3                 1197 non-null   object        \n",
      " 21  team_4                 1197 non-null   object        \n",
      " 22  team_5                 1197 non-null   object        \n",
      " 23  team_6                 1197 non-null   object        \n",
      " 24  team_7                 1197 non-null   object        \n",
      " 25  team_8                 1197 non-null   object        \n",
      " 26  team_9                 1197 non-null   object        \n",
      " 27  team_10                1197 non-null   object        \n",
      " 28  team_11                1197 non-null   object        \n",
      " 29  team_12                1197 non-null   object        \n",
      "dtypes: datetime64[ns](1), float64(7), int64(3), object(19)\n",
      "memory usage: 280.7+ KB\n"
     ]
    }
   ],
   "source": [
    "#converting 12 teams to object\n",
    "df_reg['team_1'] = df_reg['team_1'].astype(str)\n",
    "df_reg['team_2'] = df_reg['team_2'].astype(str)\n",
    "df_reg['team_3'] = df_reg['team_3'].astype(str)\n",
    "df_reg['team_4'] = df_reg['team_4'].astype(str)\n",
    "df_reg['team_5'] = df_reg['team_5'].astype(str)\n",
    "df_reg['team_6'] = df_reg['team_6'].astype(str)\n",
    "df_reg['team_7'] = df_reg['team_7'].astype(str)\n",
    "df_reg['team_8'] = df_reg['team_8'].astype(str)\n",
    "df_reg['team_9'] = df_reg['team_9'].astype(str)\n",
    "df_reg['team_10'] = df_reg['team_10'].astype(str)\n",
    "df_reg['team_11'] = df_reg['team_11'].astype(str)\n",
    "df_reg['team_12'] = df_reg['team_12'].astype(str)\n",
    "df_reg.info()"
   ]
  },
  {
   "cell_type": "code",
   "execution_count": 79,
   "id": "a8a902e1",
   "metadata": {},
   "outputs": [
    {
     "name": "stdout",
     "output_type": "stream",
     "text": [
      "<class 'pandas.core.frame.DataFrame'>\n",
      "RangeIndex: 1197 entries, 0 to 1196\n",
      "Data columns (total 35 columns):\n",
      " #   Column                 Non-Null Count  Dtype         \n",
      "---  ------                 --------------  -----         \n",
      " 0   date                   1197 non-null   datetime64[ns]\n",
      " 1   targeted_productivity  1197 non-null   float64       \n",
      " 2   smv                    1197 non-null   float64       \n",
      " 3   wip                    1197 non-null   float64       \n",
      " 4   over_time              1197 non-null   int64         \n",
      " 5   incentive              1197 non-null   float64       \n",
      " 6   idle_time              1197 non-null   float64       \n",
      " 7   idle_men               1197 non-null   int64         \n",
      " 8   no_of_style_change     1197 non-null   int64         \n",
      " 9   no_of_workers          1197 non-null   float64       \n",
      " 10  actual_productivity    1197 non-null   float64       \n",
      " 11  Quarter1               1197 non-null   object        \n",
      " 12  Quarter2               1197 non-null   object        \n",
      " 13  Quarter3               1197 non-null   object        \n",
      " 14  Quarter4               1197 non-null   object        \n",
      " 15  dept_finishing         1197 non-null   object        \n",
      " 16  dept_sewing            1197 non-null   object        \n",
      " 17  team_1                 1197 non-null   object        \n",
      " 18  team_2                 1197 non-null   object        \n",
      " 19  team_3                 1197 non-null   object        \n",
      " 20  team_4                 1197 non-null   object        \n",
      " 21  team_5                 1197 non-null   object        \n",
      " 22  team_6                 1197 non-null   object        \n",
      " 23  team_7                 1197 non-null   object        \n",
      " 24  team_8                 1197 non-null   object        \n",
      " 25  team_9                 1197 non-null   object        \n",
      " 26  team_10                1197 non-null   object        \n",
      " 27  team_11                1197 non-null   object        \n",
      " 28  team_12                1197 non-null   object        \n",
      " 29  Monday                 1197 non-null   uint8         \n",
      " 30  Saturday               1197 non-null   uint8         \n",
      " 31  Sunday                 1197 non-null   uint8         \n",
      " 32  Thursday               1197 non-null   uint8         \n",
      " 33  Tuesday                1197 non-null   uint8         \n",
      " 34  Wednesday              1197 non-null   uint8         \n",
      "dtypes: datetime64[ns](1), float64(7), int64(3), object(18), uint8(6)\n",
      "memory usage: 278.3+ KB\n"
     ]
    }
   ],
   "source": [
    "#'day' is a categorical nominal variable of 6 distinct values , so we replace it with a one-hot vector of length 6\n",
    "cols = pd.get_dummies(df_reg['day'])\n",
    "df_reg[cols.columns] = cols\n",
    "df_reg.drop('day', axis = 1, inplace = True)\n",
    "df_reg.info()"
   ]
  },
  {
   "cell_type": "code",
   "execution_count": 80,
   "id": "0521c879",
   "metadata": {},
   "outputs": [
    {
     "name": "stdout",
     "output_type": "stream",
     "text": [
      "<class 'pandas.core.frame.DataFrame'>\n",
      "RangeIndex: 1197 entries, 0 to 1196\n",
      "Data columns (total 35 columns):\n",
      " #   Column                 Non-Null Count  Dtype         \n",
      "---  ------                 --------------  -----         \n",
      " 0   date                   1197 non-null   datetime64[ns]\n",
      " 1   targeted_productivity  1197 non-null   float64       \n",
      " 2   smv                    1197 non-null   float64       \n",
      " 3   wip                    1197 non-null   float64       \n",
      " 4   over_time              1197 non-null   int64         \n",
      " 5   incentive              1197 non-null   float64       \n",
      " 6   idle_time              1197 non-null   float64       \n",
      " 7   idle_men               1197 non-null   int64         \n",
      " 8   no_of_style_change     1197 non-null   int64         \n",
      " 9   no_of_workers          1197 non-null   float64       \n",
      " 10  actual_productivity    1197 non-null   float64       \n",
      " 11  Quarter1               1197 non-null   object        \n",
      " 12  Quarter2               1197 non-null   object        \n",
      " 13  Quarter3               1197 non-null   object        \n",
      " 14  Quarter4               1197 non-null   object        \n",
      " 15  dept_finishing         1197 non-null   object        \n",
      " 16  dept_sewing            1197 non-null   object        \n",
      " 17  team_1                 1197 non-null   object        \n",
      " 18  team_2                 1197 non-null   object        \n",
      " 19  team_3                 1197 non-null   object        \n",
      " 20  team_4                 1197 non-null   object        \n",
      " 21  team_5                 1197 non-null   object        \n",
      " 22  team_6                 1197 non-null   object        \n",
      " 23  team_7                 1197 non-null   object        \n",
      " 24  team_8                 1197 non-null   object        \n",
      " 25  team_9                 1197 non-null   object        \n",
      " 26  team_10                1197 non-null   object        \n",
      " 27  team_11                1197 non-null   object        \n",
      " 28  team_12                1197 non-null   object        \n",
      " 29  Monday                 1197 non-null   object        \n",
      " 30  Saturday               1197 non-null   object        \n",
      " 31  Sunday                 1197 non-null   object        \n",
      " 32  Thursday               1197 non-null   object        \n",
      " 33  Tuesday                1197 non-null   object        \n",
      " 34  Wednesday              1197 non-null   object        \n",
      "dtypes: datetime64[ns](1), float64(7), int64(3), object(24)\n",
      "memory usage: 327.4+ KB\n"
     ]
    }
   ],
   "source": [
    "#converting 6 days to object\n",
    "df_reg['Monday'] = df_reg['Monday'].astype(str)\n",
    "df_reg['Tuesday'] = df_reg['Tuesday'].astype(str)\n",
    "df_reg['Wednesday'] = df_reg['Wednesday'].astype(str)\n",
    "df_reg['Thursday'] = df_reg['Thursday'].astype(str)\n",
    "df_reg['Saturday'] = df_reg['Saturday'].astype(str)\n",
    "df_reg['Sunday'] = df_reg['Sunday'].astype(str)\n",
    "df_reg.info()"
   ]
  },
  {
   "cell_type": "code",
   "execution_count": 81,
   "id": "fa97f93c",
   "metadata": {},
   "outputs": [
    {
     "name": "stdout",
     "output_type": "stream",
     "text": [
      "Feature names after data wrangling :\n",
      "\n",
      " Index(['targeted_productivity', 'smv', 'wip', 'over_time', 'incentive',\n",
      "       'idle_time', 'idle_men', 'no_of_style_change', 'no_of_workers',\n",
      "       'actual_productivity', 'Quarter1', 'Quarter2', 'Quarter3', 'Quarter4',\n",
      "       'dept_finishing', 'dept_sewing', 'team_1', 'team_2', 'team_3', 'team_4',\n",
      "       'team_5', 'team_6', 'team_7', 'team_8', 'team_9', 'team_10', 'team_11',\n",
      "       'team_12', 'Monday', 'Saturday', 'Sunday', 'Thursday', 'Tuesday',\n",
      "       'Wednesday'],\n",
      "      dtype='object')\n"
     ]
    }
   ],
   "source": [
    "#df_reg[\"Date\"] = pd.to_datetime(df_reg['date'])\n",
    "#df_reg[\"year\"] = df_reg[\"date\"].dt.year\n",
    "#df_reg[\"day\"] = df_reg[\"date\"].dt.day\n",
    "#df_reg[\"month\"] = df_reg[\"date\"].dt.month\n",
    "\n",
    "# Drop original columns Date\n",
    "df_reg.drop('date', axis=1, inplace=True)\n",
    "print (f\"Feature names after data wrangling :\\n\\n {df_reg.columns}\")"
   ]
  },
  {
   "cell_type": "markdown",
   "id": "bade8401",
   "metadata": {},
   "source": [
    "# Heat map Visualization on Correlation"
   ]
  },
  {
   "cell_type": "code",
   "execution_count": 82,
   "id": "3e79ea18",
   "metadata": {},
   "outputs": [],
   "source": [
    "import matplotlib.pyplot as plt\n",
    "import seaborn as sns\n",
    "import matplotlib.lines as lines\n",
    "sns.set_style(\"darkgrid\")"
   ]
  },
  {
   "cell_type": "code",
   "execution_count": 83,
   "id": "4320c2b7",
   "metadata": {},
   "outputs": [
    {
     "data": {
      "text/plain": [
       "<AxesSubplot:>"
      ]
     },
     "execution_count": 83,
     "metadata": {},
     "output_type": "execute_result"
    },
    {
     "data": {
      "image/png": "[encoded data removed]",
      "text/plain": [
       "<Figure size 864x576 with 2 Axes>"
      ]
     },
     "metadata": {},
     "output_type": "display_data"
    }
   ],
   "source": [
    "plt.figure(figsize=(12,8))\n",
    "sns.heatmap(df_reg.corr(),cmap=\"coolwarm\")"
   ]
  },
  {
   "cell_type": "code",
   "execution_count": 84,
   "id": "862c9460",
   "metadata": {},
   "outputs": [
    {
     "data": {
      "text/plain": [
       "0.9121763124916776"
      ]
     },
     "execution_count": 84,
     "metadata": {},
     "output_type": "execute_result"
    }
   ],
   "source": [
    "df_reg['no_of_workers'].corr(df_reg['smv'])"
   ]
  },
  {
   "cell_type": "code",
   "execution_count": 85,
   "id": "2b8b6309",
   "metadata": {},
   "outputs": [
    {
     "data": {
      "text/plain": [
       "0.7341641744474343"
      ]
     },
     "execution_count": 85,
     "metadata": {},
     "output_type": "execute_result"
    }
   ],
   "source": [
    "df_reg['no_of_workers'].corr(df_reg['over_time'])"
   ]
  },
  {
   "cell_type": "code",
   "execution_count": 86,
   "id": "1c6d93e2",
   "metadata": {},
   "outputs": [
    {
     "data": {
      "text/plain": [
       "0.6748874395933928"
      ]
     },
     "execution_count": 86,
     "metadata": {},
     "output_type": "execute_result"
    }
   ],
   "source": [
    "df_reg['over_time'].corr(df_reg['smv'])"
   ]
  },
  {
   "cell_type": "code",
   "execution_count": 87,
   "id": "62daf017",
   "metadata": {},
   "outputs": [
    {
     "data": {
      "text/plain": [
       "0.5591459152184007"
      ]
     },
     "execution_count": 87,
     "metadata": {},
     "output_type": "execute_result"
    }
   ],
   "source": [
    "df_reg['idle_men'].corr(df_reg['idle_time'])"
   ]
  },
  {
   "cell_type": "markdown",
   "id": "0877cb0a",
   "metadata": {},
   "source": [
    "Highest Positive Correlations:\n",
    "\n",
    "    No_of workers and smv (0.91)\n",
    "    No_of workers and over_time (0.73)\n",
    "    Over_time and smv (0.67)\n",
    "    Idle_men and Idle_time (0.56)\n",
    "\n",
    "    Positive Correlations:\n",
    "\n",
    "    No_of workers and no_of_style_change(0.33)\n",
    "    No_of_style_changehas and smv (0.32)\n",
    "    There isnt any obvious negative correlation between features"
   ]
  },
  {
   "cell_type": "code",
   "execution_count": 88,
   "id": "3d145469",
   "metadata": {},
   "outputs": [
    {
     "data": {
      "text/html": [
       "<div>\n",
       "<style scoped>\n",
       "    .dataframe tbody tr th:only-of-type {\n",
       "        vertical-align: middle;\n",
       "    }\n",
       "\n",
       "    .dataframe tbody tr th {\n",
       "        vertical-align: top;\n",
       "    }\n",
       "\n",
       "    .dataframe thead th {\n",
       "        text-align: right;\n",
       "    }\n",
       "</style>\n",
       "<table border=\"1\" class=\"dataframe\">\n",
       "  <thead>\n",
       "    <tr style=\"text-align: right;\">\n",
       "      <th></th>\n",
       "      <th>actual_productivity</th>\n",
       "    </tr>\n",
       "  </thead>\n",
       "  <tbody>\n",
       "    <tr>\n",
       "      <th>actual_productivity</th>\n",
       "      <td>1.000000</td>\n",
       "    </tr>\n",
       "    <tr>\n",
       "      <th>targeted_productivity</th>\n",
       "      <td>0.422013</td>\n",
       "    </tr>\n",
       "    <tr>\n",
       "      <th>wip</th>\n",
       "      <td>0.083545</td>\n",
       "    </tr>\n",
       "    <tr>\n",
       "      <th>incentive</th>\n",
       "      <td>0.057687</td>\n",
       "    </tr>\n",
       "    <tr>\n",
       "      <th>over_time</th>\n",
       "      <td>-0.054206</td>\n",
       "    </tr>\n",
       "    <tr>\n",
       "      <th>no_of_workers</th>\n",
       "      <td>-0.057991</td>\n",
       "    </tr>\n",
       "    <tr>\n",
       "      <th>idle_time</th>\n",
       "      <td>-0.080851</td>\n",
       "    </tr>\n",
       "    <tr>\n",
       "      <th>smv</th>\n",
       "      <td>-0.122089</td>\n",
       "    </tr>\n",
       "    <tr>\n",
       "      <th>idle_men</th>\n",
       "      <td>-0.181734</td>\n",
       "    </tr>\n",
       "    <tr>\n",
       "      <th>no_of_style_change</th>\n",
       "      <td>-0.207366</td>\n",
       "    </tr>\n",
       "  </tbody>\n",
       "</table>\n",
       "</div>"
      ],
      "text/plain": [
       "                       actual_productivity\n",
       "actual_productivity               1.000000\n",
       "targeted_productivity             0.422013\n",
       "wip                               0.083545\n",
       "incentive                         0.057687\n",
       "over_time                        -0.054206\n",
       "no_of_workers                    -0.057991\n",
       "idle_time                        -0.080851\n",
       "smv                              -0.122089\n",
       "idle_men                         -0.181734\n",
       "no_of_style_change               -0.207366"
      ]
     },
     "metadata": {},
     "output_type": "display_data"
    }
   ],
   "source": [
    "# Let's check the correlation of features with target feature.\n",
    "df_corr = df_reg.copy()\n",
    "correlation_matrix = df_corr.corr()\n",
    "# Interested only in the relation with target feature 'actual_productivity'\n",
    "correlation_matrix=correlation_matrix['actual_productivity']\n",
    "correlation_matrix=correlation_matrix.to_frame()\n",
    "correlation_matrix.sort_values(by='actual_productivity',ascending=False,inplace=True)\n",
    "display(correlation_matrix)"
   ]
  },
  {
   "cell_type": "code",
   "execution_count": 89,
   "id": "e8be5bc9",
   "metadata": {},
   "outputs": [
    {
     "data": {
      "image/png": "[encoded data removed]",
      "text/plain": [
       "<Figure size 1000x700 with 2 Axes>"
      ]
     },
     "metadata": {},
     "output_type": "display_data"
    }
   ],
   "source": [
    "sns.reset_defaults()\n",
    "\n",
    "#Visualization\n",
    "fig=plt.figure(figsize=(10,7));\n",
    "\n",
    "ax0=fig.add_subplot(1,2,1)\n",
    "ax1=fig.add_subplot(1,2,2)\n",
    "ax1.grid(False)\n",
    "ax1.set_xticklabels([])\n",
    "ax1.set_yticklabels([])\n",
    "\n",
    "background_color='#fbfbfb'\n",
    "\n",
    "fig.patch.set_facecolor(background_color)\n",
    "ax0.set_facecolor(background_color)\n",
    "ax1.set_facecolor(background_color)\n",
    "ax0.spines[\"bottom\"].set_visible(False)\n",
    "ax0.spines[\"top\"].set_visible(False)\n",
    "ax0.spines[\"right\"].set_visible(False)\n",
    "ax0.spines[\"left\"].set_visible(False)\n",
    "ax1.spines[\"bottom\"].set_visible(False)\n",
    "ax1.spines[\"top\"].set_visible(False)\n",
    "ax1.spines[\"right\"].set_visible(False)\n",
    "ax1.spines[\"left\"].set_visible(False)\n",
    "ax1.tick_params(left=False,bottom=False)\n",
    "\n",
    "#Plot \n",
    "sns.heatmap(correlation_matrix,cmap='inferno',annot=True,cbar=False,ax=ax0)\n",
    "ax0.set_ylabel('Productivity')\n",
    "\n",
    "   \n",
    "#Draw line in the middle    \n",
    "l1= lines.Line2D([0.52,0.52],[0.1, 0.9],color='black',lw=0.2,transform=fig.transFigure)\n",
    "fig.lines.extend([l1])\n",
    "\n",
    "#heading content\n",
    "fig.text(x=0.5,\n",
    "        y=0.6,\n",
    "        fontweight='bold',\n",
    "        fontfamily='serif',\n",
    "        fontsize=17,\n",
    "        color='grey',\n",
    "        s='''\n",
    "        Relation between independent features\n",
    "        with target feature\n",
    "        ''')\n",
    "#text content\n",
    "fig.text(x=0.5,\n",
    "        y=0.5,\n",
    "        fontweight='light',\n",
    "        fontfamily='serif',\n",
    "        fontsize=16,\n",
    "        color='grey',\n",
    "        s='''\n",
    "        Almost all the features doesn't have \n",
    "        any strong relation with target feature.\n",
    "        ''')\n",
    "plt.show()"
   ]
  },
  {
   "cell_type": "markdown",
   "id": "b15e85e9",
   "metadata": {},
   "source": [
    "# Splitting Dataset into Training and Testing set"
   ]
  },
  {
   "cell_type": "code",
   "execution_count": 90,
   "id": "3ad5f98a",
   "metadata": {},
   "outputs": [],
   "source": [
    "X = df_reg.drop('actual_productivity',axis=1)   #Feature Matrix\n",
    "y = df_reg[\"actual_productivity\"]          #Target Variable"
   ]
  },
  {
   "cell_type": "markdown",
   "id": "c2d2ba1f",
   "metadata": {},
   "source": [
    "I am working on the regression dataset, so I am utilizing StandardScaler() method to scale the data.\n",
    "Generally, for regression we scale using StandardScaler() because for most linear models  we center the feature columns at mean 0 with standard deviation 1 so that the feature columns take the form of a normal distribution, which makes it easier to learn the weights. Besides, standardization maintains useful information about outliers and makes the algorithm less sensitive to them. As some of the features of this dataset have outliers\n",
    "I considered using StandardScaler()."
   ]
  },
  {
   "cell_type": "markdown",
   "id": "1a8f5725",
   "metadata": {},
   "source": [
    "Also, please note that for regression analysis I have been using 'r2' as scornig method for the rest of the analysis and considering 5 folds cross validation in GridSearchCV()."
   ]
  },
  {
   "cell_type": "code",
   "execution_count": 91,
   "id": "d626f3b9",
   "metadata": {},
   "outputs": [],
   "source": [
    "from sklearn.preprocessing import StandardScaler\n",
    "from sklearn.model_selection import train_test_split\n",
    "\n",
    "X_train_orig, X_test_orig, y_train, y_test = train_test_split(X,y, random_state = 0)\n",
    "\n",
    "scaler = StandardScaler()\n",
    "X_train = scaler.fit_transform(X_train_orig)\n",
    "X_test = scaler.transform(X_test_orig)"
   ]
  },
  {
   "cell_type": "markdown",
   "id": "7fe2011b",
   "metadata": {},
   "source": [
    "# Training Regression Model"
   ]
  },
  {
   "cell_type": "markdown",
   "id": "06fcbcce",
   "metadata": {},
   "source": [
    "We are going to present following regression models:\n",
    "\n",
    ">Apply any two models with bagging and any two models with pasting.\n",
    ">Apply any two models with AdaBoost boosting.\n",
    ">Apply gradient boosting.\n",
    "\n",
    "\n",
    "1. Decision Tree Regressor with Bagging\n",
    "2. SVR kernel 'rbf' with Bagging\n",
    "3. Decision Tree Regressor with Pasting\n",
    "4. SVR kernel 'liear' with Pasting\n",
    "\n",
    "5. Decision Tree Regressor with AdaBoost\n",
    "6. SVR kernel 'rbf' with Adaboost\n",
    "\n",
    "7. Gradient Boosting\n",
    "    \n",
    ">Apply PCA on data and then apply all the models in project 1 again on the post PCA data. Compare your results with results in project 1. You don't need to apply all the models twice. Just copy the result from project 1, prepare a similar table for all the models after PCA and compare. Does PCA help in getting better results?\n",
    "\n",
    "8. All 11 models from project 1 with post PCA data as follows :\n",
    "\n",
    "    i. K Nearest Neighbors Regressor\n",
    "    \n",
    "    ii. Linear regression using the Normal Equation\n",
    "    \n",
    "    iii.  SGD Regressor\n",
    "    \n",
    "    iv.  Polynomial regression\n",
    "    \n",
    "    v.  Ridge\n",
    "    \n",
    "    vi.  LASSO\n",
    "    \n",
    "    vii.  LinearSVR\n",
    "    \n",
    "    viii.  SVR with kernel trick\n",
    "        a. kernel='linear'\n",
    "        b. kernel='rbf'\n",
    "        c. kernel = 'poly’, degree\n",
    "        \n",
    "    ix. Decision Tree Regressor\n",
    "\n",
    ">Apply deep learning models (MLP) covered in class.\n",
    "\n",
    "9. Neural Network Model"
   ]
  },
  {
   "cell_type": "markdown",
   "id": "92d5a43e",
   "metadata": {},
   "source": [
    "# | Bagging |\n",
    "1. SVR with kernel = 'rbf'"
   ]
  },
  {
   "cell_type": "code",
   "execution_count": 92,
   "id": "d40c4851",
   "metadata": {},
   "outputs": [],
   "source": [
    "param_grid_SVR_rbf = {'C': [0.001, 0.01, 0.1, 1, 10, 100], \n",
    "                    'gamma': [0.001, 0.01, 0.1, 1, 10, 100]}\n",
    "\n",
    "params = {\n",
    "    'bag__bootstrap_features' : [True, False],\n",
    "    'bag__base_estimator__svc__kernel': ['linear', 'rbf'],\n",
    "    'bag__base_estimator__svc__decision_function_shape': ['ovo', 'ovr']\n",
    "}"
   ]
  },
  {
   "cell_type": "code",
   "execution_count": 93,
   "id": "e6192552",
   "metadata": {},
   "outputs": [
    {
     "data": {
      "text/plain": [
       "GridSearchCV(cv=5,\n",
       "             estimator=BaggingRegressor(base_estimator=SVR(), random_state=0),\n",
       "             n_jobs=-1,\n",
       "             param_grid={'max_features': [0.1, 0.2, 0.5, 1],\n",
       "                         'max_samples': [0.1, 0.5, 1],\n",
       "                         'n_estimators': [100, 200, 300, 500]},\n",
       "             scoring='r2')"
      ]
     },
     "execution_count": 93,
     "metadata": {},
     "output_type": "execute_result"
    }
   ],
   "source": [
    "from sklearn.model_selection import GridSearchCV\n",
    "from sklearn.ensemble import BaggingRegressor\n",
    "from sklearn.svm import SVR\n",
    "\n",
    "param_grid_SVR_rbf = {'max_features':[0.1, 0.2, 0.5, 1], \n",
    "                     'n_estimators':[100, 200, 300, 500], \n",
    "                     'max_samples':[0.1, 0.5, 1]\n",
    "                     }\n",
    "\n",
    "svr_rbf = SVR(kernel = 'rbf')\n",
    "\n",
    "# bagging: bootstrap = True\n",
    "bag_svr = BaggingRegressor(svr_rbf, bootstrap = True, random_state = 0)\n",
    "\n",
    "svr_rbf_grid = GridSearchCV(bag_svr, param_grid_SVR_rbf, cv = 5, scoring = 'r2', n_jobs = -1)\n",
    "\n",
    "svr_rbf_grid.fit(X_train, y_train)"
   ]
  },
  {
   "cell_type": "code",
   "execution_count": 94,
   "id": "be0bd26a",
   "metadata": {},
   "outputs": [
    {
     "name": "stdout",
     "output_type": "stream",
     "text": [
      "Best hyperparameter : {'max_features': 0.5, 'max_samples': 0.5, 'n_estimators': 200}\n",
      "Best x-validation score : 0.26124186087345697\n"
     ]
    }
   ],
   "source": [
    "print(\"Best hyperparameter :\", svr_rbf_grid.best_params_)\n",
    "print(\"Best x-validation score :\", svr_rbf_grid.best_score_)"
   ]
  },
  {
   "cell_type": "code",
   "execution_count": 95,
   "id": "279341bc",
   "metadata": {},
   "outputs": [
    {
     "data": {
      "text/plain": [
       "[['SVR kernel RBF with Bagging: ',\n",
       "  {'max_features': 0.5, 'max_samples': 0.5, 'n_estimators': 200},\n",
       "  0.26124186087345697]]"
      ]
     },
     "execution_count": 95,
     "metadata": {},
     "output_type": "execute_result"
    }
   ],
   "source": [
    "Full_table = [['SVR kernel RBF with Bagging: ', svr_rbf_grid.best_params_, svr_rbf_grid.best_score_]]\n",
    "Full_table"
   ]
  },
  {
   "cell_type": "markdown",
   "id": "e578b598",
   "metadata": {},
   "source": [
    "# | Bagging |\n",
    "\n",
    "2. Random Forest Regressor"
   ]
  },
  {
   "cell_type": "code",
   "execution_count": 96,
   "id": "09eba241",
   "metadata": {},
   "outputs": [
    {
     "data": {
      "text/plain": [
       "GridSearchCV(cv=5, estimator=RandomForestRegressor(n_jobs=-1, random_state=0),\n",
       "             param_grid={'max_depth': [1, 2, 3, 4, 5],\n",
       "                         'max_features': [0.1, 0.5, 1, 2],\n",
       "                         'min_samples_leaf': [40, 60, 80, 100],\n",
       "                         'min_samples_split': [100, 150, 200, 250, 300],\n",
       "                         'n_estimators': [100, 200, 500]},\n",
       "             scoring='r2')"
      ]
     },
     "execution_count": 96,
     "metadata": {},
     "output_type": "execute_result"
    }
   ],
   "source": [
    "from sklearn.ensemble import RandomForestRegressor\n",
    "\n",
    "param_grid_rf = {'max_depth':[1, 2, 3, 4, 5],\n",
    "                 'max_features':[0.1, 0.5, 1, 2],\n",
    "                 'min_samples_leaf': [40, 60, 80, 100],\n",
    "                 'min_samples_split': [100, 150, 200, 250, 300],\n",
    "                 'n_estimators':[100, 200, 500]\n",
    "                }\n",
    "\n",
    "# bagging: bootstrap = True\n",
    "rf_reg = RandomForestRegressor(bootstrap = True, n_jobs = -1, random_state = 0)\n",
    "\n",
    "grid_rf = GridSearchCV(rf_reg, param_grid_rf, cv = 5, scoring= 'r2')\n",
    "\n",
    "grid_rf.fit(X_train, y_train)"
   ]
  },
  {
   "cell_type": "code",
   "execution_count": 97,
   "id": "d6442795",
   "metadata": {},
   "outputs": [
    {
     "name": "stdout",
     "output_type": "stream",
     "text": [
      "Best hyperparameter : {'max_depth': 5, 'max_features': 0.5, 'min_samples_leaf': 40, 'min_samples_split': 100, 'n_estimators': 500}\n",
      "Best x-validation score : 0.3219499855033606\n"
     ]
    }
   ],
   "source": [
    "print(\"Best hyperparameter :\", grid_rf.best_params_)\n",
    "print(\"Best x-validation score :\", grid_rf.best_score_)"
   ]
  },
  {
   "cell_type": "code",
   "execution_count": 98,
   "id": "5773281a",
   "metadata": {},
   "outputs": [
    {
     "data": {
      "text/plain": [
       "[['SVR kernel RBF with Bagging: ',\n",
       "  {'max_features': 0.5, 'max_samples': 0.5, 'n_estimators': 200},\n",
       "  0.26124186087345697],\n",
       " ['Random Forest Regressor with Bagging: ',\n",
       "  {'max_depth': 5,\n",
       "   'max_features': 0.5,\n",
       "   'min_samples_leaf': 40,\n",
       "   'min_samples_split': 100,\n",
       "   'n_estimators': 500},\n",
       "  0.3219499855033606]]"
      ]
     },
     "execution_count": 98,
     "metadata": {},
     "output_type": "execute_result"
    }
   ],
   "source": [
    "Full_table += [['Random Forest Regressor with Bagging: ', grid_rf.best_params_, grid_rf.best_score_]]\n",
    "Full_table"
   ]
  },
  {
   "cell_type": "markdown",
   "id": "5532e72d",
   "metadata": {},
   "source": [
    "# Feature Importance in Random Forest Regressor with Bagging"
   ]
  },
  {
   "cell_type": "code",
   "execution_count": 99,
   "id": "fca6d1cc",
   "metadata": {},
   "outputs": [
    {
     "data": {
      "text/plain": [
       "RandomForestRegressor(max_depth=5, max_features=1, max_samples=2,\n",
       "                      n_estimators=500, n_jobs=-1, random_state=0)"
      ]
     },
     "execution_count": 99,
     "metadata": {},
     "output_type": "execute_result"
    }
   ],
   "source": [
    "from sklearn.ensemble import RandomForestRegressor\n",
    "\n",
    "rf_regressor_bag = RandomForestRegressor(max_depth = 5, \n",
    "                                 n_estimators = 500,\n",
    "                                 bootstrap = True,\n",
    "                                 max_features = 1,\n",
    "                                 max_samples = 2,\n",
    "                                 n_jobs = -1,\n",
    "                                 random_state = 0)\n",
    "\n",
    "rf_regressor_bag.fit(X_train, y_train)"
   ]
  },
  {
   "cell_type": "code",
   "execution_count": 100,
   "id": "45413aef",
   "metadata": {},
   "outputs": [
    {
     "data": {
      "text/plain": [
       "([<matplotlib.axis.YTick at 0x7fcf1550fd00>,\n",
       "  <matplotlib.axis.YTick at 0x7fcef78bd8b0>,\n",
       "  <matplotlib.axis.YTick at 0x7fcefa12fc40>,\n",
       "  <matplotlib.axis.YTick at 0x7fcef7201970>,\n",
       "  <matplotlib.axis.YTick at 0x7fcef77f2430>,\n",
       "  <matplotlib.axis.YTick at 0x7fcef77f2f10>,\n",
       "  <matplotlib.axis.YTick at 0x7fcef68047f0>,\n",
       "  <matplotlib.axis.YTick at 0x7fcef7812dc0>,\n",
       "  <matplotlib.axis.YTick at 0x7fcef71ea4f0>,\n",
       "  <matplotlib.axis.YTick at 0x7fcef71de460>,\n",
       "  <matplotlib.axis.YTick at 0x7fcef782d400>,\n",
       "  <matplotlib.axis.YTick at 0x7fcef77c6460>,\n",
       "  <matplotlib.axis.YTick at 0x7fcef782d970>,\n",
       "  <matplotlib.axis.YTick at 0x7fcef9ca5b20>,\n",
       "  <matplotlib.axis.YTick at 0x7fcef77c61c0>,\n",
       "  <matplotlib.axis.YTick at 0x7fcef77a6880>,\n",
       "  <matplotlib.axis.YTick at 0x7fcef776e640>,\n",
       "  <matplotlib.axis.YTick at 0x7fcef77f9bb0>,\n",
       "  <matplotlib.axis.YTick at 0x7fcef721ac40>,\n",
       "  <matplotlib.axis.YTick at 0x7fcef77f9760>,\n",
       "  <matplotlib.axis.YTick at 0x7fcef77d44f0>,\n",
       "  <matplotlib.axis.YTick at 0x7fcef7803f40>,\n",
       "  <matplotlib.axis.YTick at 0x7fcf14fcb850>,\n",
       "  <matplotlib.axis.YTick at 0x7fcef7781100>,\n",
       "  <matplotlib.axis.YTick at 0x7fcef72194f0>,\n",
       "  <matplotlib.axis.YTick at 0x7fcef6cec850>,\n",
       "  <matplotlib.axis.YTick at 0x7fcef72193a0>,\n",
       "  <matplotlib.axis.YTick at 0x7fcef71aba00>,\n",
       "  <matplotlib.axis.YTick at 0x7fcef77a65b0>,\n",
       "  <matplotlib.axis.YTick at 0x7fcef77b61f0>,\n",
       "  <matplotlib.axis.YTick at 0x7fcef778ea30>,\n",
       "  <matplotlib.axis.YTick at 0x7fcef7772d30>,\n",
       "  <matplotlib.axis.YTick at 0x7fcef71a6040>],\n",
       " [Text(0, 0, 'targeted_productivity'),\n",
       "  Text(0, 1, 'smv'),\n",
       "  Text(0, 2, 'wip'),\n",
       "  Text(0, 3, 'over_time'),\n",
       "  Text(0, 4, 'incentive'),\n",
       "  Text(0, 5, 'idle_time'),\n",
       "  Text(0, 6, 'idle_men'),\n",
       "  Text(0, 7, 'no_of_style_change'),\n",
       "  Text(0, 8, 'no_of_workers'),\n",
       "  Text(0, 9, 'Quarter1'),\n",
       "  Text(0, 10, 'Quarter2'),\n",
       "  Text(0, 11, 'Quarter3'),\n",
       "  Text(0, 12, 'Quarter4'),\n",
       "  Text(0, 13, 'dept_finishing'),\n",
       "  Text(0, 14, 'dept_sewing'),\n",
       "  Text(0, 15, 'team_1'),\n",
       "  Text(0, 16, 'team_2'),\n",
       "  Text(0, 17, 'team_3'),\n",
       "  Text(0, 18, 'team_4'),\n",
       "  Text(0, 19, 'team_5'),\n",
       "  Text(0, 20, 'team_6'),\n",
       "  Text(0, 21, 'team_7'),\n",
       "  Text(0, 22, 'team_8'),\n",
       "  Text(0, 23, 'team_9'),\n",
       "  Text(0, 24, 'team_10'),\n",
       "  Text(0, 25, 'team_11'),\n",
       "  Text(0, 26, 'team_12'),\n",
       "  Text(0, 27, 'Monday'),\n",
       "  Text(0, 28, 'Saturday'),\n",
       "  Text(0, 29, 'Sunday'),\n",
       "  Text(0, 30, 'Thursday'),\n",
       "  Text(0, 31, 'Tuesday'),\n",
       "  Text(0, 32, 'Wednesday')])"
      ]
     },
     "execution_count": 100,
     "metadata": {},
     "output_type": "execute_result"
    },
    {
     "data": {
      "image/png": "[encoded data removed]",
      "text/plain": [
       "<Figure size 1440x720 with 1 Axes>"
      ]
     },
     "metadata": {
      "needs_background": "light"
     },
     "output_type": "display_data"
    }
   ],
   "source": [
    "%matplotlib inline\n",
    "\n",
    "plt.subplots(figsize = (20,10))\n",
    "y_list = rf_regressor_bag.feature_importances_\n",
    "y_pos = np.arange(len(y_list))\n",
    "features = X\n",
    "plt.barh(y_pos, y_list, align = 'center', alpha = 0.4)\n",
    "plt.yticks(y_pos, features)"
   ]
  },
  {
   "cell_type": "markdown",
   "id": "36034b0c",
   "metadata": {},
   "source": [
    "# 5 important features based on Random Forest Regressor with Bagging\n",
    "    1. over_time\n",
    "    2. no_of_workers\n",
    "    3. smv\n",
    "    4. wip\n",
    "    5. incentive"
   ]
  },
  {
   "cell_type": "markdown",
   "id": "06f1cab1",
   "metadata": {},
   "source": [
    "# | Pasting |\n",
    "1. Decision Tree Regressor"
   ]
  },
  {
   "cell_type": "code",
   "execution_count": 101,
   "id": "35d939b2",
   "metadata": {},
   "outputs": [
    {
     "data": {
      "text/plain": [
       "GridSearchCV(cv=5,\n",
       "             estimator=BaggingRegressor(base_estimator=DecisionTreeRegressor(random_state=0),\n",
       "                                        bootstrap=False, random_state=0),\n",
       "             n_jobs=-1,\n",
       "             param_grid={'max_features': [0.1, 0.2, 0.5, 1],\n",
       "                         'max_samples': [0.1, 0.5, 1],\n",
       "                         'n_estimators': [100, 200, 300, 500]},\n",
       "             scoring='r2')"
      ]
     },
     "execution_count": 101,
     "metadata": {},
     "output_type": "execute_result"
    }
   ],
   "source": [
    "from sklearn.model_selection import GridSearchCV\n",
    "from sklearn.tree import DecisionTreeRegressor\n",
    "from sklearn.ensemble import BaggingRegressor\n",
    "\n",
    "param_grid_dtreg = {'max_features':[0.1, 0.2, 0.5, 1], \n",
    "                    'n_estimators':[100, 200, 300, 500], \n",
    "                    'max_samples':[0.1, 0.5, 1]\n",
    "                   }\n",
    "\n",
    "dt_reg = DecisionTreeRegressor(random_state = 0)\n",
    "\n",
    "# Pasting: bootstrap = False\n",
    "pasting_dtreg = BaggingRegressor(dt_reg, bootstrap = False, random_state = 0)\n",
    "\n",
    "dtreg_grid_pasting = GridSearchCV(pasting_dtreg, param_grid = param_grid_dtreg, cv = 5, n_jobs = -1, scoring = 'r2')\n",
    "dtreg_grid_pasting.fit(X_train, y_train)"
   ]
  },
  {
   "cell_type": "code",
   "execution_count": 102,
   "id": "97347086",
   "metadata": {},
   "outputs": [
    {
     "name": "stdout",
     "output_type": "stream",
     "text": [
      "Best hyperparameter : {'max_features': 0.5, 'max_samples': 0.5, 'n_estimators': 500}\n",
      "Best x-validation score : 0.4644404829042692\n"
     ]
    }
   ],
   "source": [
    "print(\"Best hyperparameter :\", dtreg_grid_pasting.best_params_)\n",
    "print(\"Best x-validation score :\", dtreg_grid_pasting.best_score_)"
   ]
  },
  {
   "cell_type": "code",
   "execution_count": 103,
   "id": "20aa38b5",
   "metadata": {},
   "outputs": [
    {
     "data": {
      "text/plain": [
       "[['SVR kernel RBF with Bagging: ',\n",
       "  {'max_features': 0.5, 'max_samples': 0.5, 'n_estimators': 200},\n",
       "  0.26124186087345697],\n",
       " ['Random Forest Regressor with Bagging: ',\n",
       "  {'max_depth': 5,\n",
       "   'max_features': 0.5,\n",
       "   'min_samples_leaf': 40,\n",
       "   'min_samples_split': 100,\n",
       "   'n_estimators': 500},\n",
       "  0.3219499855033606],\n",
       " ['Decision Tree Regressor with Pasting: ',\n",
       "  {'max_features': 0.5, 'max_samples': 0.5, 'n_estimators': 500},\n",
       "  0.4644404829042692]]"
      ]
     },
     "execution_count": 103,
     "metadata": {},
     "output_type": "execute_result"
    }
   ],
   "source": [
    "Full_table += [['Decision Tree Regressor with Pasting: ', dtreg_grid_pasting.best_params_, dtreg_grid_pasting.best_score_]]\n",
    "Full_table"
   ]
  },
  {
   "cell_type": "markdown",
   "id": "4fbf87ca",
   "metadata": {},
   "source": [
    "# | Pasting |\n",
    "\n",
    "2. Random Forest Regressor"
   ]
  },
  {
   "cell_type": "code",
   "execution_count": 104,
   "id": "7586dcd0",
   "metadata": {},
   "outputs": [
    {
     "data": {
      "text/plain": [
       "GridSearchCV(cv=5,\n",
       "             estimator=RandomForestRegressor(bootstrap=False, n_jobs=-1,\n",
       "                                             random_state=0),\n",
       "             param_grid={'max_depth': [1, 2, 3, 4, 5],\n",
       "                         'max_features': [0.1, 0.5, 1, 2],\n",
       "                         'min_samples_leaf': [40, 60, 80, 100],\n",
       "                         'min_samples_split': [100, 150, 200, 250, 300],\n",
       "                         'n_estimators': [100, 200, 500]},\n",
       "             scoring='r2')"
      ]
     },
     "execution_count": 104,
     "metadata": {},
     "output_type": "execute_result"
    }
   ],
   "source": [
    "from sklearn.ensemble import RandomForestRegressor\n",
    "\n",
    "param_grid_rf = {'max_depth':[1, 2, 3, 4, 5],\n",
    "                 'max_features':[0.1, 0.5, 1, 2],\n",
    "                 'min_samples_leaf': [40, 60, 80, 100],\n",
    "                 'min_samples_split': [100, 150, 200, 250, 300],\n",
    "                 'n_estimators':[100, 200, 500]\n",
    "                }\n",
    "\n",
    "# Pasting: bootstrap = False\n",
    "pasting_rfreg = RandomForestRegressor(bootstrap = False, n_jobs = -1, random_state = 0)\n",
    "\n",
    "grid_rf_pasting = GridSearchCV(pasting_rfreg, param_grid_rf, cv = 5, scoring= 'r2')\n",
    "\n",
    "grid_rf_pasting.fit(X_train, y_train)"
   ]
  },
  {
   "cell_type": "code",
   "execution_count": 105,
   "id": "2cdb9f2d",
   "metadata": {},
   "outputs": [
    {
     "name": "stdout",
     "output_type": "stream",
     "text": [
      "Best hyperparameter : {'max_depth': 5, 'max_features': 0.5, 'min_samples_leaf': 40, 'min_samples_split': 100, 'n_estimators': 200}\n",
      "Best x-validation score : 0.3521877823686352\n"
     ]
    }
   ],
   "source": [
    "print(\"Best hyperparameter :\", grid_rf_pasting.best_params_)\n",
    "print(\"Best x-validation score :\", grid_rf_pasting.best_score_)"
   ]
  },
  {
   "cell_type": "code",
   "execution_count": 106,
   "id": "aa9ab9b3",
   "metadata": {},
   "outputs": [
    {
     "data": {
      "text/plain": [
       "[['SVR kernel RBF with Bagging: ',\n",
       "  {'max_features': 0.5, 'max_samples': 0.5, 'n_estimators': 200},\n",
       "  0.26124186087345697],\n",
       " ['Random Forest Regressor with Bagging: ',\n",
       "  {'max_depth': 5,\n",
       "   'max_features': 0.5,\n",
       "   'min_samples_leaf': 40,\n",
       "   'min_samples_split': 100,\n",
       "   'n_estimators': 500},\n",
       "  0.3219499855033606],\n",
       " ['Decision Tree Regressor with Pasting: ',\n",
       "  {'max_features': 0.5, 'max_samples': 0.5, 'n_estimators': 500},\n",
       "  0.4644404829042692],\n",
       " ['Random Forest Regressor with Pasting: ',\n",
       "  {'max_depth': 5,\n",
       "   'max_features': 0.5,\n",
       "   'min_samples_leaf': 40,\n",
       "   'min_samples_split': 100,\n",
       "   'n_estimators': 200},\n",
       "  0.3521877823686352]]"
      ]
     },
     "execution_count": 106,
     "metadata": {},
     "output_type": "execute_result"
    }
   ],
   "source": [
    "Full_table += [['Random Forest Regressor with Pasting: ', grid_rf_pasting.best_params_, grid_rf_pasting.best_score_]]\n",
    "Full_table"
   ]
  },
  {
   "cell_type": "markdown",
   "id": "35595f8f",
   "metadata": {},
   "source": [
    "# Feature Importance in Random Forest Regressor with Pasting"
   ]
  },
  {
   "cell_type": "code",
   "execution_count": 107,
   "id": "9484c80b",
   "metadata": {},
   "outputs": [
    {
     "data": {
      "text/plain": [
       "RandomForestRegressor(bootstrap=False, max_depth=5, max_features=1,\n",
       "                      max_samples=2, n_estimators=500, n_jobs=-1,\n",
       "                      random_state=0)"
      ]
     },
     "execution_count": 107,
     "metadata": {},
     "output_type": "execute_result"
    }
   ],
   "source": [
    "from sklearn.ensemble import RandomForestRegressor\n",
    "\n",
    "rf_regressor_pasting = RandomForestRegressor(max_depth = 5, \n",
    "                                 n_estimators = 500,\n",
    "                                 bootstrap = False,\n",
    "                                 max_features = 1,\n",
    "                                 max_samples = 2,\n",
    "                                 n_jobs = -1,\n",
    "                                 random_state = 0)\n",
    "\n",
    "rf_regressor_pasting.fit(X_train, y_train)"
   ]
  },
  {
   "cell_type": "code",
   "execution_count": 108,
   "id": "6df13b80",
   "metadata": {},
   "outputs": [
    {
     "data": {
      "text/plain": [
       "([<matplotlib.axis.YTick at 0x7fcefcf5fc40>,\n",
       "  <matplotlib.axis.YTick at 0x7fcefd05a7c0>,\n",
       "  <matplotlib.axis.YTick at 0x7fcefd0dc4f0>,\n",
       "  <matplotlib.axis.YTick at 0x7fcefce1cdf0>,\n",
       "  <matplotlib.axis.YTick at 0x7fcefcf55340>,\n",
       "  <matplotlib.axis.YTick at 0x7fcefcf55bb0>,\n",
       "  <matplotlib.axis.YTick at 0x7fcefcff5bb0>,\n",
       "  <matplotlib.axis.YTick at 0x7fcefcfe03a0>,\n",
       "  <matplotlib.axis.YTick at 0x7fcefcf89eb0>,\n",
       "  <matplotlib.axis.YTick at 0x7fcefcf77640>,\n",
       "  <matplotlib.axis.YTick at 0x7fcefcf88430>,\n",
       "  <matplotlib.axis.YTick at 0x7fcefcf81a60>,\n",
       "  <matplotlib.axis.YTick at 0x7fcefcef9d30>,\n",
       "  <matplotlib.axis.YTick at 0x7fcefcf7c790>,\n",
       "  <matplotlib.axis.YTick at 0x7fcefceca0d0>,\n",
       "  <matplotlib.axis.YTick at 0x7fcefcf5aa90>,\n",
       "  <matplotlib.axis.YTick at 0x7fcefce70730>,\n",
       "  <matplotlib.axis.YTick at 0x7fcefcf29f40>,\n",
       "  <matplotlib.axis.YTick at 0x7fcefcf193a0>,\n",
       "  <matplotlib.axis.YTick at 0x7fcefcf29e50>,\n",
       "  <matplotlib.axis.YTick at 0x7fcefcf54d30>,\n",
       "  <matplotlib.axis.YTick at 0x7fcefcf81340>,\n",
       "  <matplotlib.axis.YTick at 0x7fcefcefee20>,\n",
       "  <matplotlib.axis.YTick at 0x7fcefcef5490>,\n",
       "  <matplotlib.axis.YTick at 0x7fcefcef0af0>,\n",
       "  <matplotlib.axis.YTick at 0x7fcefceb5f40>,\n",
       "  <matplotlib.axis.YTick at 0x7fcefcef04c0>,\n",
       "  <matplotlib.axis.YTick at 0x7fcefcef35b0>,\n",
       "  <matplotlib.axis.YTick at 0x7fcefcf29310>,\n",
       "  <matplotlib.axis.YTick at 0x7fcefce84250>,\n",
       "  <matplotlib.axis.YTick at 0x7fcefce9b730>,\n",
       "  <matplotlib.axis.YTick at 0x7fcefce91190>,\n",
       "  <matplotlib.axis.YTick at 0x7fcefcc8db80>],\n",
       " [Text(0, 0, 'targeted_productivity'),\n",
       "  Text(0, 1, 'smv'),\n",
       "  Text(0, 2, 'wip'),\n",
       "  Text(0, 3, 'over_time'),\n",
       "  Text(0, 4, 'incentive'),\n",
       "  Text(0, 5, 'idle_time'),\n",
       "  Text(0, 6, 'idle_men'),\n",
       "  Text(0, 7, 'no_of_style_change'),\n",
       "  Text(0, 8, 'no_of_workers'),\n",
       "  Text(0, 9, 'Quarter1'),\n",
       "  Text(0, 10, 'Quarter2'),\n",
       "  Text(0, 11, 'Quarter3'),\n",
       "  Text(0, 12, 'Quarter4'),\n",
       "  Text(0, 13, 'dept_finishing'),\n",
       "  Text(0, 14, 'dept_sewing'),\n",
       "  Text(0, 15, 'team_1'),\n",
       "  Text(0, 16, 'team_2'),\n",
       "  Text(0, 17, 'team_3'),\n",
       "  Text(0, 18, 'team_4'),\n",
       "  Text(0, 19, 'team_5'),\n",
       "  Text(0, 20, 'team_6'),\n",
       "  Text(0, 21, 'team_7'),\n",
       "  Text(0, 22, 'team_8'),\n",
       "  Text(0, 23, 'team_9'),\n",
       "  Text(0, 24, 'team_10'),\n",
       "  Text(0, 25, 'team_11'),\n",
       "  Text(0, 26, 'team_12'),\n",
       "  Text(0, 27, 'Monday'),\n",
       "  Text(0, 28, 'Saturday'),\n",
       "  Text(0, 29, 'Sunday'),\n",
       "  Text(0, 30, 'Thursday'),\n",
       "  Text(0, 31, 'Tuesday'),\n",
       "  Text(0, 32, 'Wednesday')])"
      ]
     },
     "execution_count": 108,
     "metadata": {},
     "output_type": "execute_result"
    },
    {
     "data": {
      "image/png": "[encoded data removed]",
      "text/plain": [
       "<Figure size 1440x720 with 1 Axes>"
      ]
     },
     "metadata": {
      "needs_background": "light"
     },
     "output_type": "display_data"
    }
   ],
   "source": [
    "%matplotlib inline\n",
    "\n",
    "plt.subplots(figsize = (20,10))\n",
    "y_list = rf_regressor_pasting.feature_importances_\n",
    "y_pos = np.arange(len(y_list))\n",
    "features = X\n",
    "plt.barh(y_pos, y_list, align = 'center', alpha = 0.4)\n",
    "plt.yticks(y_pos, features)"
   ]
  },
  {
   "cell_type": "markdown",
   "id": "72845d44",
   "metadata": {},
   "source": [
    "# 6 important features based on Random Forest Regressor with Pasting\n",
    "    \n",
    "    1. targeted_productivity\n",
    "    2. incentive\n",
    "    3. smv\n",
    "    4. wip\n",
    "    5. no_of_workers\n",
    "    6. over_time"
   ]
  },
  {
   "cell_type": "markdown",
   "id": "fae4cd95",
   "metadata": {},
   "source": [
    "# | AdaBoost Boosting |\n",
    "1. Decision Tree Regressor"
   ]
  },
  {
   "cell_type": "code",
   "execution_count": 109,
   "id": "2731cb5d",
   "metadata": {},
   "outputs": [
    {
     "data": {
      "text/plain": [
       "GridSearchCV(cv=5,\n",
       "             estimator=AdaBoostRegressor(base_estimator=DecisionTreeRegressor(max_depth=1,\n",
       "                                                                              random_state=0),\n",
       "                                         random_state=0),\n",
       "             n_jobs=-1,\n",
       "             param_grid={'learning_rate': [0.001, 0.01, 0.1, 0.5, 1],\n",
       "                         'n_estimators': [100, 200, 500, 1000]})"
      ]
     },
     "execution_count": 109,
     "metadata": {},
     "output_type": "execute_result"
    }
   ],
   "source": [
    "from sklearn.ensemble import AdaBoostRegressor\n",
    "from sklearn.model_selection import GridSearchCV\n",
    "from sklearn.tree import DecisionTreeRegressor\n",
    "\n",
    "param_grid_adareg_dt = {'learning_rate': [0.001, 0.01, 0.1, 0.5, 1],\n",
    "                        'n_estimators':[100, 200, 500, 1000]\n",
    "                       }\n",
    "\n",
    "adareg_dt = AdaBoostRegressor(DecisionTreeRegressor(max_depth = 1, random_state = 0), random_state = 0)\n",
    "\n",
    "adareg_dt_grid = GridSearchCV(adareg_dt, param_grid = param_grid_adareg_dt, cv = 5, n_jobs = -1)\n",
    "\n",
    "adareg_dt_grid.fit(X_train, y_train)"
   ]
  },
  {
   "cell_type": "code",
   "execution_count": 110,
   "id": "7a719336",
   "metadata": {},
   "outputs": [
    {
     "name": "stdout",
     "output_type": "stream",
     "text": [
      "Best hyperparameter : {'learning_rate': 0.01, 'n_estimators': 500}\n",
      "Best x-validation score : 0.1636572303640266\n"
     ]
    }
   ],
   "source": [
    "print(\"Best hyperparameter :\", adareg_dt_grid.best_params_)\n",
    "print(\"Best x-validation score :\", adareg_dt_grid.best_score_)"
   ]
  },
  {
   "cell_type": "code",
   "execution_count": 111,
   "id": "4d692629",
   "metadata": {},
   "outputs": [
    {
     "data": {
      "text/plain": [
       "[['SVR kernel RBF with Bagging: ',\n",
       "  {'max_features': 0.5, 'max_samples': 0.5, 'n_estimators': 200},\n",
       "  0.26124186087345697],\n",
       " ['Random Forest Regressor with Bagging: ',\n",
       "  {'max_depth': 5,\n",
       "   'max_features': 0.5,\n",
       "   'min_samples_leaf': 40,\n",
       "   'min_samples_split': 100,\n",
       "   'n_estimators': 500},\n",
       "  0.3219499855033606],\n",
       " ['Decision Tree Regressor with Pasting: ',\n",
       "  {'max_features': 0.5, 'max_samples': 0.5, 'n_estimators': 500},\n",
       "  0.4644404829042692],\n",
       " ['Random Forest Regressor with Pasting: ',\n",
       "  {'max_depth': 5,\n",
       "   'max_features': 0.5,\n",
       "   'min_samples_leaf': 40,\n",
       "   'min_samples_split': 100,\n",
       "   'n_estimators': 200},\n",
       "  0.3521877823686352],\n",
       " ['AdaBoostRegressor with Decision Tree: ',\n",
       "  {'learning_rate': 0.01, 'n_estimators': 500},\n",
       "  0.1636572303640266]]"
      ]
     },
     "execution_count": 111,
     "metadata": {},
     "output_type": "execute_result"
    }
   ],
   "source": [
    "Full_table += [['AdaBoostRegressor with Decision Tree: ',adareg_dt_grid.best_params_, adareg_dt_grid.best_score_]]\n",
    "Full_table"
   ]
  },
  {
   "cell_type": "markdown",
   "id": "5347757f",
   "metadata": {},
   "source": [
    "# | AdaBoost Boosting |\n",
    "\n",
    "2. SVR with kernel = 'rbf'"
   ]
  },
  {
   "cell_type": "code",
   "execution_count": 112,
   "id": "7ca123e8",
   "metadata": {},
   "outputs": [
    {
     "data": {
      "text/plain": [
       "GridSearchCV(cv=5,\n",
       "             estimator=AdaBoostRegressor(base_estimator=SVR(), random_state=0),\n",
       "             n_jobs=-1,\n",
       "             param_grid={'learning_rate': [0.001, 0.01, 0.1, 0.5, 1],\n",
       "                         'n_estimators': [100, 200, 500, 1000]})"
      ]
     },
     "execution_count": 112,
     "metadata": {},
     "output_type": "execute_result"
    }
   ],
   "source": [
    "from sklearn.model_selection import GridSearchCV\n",
    "from sklearn.ensemble import AdaBoostRegressor\n",
    "from sklearn.svm import SVR\n",
    "\n",
    "param_grid_ada_SVR_rbf = {'learning_rate': [0.001, 0.01, 0.1, 0.5, 1],\n",
    "                        'n_estimators':[100, 200, 500, 1000]\n",
    "                         }\n",
    "\n",
    "svr_rbf = SVR(kernel = 'rbf')\n",
    "\n",
    "ada_svr = AdaBoostRegressor(svr_rbf, random_state = 0)\n",
    "\n",
    "adareg_svr_grid = GridSearchCV(ada_svr, param_grid = param_grid_ada_SVR_rbf, cv = 5, n_jobs = -1)\n",
    "\n",
    "adareg_svr_grid.fit(X_train, y_train)"
   ]
  },
  {
   "cell_type": "code",
   "execution_count": 113,
   "id": "38d9bc39",
   "metadata": {},
   "outputs": [
    {
     "name": "stdout",
     "output_type": "stream",
     "text": [
      "Best hyperparameter : {'learning_rate': 0.001, 'n_estimators': 100}\n",
      "Best x-validation score : 0.23703205644990918\n"
     ]
    }
   ],
   "source": [
    "print(\"Best hyperparameter :\", adareg_svr_grid.best_params_)\n",
    "print(\"Best x-validation score :\", adareg_svr_grid.best_score_)"
   ]
  },
  {
   "cell_type": "code",
   "execution_count": 114,
   "id": "2706f536",
   "metadata": {},
   "outputs": [
    {
     "data": {
      "text/plain": [
       "[['SVR kernel RBF with Bagging: ',\n",
       "  {'max_features': 0.5, 'max_samples': 0.5, 'n_estimators': 200},\n",
       "  0.26124186087345697],\n",
       " ['Random Forest Regressor with Bagging: ',\n",
       "  {'max_depth': 5,\n",
       "   'max_features': 0.5,\n",
       "   'min_samples_leaf': 40,\n",
       "   'min_samples_split': 100,\n",
       "   'n_estimators': 500},\n",
       "  0.3219499855033606],\n",
       " ['Decision Tree Regressor with Pasting: ',\n",
       "  {'max_features': 0.5, 'max_samples': 0.5, 'n_estimators': 500},\n",
       "  0.4644404829042692],\n",
       " ['Random Forest Regressor with Pasting: ',\n",
       "  {'max_depth': 5,\n",
       "   'max_features': 0.5,\n",
       "   'min_samples_leaf': 40,\n",
       "   'min_samples_split': 100,\n",
       "   'n_estimators': 200},\n",
       "  0.3521877823686352],\n",
       " ['AdaBoostRegressor with Decision Tree: ',\n",
       "  {'learning_rate': 0.01, 'n_estimators': 500},\n",
       "  0.1636572303640266],\n",
       " ['AdaBoostRegressor with SVR kernel rbf: ',\n",
       "  {'learning_rate': 0.001, 'n_estimators': 100},\n",
       "  0.23703205644990918]]"
      ]
     },
     "execution_count": 114,
     "metadata": {},
     "output_type": "execute_result"
    }
   ],
   "source": [
    "Full_table += [['AdaBoostRegressor with SVR kernel rbf: ',adareg_svr_grid.best_params_, adareg_svr_grid.best_score_]]\n",
    "Full_table"
   ]
  },
  {
   "cell_type": "markdown",
   "id": "c51980a3",
   "metadata": {},
   "source": [
    "# | Gradient Boosting |"
   ]
  },
  {
   "cell_type": "code",
   "execution_count": 115,
   "id": "eb1e2b6e",
   "metadata": {},
   "outputs": [
    {
     "data": {
      "text/plain": [
       "GridSearchCV(cv=5, estimator=GradientBoostingRegressor(random_state=0),\n",
       "             n_jobs=-1,\n",
       "             param_grid={'learning_rate': [0.001, 0.01, 0.1, 1],\n",
       "                         'max_depth': [1, 2, 5],\n",
       "                         'n_estimators': [200, 500, 1000]},\n",
       "             scoring='r2')"
      ]
     },
     "execution_count": 115,
     "metadata": {},
     "output_type": "execute_result"
    }
   ],
   "source": [
    "from  sklearn.ensemble import GradientBoostingRegressor\n",
    "\n",
    "param_grid_gbreg = {'learning_rate':[0.001, 0.01, 0.1, 1],\n",
    "                    'max_depth':[1, 2, 5], \n",
    "                    'n_estimators':[200, 500, 1000]\n",
    "                   }\n",
    "\n",
    "gb_reg = GradientBoostingRegressor(random_state = 0)\n",
    "\n",
    "gbreg_grid = GridSearchCV(gb_reg, param_grid = param_grid_gbreg, cv = 5, scoring = 'r2', n_jobs = -1)\n",
    "gbreg_grid.fit(X_train, y_train)"
   ]
  },
  {
   "cell_type": "code",
   "execution_count": 116,
   "id": "7b5e1898",
   "metadata": {},
   "outputs": [
    {
     "name": "stdout",
     "output_type": "stream",
     "text": [
      "Best hyperparameter : {'learning_rate': 0.1, 'max_depth': 2, 'n_estimators': 200}\n",
      "Best x-validation score : 0.4538094110744188\n"
     ]
    }
   ],
   "source": [
    "print(\"Best hyperparameter :\", gbreg_grid.best_params_)\n",
    "print(\"Best x-validation score :\", gbreg_grid.best_score_)"
   ]
  },
  {
   "cell_type": "code",
   "execution_count": 117,
   "id": "642a057c",
   "metadata": {},
   "outputs": [
    {
     "data": {
      "text/plain": [
       "[['SVR kernel RBF with Bagging: ',\n",
       "  {'max_features': 0.5, 'max_samples': 0.5, 'n_estimators': 200},\n",
       "  0.26124186087345697],\n",
       " ['Random Forest Regressor with Bagging: ',\n",
       "  {'max_depth': 5,\n",
       "   'max_features': 0.5,\n",
       "   'min_samples_leaf': 40,\n",
       "   'min_samples_split': 100,\n",
       "   'n_estimators': 500},\n",
       "  0.3219499855033606],\n",
       " ['Decision Tree Regressor with Pasting: ',\n",
       "  {'max_features': 0.5, 'max_samples': 0.5, 'n_estimators': 500},\n",
       "  0.4644404829042692],\n",
       " ['Random Forest Regressor with Pasting: ',\n",
       "  {'max_depth': 5,\n",
       "   'max_features': 0.5,\n",
       "   'min_samples_leaf': 40,\n",
       "   'min_samples_split': 100,\n",
       "   'n_estimators': 200},\n",
       "  0.3521877823686352],\n",
       " ['AdaBoostRegressor with Decision Tree: ',\n",
       "  {'learning_rate': 0.01, 'n_estimators': 500},\n",
       "  0.1636572303640266],\n",
       " ['AdaBoostRegressor with SVR kernel rbf: ',\n",
       "  {'learning_rate': 0.001, 'n_estimators': 100},\n",
       "  0.23703205644990918],\n",
       " ['Gradient Boosting Regressor: ',\n",
       "  {'learning_rate': 0.1, 'max_depth': 2, 'n_estimators': 200},\n",
       "  0.4538094110744188]]"
      ]
     },
     "execution_count": 117,
     "metadata": {},
     "output_type": "execute_result"
    }
   ],
   "source": [
    "Full_table += [['Gradient Boosting Regressor: ',gbreg_grid.best_params_, gbreg_grid.best_score_]]\n",
    "Full_table"
   ]
  },
  {
   "cell_type": "markdown",
   "id": "9b9fab6e",
   "metadata": {},
   "source": [
    "# Feature Importance in Gradient Boosting Regressor"
   ]
  },
  {
   "cell_type": "code",
   "execution_count": 118,
   "id": "614ff3ef",
   "metadata": {},
   "outputs": [
    {
     "data": {
      "text/plain": [
       "GradientBoostingRegressor(max_depth=2, n_estimators=200, random_state=0)"
      ]
     },
     "execution_count": 118,
     "metadata": {},
     "output_type": "execute_result"
    }
   ],
   "source": [
    "from  sklearn.ensemble import GradientBoostingRegressor\n",
    "\n",
    "gbreg = GradientBoostingRegressor(max_depth = 2, n_estimators = 200, learning_rate = 0.1, random_state = 0)\n",
    "gbreg.fit(X_train, y_train)"
   ]
  },
  {
   "cell_type": "code",
   "execution_count": 119,
   "id": "6a38cf2b",
   "metadata": {},
   "outputs": [
    {
     "data": {
      "text/plain": [
       "([<matplotlib.axis.YTick at 0x7fcefa04a250>,\n",
       "  <matplotlib.axis.YTick at 0x7fcefa322c10>,\n",
       "  <matplotlib.axis.YTick at 0x7fcefa2e09a0>,\n",
       "  <matplotlib.axis.YTick at 0x7fcefa09c3d0>,\n",
       "  <matplotlib.axis.YTick at 0x7fcef9f68580>,\n",
       "  <matplotlib.axis.YTick at 0x7fcef9e09760>,\n",
       "  <matplotlib.axis.YTick at 0x7fcef9fcd940>,\n",
       "  <matplotlib.axis.YTick at 0x7fcefa0cf880>,\n",
       "  <matplotlib.axis.YTick at 0x7fcef9e62310>,\n",
       "  <matplotlib.axis.YTick at 0x7fcef7a44700>,\n",
       "  <matplotlib.axis.YTick at 0x7fcefa0cb730>,\n",
       "  <matplotlib.axis.YTick at 0x7fcef9e6e400>,\n",
       "  <matplotlib.axis.YTick at 0x7fcefa02b520>,\n",
       "  <matplotlib.axis.YTick at 0x7fcef78389d0>,\n",
       "  <matplotlib.axis.YTick at 0x7fcef9e6e3d0>,\n",
       "  <matplotlib.axis.YTick at 0x7fcefa21ba90>,\n",
       "  <matplotlib.axis.YTick at 0x7fcef7aea910>,\n",
       "  <matplotlib.axis.YTick at 0x7fcefa03fb50>,\n",
       "  <matplotlib.axis.YTick at 0x7fcef9fcbca0>,\n",
       "  <matplotlib.axis.YTick at 0x7fcef9ee80a0>,\n",
       "  <matplotlib.axis.YTick at 0x7fcef7fdef40>,\n",
       "  <matplotlib.axis.YTick at 0x7fcef995ae50>,\n",
       "  <matplotlib.axis.YTick at 0x7fcef7aea0a0>,\n",
       "  <matplotlib.axis.YTick at 0x7fcef9f27ee0>,\n",
       "  <matplotlib.axis.YTick at 0x7fcefa3a5f10>,\n",
       "  <matplotlib.axis.YTick at 0x7fcef7a28310>,\n",
       "  <matplotlib.axis.YTick at 0x7fcef9e27d90>,\n",
       "  <matplotlib.axis.YTick at 0x7fcefa031af0>,\n",
       "  <matplotlib.axis.YTick at 0x7fcef9e27a30>,\n",
       "  <matplotlib.axis.YTick at 0x7fcef9fefd60>,\n",
       "  <matplotlib.axis.YTick at 0x7fcef9fcb310>,\n",
       "  <matplotlib.axis.YTick at 0x7fcefa00e820>,\n",
       "  <matplotlib.axis.YTick at 0x7fcef7fd3b80>],\n",
       " [Text(0, 0, 'targeted_productivity'),\n",
       "  Text(0, 1, 'smv'),\n",
       "  Text(0, 2, 'wip'),\n",
       "  Text(0, 3, 'over_time'),\n",
       "  Text(0, 4, 'incentive'),\n",
       "  Text(0, 5, 'idle_time'),\n",
       "  Text(0, 6, 'idle_men'),\n",
       "  Text(0, 7, 'no_of_style_change'),\n",
       "  Text(0, 8, 'no_of_workers'),\n",
       "  Text(0, 9, 'Quarter1'),\n",
       "  Text(0, 10, 'Quarter2'),\n",
       "  Text(0, 11, 'Quarter3'),\n",
       "  Text(0, 12, 'Quarter4'),\n",
       "  Text(0, 13, 'dept_finishing'),\n",
       "  Text(0, 14, 'dept_sewing'),\n",
       "  Text(0, 15, 'team_1'),\n",
       "  Text(0, 16, 'team_2'),\n",
       "  Text(0, 17, 'team_3'),\n",
       "  Text(0, 18, 'team_4'),\n",
       "  Text(0, 19, 'team_5'),\n",
       "  Text(0, 20, 'team_6'),\n",
       "  Text(0, 21, 'team_7'),\n",
       "  Text(0, 22, 'team_8'),\n",
       "  Text(0, 23, 'team_9'),\n",
       "  Text(0, 24, 'team_10'),\n",
       "  Text(0, 25, 'team_11'),\n",
       "  Text(0, 26, 'team_12'),\n",
       "  Text(0, 27, 'Monday'),\n",
       "  Text(0, 28, 'Saturday'),\n",
       "  Text(0, 29, 'Sunday'),\n",
       "  Text(0, 30, 'Thursday'),\n",
       "  Text(0, 31, 'Tuesday'),\n",
       "  Text(0, 32, 'Wednesday')])"
      ]
     },
     "execution_count": 119,
     "metadata": {},
     "output_type": "execute_result"
    },
    {
     "data": {
      "image/png": "[encoded data removed]",
      "text/plain": [
       "<Figure size 1440x720 with 1 Axes>"
      ]
     },
     "metadata": {
      "needs_background": "light"
     },
     "output_type": "display_data"
    }
   ],
   "source": [
    "%matplotlib inline\n",
    "\n",
    "plt.subplots(figsize = (20,10))\n",
    "y_list = gbreg.feature_importances_\n",
    "y_pos = np.arange(len(y_list))\n",
    "features = X\n",
    "plt.barh(y_pos, y_list, align = 'center', alpha = 0.4)\n",
    "plt.yticks(y_pos, features)"
   ]
  },
  {
   "cell_type": "markdown",
   "id": "a938109b",
   "metadata": {},
   "source": [
    "# 4 important features based on Gradient Boosting Regressor\n",
    "    1. targeted productivity\n",
    "    2. smv\n",
    "    3. no_of_workers\n",
    "    4. incentive"
   ]
  },
  {
   "cell_type": "markdown",
   "id": "e859ea3e",
   "metadata": {},
   "source": [
    "# Summary of Models\n",
    "\n",
    "Bagging Ensemble  |  Pasting Ensemble  |  AdaBoost Boosting  |  Gradient Boosting"
   ]
  },
  {
   "cell_type": "code",
   "execution_count": 120,
   "id": "38aff531",
   "metadata": {},
   "outputs": [
    {
     "name": "stdout",
     "output_type": "stream",
     "text": [
      "\n",
      "\n",
      " ******************* @@@@@@@@@@@@@@@@@@@@ Model Performance Table @@@@@@@@@@@@@@@@@@@@ *******************\n",
      "\n"
     ]
    },
    {
     "name": "stderr",
     "output_type": "stream",
     "text": [
      "/var/folders/rx/dq92bd594rd72ms3cbzf46cc0000gn/T/ipykernel_15205/1903144541.py:1: FutureWarning: Passing a negative integer is deprecated in version 1.0 and will not be supported in future version. Instead, use None to not limit the column width.\n",
      "  pd.set_option(\"display.max_colwidth\", -1)\n"
     ]
    },
    {
     "data": {
      "text/html": [
       "<div>\n",
       "<style scoped>\n",
       "    .dataframe tbody tr th:only-of-type {\n",
       "        vertical-align: middle;\n",
       "    }\n",
       "\n",
       "    .dataframe tbody tr th {\n",
       "        vertical-align: top;\n",
       "    }\n",
       "\n",
       "    .dataframe thead th {\n",
       "        text-align: right;\n",
       "    }\n",
       "</style>\n",
       "<table border=\"1\" class=\"dataframe\">\n",
       "  <thead>\n",
       "    <tr style=\"text-align: right;\">\n",
       "      <th></th>\n",
       "      <th>Model</th>\n",
       "      <th>Best Hyperparameters</th>\n",
       "      <th>r2 score</th>\n",
       "    </tr>\n",
       "  </thead>\n",
       "  <tbody>\n",
       "    <tr>\n",
       "      <th>0</th>\n",
       "      <td>SVR kernel RBF with Bagging:</td>\n",
       "      <td>{'max_features': 0.5, 'max_samples': 0.5, 'n_estimators': 200}</td>\n",
       "      <td>0.261242</td>\n",
       "    </tr>\n",
       "    <tr>\n",
       "      <th>1</th>\n",
       "      <td>Random Forest Regressor with Bagging:</td>\n",
       "      <td>{'max_depth': 5, 'max_features': 0.5, 'min_samples_leaf': 40, 'min_samples_split': 100, 'n_estimators': 500}</td>\n",
       "      <td>0.321950</td>\n",
       "    </tr>\n",
       "    <tr>\n",
       "      <th>2</th>\n",
       "      <td>Decision Tree Regressor with Pasting:</td>\n",
       "      <td>{'max_features': 0.5, 'max_samples': 0.5, 'n_estimators': 500}</td>\n",
       "      <td>0.464440</td>\n",
       "    </tr>\n",
       "    <tr>\n",
       "      <th>3</th>\n",
       "      <td>Random Forest Regressor with Pasting:</td>\n",
       "      <td>{'max_depth': 5, 'max_features': 0.5, 'min_samples_leaf': 40, 'min_samples_split': 100, 'n_estimators': 200}</td>\n",
       "      <td>0.352188</td>\n",
       "    </tr>\n",
       "    <tr>\n",
       "      <th>4</th>\n",
       "      <td>AdaBoostRegressor with Decision Tree:</td>\n",
       "      <td>{'learning_rate': 0.01, 'n_estimators': 500}</td>\n",
       "      <td>0.163657</td>\n",
       "    </tr>\n",
       "    <tr>\n",
       "      <th>5</th>\n",
       "      <td>AdaBoostRegressor with SVR kernel rbf:</td>\n",
       "      <td>{'learning_rate': 0.001, 'n_estimators': 100}</td>\n",
       "      <td>0.237032</td>\n",
       "    </tr>\n",
       "    <tr>\n",
       "      <th>6</th>\n",
       "      <td>Gradient Boosting Regressor:</td>\n",
       "      <td>{'learning_rate': 0.1, 'max_depth': 2, 'n_estimators': 200}</td>\n",
       "      <td>0.453809</td>\n",
       "    </tr>\n",
       "  </tbody>\n",
       "</table>\n",
       "</div>"
      ],
      "text/plain": [
       "                                     Model  \\\n",
       "0  SVR kernel RBF with Bagging:              \n",
       "1  Random Forest Regressor with Bagging:     \n",
       "2  Decision Tree Regressor with Pasting:     \n",
       "3  Random Forest Regressor with Pasting:     \n",
       "4  AdaBoostRegressor with Decision Tree:     \n",
       "5  AdaBoostRegressor with SVR kernel rbf:    \n",
       "6  Gradient Boosting Regressor:              \n",
       "\n",
       "                                                                                           Best Hyperparameters  \\\n",
       "0  {'max_features': 0.5, 'max_samples': 0.5, 'n_estimators': 200}                                                 \n",
       "1  {'max_depth': 5, 'max_features': 0.5, 'min_samples_leaf': 40, 'min_samples_split': 100, 'n_estimators': 500}   \n",
       "2  {'max_features': 0.5, 'max_samples': 0.5, 'n_estimators': 500}                                                 \n",
       "3  {'max_depth': 5, 'max_features': 0.5, 'min_samples_leaf': 40, 'min_samples_split': 100, 'n_estimators': 200}   \n",
       "4  {'learning_rate': 0.01, 'n_estimators': 500}                                                                   \n",
       "5  {'learning_rate': 0.001, 'n_estimators': 100}                                                                  \n",
       "6  {'learning_rate': 0.1, 'max_depth': 2, 'n_estimators': 200}                                                    \n",
       "\n",
       "   r2 score  \n",
       "0  0.261242  \n",
       "1  0.321950  \n",
       "2  0.464440  \n",
       "3  0.352188  \n",
       "4  0.163657  \n",
       "5  0.237032  \n",
       "6  0.453809  "
      ]
     },
     "execution_count": 120,
     "metadata": {},
     "output_type": "execute_result"
    }
   ],
   "source": [
    "pd.set_option(\"display.max_colwidth\", -1)\n",
    "\n",
    "print(\"\\n\\n ******************* @@@@@@@@@@@@@@@@@@@@ Model Performance Table @@@@@@@@@@@@@@@@@@@@ *******************\\n\")\n",
    "Full_table1 = pd.DataFrame(Full_table, columns = ['Model', 'Best Hyperparameters', 'r2 score'])\n",
    "#Full_table1.index = Full_table1['Model']\n",
    "Full_table1.round(4)\n",
    "Full_table1"
   ]
  },
  {
   "cell_type": "markdown",
   "id": "90701800",
   "metadata": {},
   "source": [
    "# | Principal Component Analysis |"
   ]
  },
  {
   "cell_type": "markdown",
   "id": "f100399f",
   "metadata": {},
   "source": [
    "Apply PCA on data and then apply all the models in project 1 again on the post PCA data.\n",
    "Compare your results with results in project 1. You do not need to apply all the models twice.\n",
    "Just copy the result from project 1, prepare a similar table for all the models after PCA and compare. \n",
    "Does PCA help in getting better results?"
   ]
  },
  {
   "cell_type": "markdown",
   "id": "cbe5bfa1",
   "metadata": {},
   "source": [
    "# Selecting the number of components\n",
    "\n",
    "Cumulative Explained Variance Ratio vs Number Of Components"
   ]
  },
  {
   "cell_type": "code",
   "execution_count": 121,
   "id": "d86327fe",
   "metadata": {},
   "outputs": [
    {
     "data": {
      "image/png": "[encoded data removed]",
      "text/plain": [
       "<Figure size 432x288 with 1 Axes>"
      ]
     },
     "metadata": {
      "needs_background": "light"
     },
     "output_type": "display_data"
    }
   ],
   "source": [
    "from sklearn.decomposition import PCA\n",
    "\n",
    "pca = PCA().fit(X_train)\n",
    "plt.plot(np.cumsum(pca.explained_variance_ratio_))\n",
    "plt.grid()\n",
    "plt.xlabel('number of components')\n",
    "plt.ylabel('cumulative explained variance');"
   ]
  },
  {
   "cell_type": "markdown",
   "id": "7ba7a187",
   "metadata": {},
   "source": [
    "The curve above quantifies how much of the total, 33 dimensional variance is contained within the first N components. For example, we see that with the X_train dataset the first 20 components contain approximately 85% of the variance, while we need around 25 components to describe close to 100% of the variance.\n",
    "Here we see that we'd need about 23 components to retain 90% of the variance so we can see that reducing  the\n",
    "dimensionality down to about 23 dimensions wouldn’t lose too much explained variance. So I would keep 90% as the explained variance for my calculation."
   ]
  },
  {
   "cell_type": "code",
   "execution_count": 122,
   "id": "0600b5e3",
   "metadata": {},
   "outputs": [],
   "source": [
    "# reducing the dimensionality with 90% explained variance than any lower values\n",
    "pca_reg = PCA(n_components = 0.90)\n",
    "X_train_pca_reg = pca_reg.fit_transform(X_train)\n",
    "X_test_pca_reg = pca_reg.transform(X_test)"
   ]
  },
  {
   "cell_type": "markdown",
   "id": "3d5d1a5b",
   "metadata": {},
   "source": [
    "Please note that, I have already used StandardScaler() to initially scale the data on which the PCA-transformation is applied because the data has to be normalized (i.e. to range between 0 and 1 before using PCA), meaning in this case:\n",
    "\n",
    "1. zero mean\n",
    "2. unit variance\n",
    "\n",
    "As sklearn StandardScaler() provides such benefits, I retained the standardscaled data for PCA analysis in this case."
   ]
  },
  {
   "cell_type": "code",
   "execution_count": 123,
   "id": "55c27295",
   "metadata": {},
   "outputs": [
    {
     "data": {
      "text/plain": [
       "(897, 33)"
      ]
     },
     "execution_count": 123,
     "metadata": {},
     "output_type": "execute_result"
    }
   ],
   "source": [
    "X_train.shape"
   ]
  },
  {
   "cell_type": "code",
   "execution_count": 124,
   "id": "de8704c4",
   "metadata": {},
   "outputs": [
    {
     "data": {
      "text/plain": [
       "(897, 23)"
      ]
     },
     "execution_count": 124,
     "metadata": {},
     "output_type": "execute_result"
    }
   ],
   "source": [
    "X_train_pca_reg.shape"
   ]
  },
  {
   "cell_type": "code",
   "execution_count": 125,
   "id": "496c696e",
   "metadata": {},
   "outputs": [
    {
     "data": {
      "text/plain": [
       "23"
      ]
     },
     "execution_count": 125,
     "metadata": {},
     "output_type": "execute_result"
    }
   ],
   "source": [
    "pca_reg.n_components_"
   ]
  },
  {
   "cell_type": "code",
   "execution_count": 126,
   "id": "fdfa17d2",
   "metadata": {},
   "outputs": [
    {
     "data": {
      "text/plain": [
       "0.9092597544112335"
      ]
     },
     "execution_count": 126,
     "metadata": {},
     "output_type": "execute_result"
    }
   ],
   "source": [
    "pca_reg.explained_variance_ratio_.sum()"
   ]
  },
  {
   "cell_type": "code",
   "execution_count": 127,
   "id": "16b9a8a1",
   "metadata": {},
   "outputs": [
    {
     "data": {
      "text/plain": [
       "array([0.11341844, 0.05354644, 0.05009973, 0.0443009 , 0.04217149,\n",
       "       0.03998796, 0.03937814, 0.03809174, 0.03700632, 0.03673052,\n",
       "       0.03536226, 0.03400075, 0.03373133, 0.0333179 , 0.0329874 ,\n",
       "       0.03269338, 0.03249191, 0.03213486, 0.03168094, 0.03148757,\n",
       "       0.03129234, 0.02723067, 0.02611676])"
      ]
     },
     "execution_count": 127,
     "metadata": {},
     "output_type": "execute_result"
    }
   ],
   "source": [
    "pca_reg.explained_variance_ratio_"
   ]
  },
  {
   "cell_type": "code",
   "execution_count": 128,
   "id": "1da4b018",
   "metadata": {},
   "outputs": [
    {
     "data": {
      "text/plain": [
       "0.09074024558876648"
      ]
     },
     "execution_count": 128,
     "metadata": {},
     "output_type": "execute_result"
    }
   ],
   "source": [
    "#The dimensionality reduction error\n",
    "1 - pca_reg.explained_variance_ratio_.sum()"
   ]
  },
  {
   "cell_type": "code",
   "execution_count": 129,
   "id": "05492045",
   "metadata": {},
   "outputs": [
    {
     "data": {
      "text/plain": [
       "array([[ 0.19904511, -0.64032165, -0.44795405, ..., -0.52362694,\n",
       "        -0.4833312 , -0.48559632],\n",
       "       [ 0.39729723,  1.27107308,  0.13107038, ..., -0.37482868,\n",
       "        -0.45176328,  2.04389273],\n",
       "       [-0.06691086, -0.61253832, -0.22925934, ...,  2.11783229,\n",
       "        -0.52753449, -0.50625388],\n",
       "       ...,\n",
       "       [ 0.30325006,  0.54563579, -0.01003511, ..., -0.53843826,\n",
       "        -0.41660275,  2.34934396],\n",
       "       [ 0.06652667,  0.94110721, -0.0292159 , ..., -0.51398261,\n",
       "        -0.45853527, -0.46150904],\n",
       "       [-0.42372334, -0.66827185,  0.27623224, ..., -0.35344449,\n",
       "        -0.34335913, -0.38325281]])"
      ]
     },
     "execution_count": 129,
     "metadata": {},
     "output_type": "execute_result"
    }
   ],
   "source": [
    "X_train_reconstruct = pca_reg.inverse_transform(X_train_pca_reg)\n",
    "X_train_reconstruct"
   ]
  },
  {
   "cell_type": "code",
   "execution_count": 130,
   "id": "a21a6d9b",
   "metadata": {},
   "outputs": [
    {
     "data": {
      "text/plain": [
       "array([[ 0.99780946,  0.01879477, -0.46273567, ..., -0.53377633,\n",
       "         2.23814213, -0.42114529],\n",
       "       [ 0.30195092, -0.89855713,  0.27648354, ...,  2.20588798,\n",
       "        -0.40929288, -0.3888951 ],\n",
       "       [ 0.94448377, -1.02951483,  0.69214635, ..., -0.3135669 ,\n",
       "        -0.31977598, -0.40357023],\n",
       "       ...,\n",
       "       [ 0.04279198,  1.21222198,  0.24013092, ..., -0.39697359,\n",
       "        -0.47239397,  2.08035896],\n",
       "       [ 0.0197595 ,  1.19297681,  0.04358087, ..., -0.40770539,\n",
       "        -0.4006437 , -0.59033945],\n",
       "       [ 0.17070464,  0.09485315, -0.50056754, ..., -0.49607037,\n",
       "         2.26445917, -0.39882522]])"
      ]
     },
     "execution_count": 130,
     "metadata": {},
     "output_type": "execute_result"
    }
   ],
   "source": [
    "X_test_reconstruct = pca_reg.inverse_transform(X_test_pca_reg)\n",
    "X_test_reconstruct"
   ]
  },
  {
   "cell_type": "markdown",
   "id": "3f4e3663",
   "metadata": {},
   "source": [
    "# 1. K Neighbors Regressor with PCA"
   ]
  },
  {
   "cell_type": "code",
   "execution_count": 131,
   "id": "2d21b880",
   "metadata": {},
   "outputs": [
    {
     "data": {
      "text/plain": [
       "GridSearchCV(cv=5, estimator=KNeighborsRegressor(), n_jobs=-1,\n",
       "             param_grid={'n_neighbors': [1, 2, 3, 4, 5, 6, 7, 8, 9, 10, 11, 12,\n",
       "                                         13, 14, 15, 16, 17, 18, 19, 20]},\n",
       "             return_train_score=True, scoring='r2')"
      ]
     },
     "execution_count": 131,
     "metadata": {},
     "output_type": "execute_result"
    }
   ],
   "source": [
    "from sklearn.neighbors import KNeighborsRegressor\n",
    "\n",
    "knn_reg = KNeighborsRegressor()\n",
    "from sklearn.model_selection import GridSearchCV\n",
    "k_range = list(range(1,21))\n",
    "param_grid_KNR = dict(n_neighbors = k_range)\n",
    "\n",
    "#sklearn.metrics.SCORERS.keys()\n",
    "grid_knn_reg = GridSearchCV(knn_reg, param_grid_KNR, cv = 5, return_train_score = True, scoring = 'r2',n_jobs = -1)\n",
    "\n",
    "# fitting the model for grid search with reduced dataset with 90% explained variance\n",
    "grid_knn_reg.fit(X_train_pca_reg, y_train)"
   ]
  },
  {
   "cell_type": "code",
   "execution_count": 132,
   "id": "1c18ea1c",
   "metadata": {},
   "outputs": [
    {
     "data": {
      "text/plain": [
       "[['knn Regressor with PCA: ', {'n_neighbors': 20}, 0.15333899967379233]]"
      ]
     },
     "execution_count": 132,
     "metadata": {},
     "output_type": "execute_result"
    }
   ],
   "source": [
    "Full_table_PCA = [['knn Regressor with PCA: ', grid_knn_reg.best_params_, grid_knn_reg.best_score_]]\n",
    "Full_table_PCA"
   ]
  },
  {
   "cell_type": "code",
   "execution_count": 133,
   "id": "2414f4f6",
   "metadata": {},
   "outputs": [
    {
     "data": {
      "text/plain": [
       "Text(0, 0.5, 'r2')"
      ]
     },
     "execution_count": 133,
     "metadata": {},
     "output_type": "execute_result"
    },
    {
     "data": {
      "image/png": "[encoded data removed]",
      "text/plain": [
       "<Figure size 1440x360 with 1 Axes>"
      ]
     },
     "metadata": {
      "needs_background": "light"
     },
     "output_type": "display_data"
    }
   ],
   "source": [
    "train_score_array = []\n",
    "test_score_array = []\n",
    "for k in k_range:\n",
    "    knn_reg = KNeighborsRegressor(k)\n",
    "    knn_reg.fit(X_train, y_train)\n",
    "    train_score_array.append(knn_reg.score(X_train, y_train))\n",
    "    test_score_array.append(knn_reg.score(X_test, y_test))\n",
    "x_axis = k_range\n",
    "plt.subplots(figsize = (20,5))\n",
    "plt.plot(x_axis, train_score_array, c = 'g', label = 'Train Score')\n",
    "plt.plot(x_axis, test_score_array, c = 'b', label = 'Test Score')\n",
    "plt.legend()\n",
    "plt.xlabel('n_neighbors')\n",
    "plt.ylabel('r2')"
   ]
  },
  {
   "cell_type": "markdown",
   "id": "45cf5233",
   "metadata": {},
   "source": [
    "# 2. Linear Regression using the Normal Equation"
   ]
  },
  {
   "cell_type": "code",
   "execution_count": 134,
   "id": "9ac83475",
   "metadata": {},
   "outputs": [
    {
     "data": {
      "text/plain": [
       "GridSearchCV(cv=5, estimator=LinearRegression(),\n",
       "             param_grid={'copy_X': [True, False],\n",
       "                         'fit_intercept': [True, False],\n",
       "                         'normalize': [True, False]},\n",
       "             scoring='r2')"
      ]
     },
     "execution_count": 134,
     "metadata": {},
     "output_type": "execute_result"
    }
   ],
   "source": [
    "from sklearn.linear_model import LinearRegression\n",
    "\n",
    "param_grid_LR = {'fit_intercept':[True,False], 'normalize':[True,False], 'copy_X':[True, False]}\n",
    "\n",
    "lin_reg = LinearRegression()\n",
    "\n",
    "grid_lr = GridSearchCV(lin_reg, param_grid_LR, cv = 5, scoring= 'r2')\n",
    "\n",
    "# fitting the model for grid search with reduced dataset with 90% explained variance\n",
    "grid_lr.fit(X_train_pca_reg, y_train)"
   ]
  },
  {
   "cell_type": "code",
   "execution_count": 135,
   "id": "a6b7dcff",
   "metadata": {},
   "outputs": [
    {
     "data": {
      "text/plain": [
       "[['knn Regressor with PCA: ', {'n_neighbors': 20}, 0.15333899967379233],\n",
       " ['Linear Regressor with PCA: ',\n",
       "  {'copy_X': True, 'fit_intercept': True, 'normalize': True},\n",
       "  0.15240226206246293]]"
      ]
     },
     "execution_count": 135,
     "metadata": {},
     "output_type": "execute_result"
    }
   ],
   "source": [
    "Full_table_PCA += [['Linear Regressor with PCA: ', grid_lr.best_params_, grid_lr.best_score_]]\n",
    "Full_table_PCA"
   ]
  },
  {
   "cell_type": "markdown",
   "id": "77c827e6",
   "metadata": {},
   "source": [
    "# 3. SGD Regressor"
   ]
  },
  {
   "cell_type": "code",
   "execution_count": 136,
   "id": "ed8310ac",
   "metadata": {},
   "outputs": [
    {
     "data": {
      "text/plain": [
       "GridSearchCV(cv=5,\n",
       "             estimator=SGDRegressor(learning_rate='constant', random_state=0,\n",
       "                                    shuffle=False),\n",
       "             param_grid={'eta0': [0.001, 0.01, 0.1],\n",
       "                         'max_iter': [1000, 5000, 10000]},\n",
       "             scoring='r2')"
      ]
     },
     "execution_count": 136,
     "metadata": {},
     "output_type": "execute_result"
    }
   ],
   "source": [
    "from sklearn.linear_model import SGDRegressor\n",
    "\n",
    "param_grid_SGD = {'eta0': [0.001, 0.01, 0.1], 'max_iter' : [1000, 5000, 10000]}\n",
    "sgd_reg = SGDRegressor(random_state = 0, learning_rate = 'constant', penalty = 'l2', shuffle = False)\n",
    "\n",
    "grid_sgd = GridSearchCV(sgd_reg, param_grid_SGD, cv = 5, scoring= 'r2')\n",
    "\n",
    "# fitting the model for grid search with reduced dataset with 90% explained variance\n",
    "grid_sgd.fit(X_train_pca_reg, y_train)"
   ]
  },
  {
   "cell_type": "code",
   "execution_count": 137,
   "id": "0742f8e7",
   "metadata": {},
   "outputs": [
    {
     "data": {
      "text/plain": [
       "[['knn Regressor with PCA: ', {'n_neighbors': 20}, 0.15333899967379233],\n",
       " ['Linear Regressor with PCA: ',\n",
       "  {'copy_X': True, 'fit_intercept': True, 'normalize': True},\n",
       "  0.15240226206246293],\n",
       " ['SGD Regressor with PCA: ',\n",
       "  {'eta0': 0.001, 'max_iter': 1000},\n",
       "  0.14604729871942196]]"
      ]
     },
     "execution_count": 137,
     "metadata": {},
     "output_type": "execute_result"
    }
   ],
   "source": [
    "Full_table_PCA +=[['SGD Regressor with PCA: ', grid_sgd.best_params_, grid_sgd.best_score_]]\n",
    "Full_table_PCA"
   ]
  },
  {
   "cell_type": "markdown",
   "id": "2440b6a7",
   "metadata": {},
   "source": [
    "# 4. Polynomial Regression"
   ]
  },
  {
   "cell_type": "code",
   "execution_count": 138,
   "id": "4f11e62e",
   "metadata": {},
   "outputs": [],
   "source": [
    "from sklearn.preprocessing import PolynomialFeatures\n",
    "#from sklearn.pipeline import Pipeline\n",
    "\n",
    "lambdas = [2,3,4]\n",
    "\n",
    "best_score = -999 #because the score results are negative, so keeping -999\n",
    "best_parameters = {}\n",
    "for degree in lambdas:\n",
    "    poly = PolynomialFeatures(degree = degree)\n",
    "    X_train_poly = poly.fit_transform(X_train_pca_reg)\n",
    "    X_test_poly = poly.transform(X_test_pca_reg)\n",
    "    poly_reg = LinearRegression()\n",
    "    poly_reg.fit(X_train_poly, y_train)\n",
    "score = poly_reg.score(X_test_poly, y_test)\n",
    "if score > best_score:\n",
    "        best_score = score\n",
    "        best_parameters = {'degree': degree}"
   ]
  },
  {
   "cell_type": "code",
   "execution_count": 139,
   "id": "2c95170f",
   "metadata": {},
   "outputs": [
    {
     "data": {
      "text/plain": [
       "[['knn Regressor with PCA: ', {'n_neighbors': 20}, 0.15333899967379233],\n",
       " ['Linear Regressor with PCA: ',\n",
       "  {'copy_X': True, 'fit_intercept': True, 'normalize': True},\n",
       "  0.15240226206246293],\n",
       " ['SGD Regressor with PCA: ',\n",
       "  {'eta0': 0.001, 'max_iter': 1000},\n",
       "  0.14604729871942196],\n",
       " ['Polynomial Regression with PCA: ', {'degree': 4}, -17.41152933103801]]"
      ]
     },
     "execution_count": 139,
     "metadata": {},
     "output_type": "execute_result"
    }
   ],
   "source": [
    "Full_table_PCA += [['Polynomial Regression with PCA: ', best_parameters, best_score]]\n",
    "Full_table_PCA"
   ]
  },
  {
   "cell_type": "markdown",
   "id": "74bfdbbc",
   "metadata": {},
   "source": [
    "# 5. RIDGE"
   ]
  },
  {
   "cell_type": "code",
   "execution_count": 140,
   "id": "abb9f45b",
   "metadata": {},
   "outputs": [
    {
     "data": {
      "text/plain": [
       "GridSearchCV(cv=5, estimator=Ridge(), n_jobs=-1,\n",
       "             param_grid={'alpha': [0.01, 0.1, 1, 10, 100]},\n",
       "             return_train_score=True, scoring='r2')"
      ]
     },
     "execution_count": 140,
     "metadata": {},
     "output_type": "execute_result"
    }
   ],
   "source": [
    "from sklearn.linear_model import Ridge\n",
    "\n",
    "ridge_reg = Ridge()\n",
    "\n",
    "param_grid_PolyReg = {'alpha' : [0.01, 0.1, 1, 10, 100]}\n",
    "\n",
    "#sklearn.metrics.SCORERS.keys()\n",
    "grid_ridge_reg = GridSearchCV(ridge_reg, param_grid_PolyReg, cv = 5, return_train_score = True, scoring = 'r2', n_jobs = -1)\n",
    "\n",
    "# fitting the model for grid search with reduced dataset with 90% explained variance\n",
    "grid_ridge_reg.fit(X_train_pca_reg, y_train)"
   ]
  },
  {
   "cell_type": "code",
   "execution_count": 141,
   "id": "74c20252",
   "metadata": {},
   "outputs": [
    {
     "data": {
      "text/plain": [
       "[['knn Regressor with PCA: ', {'n_neighbors': 20}, 0.15333899967379233],\n",
       " ['Linear Regressor with PCA: ',\n",
       "  {'copy_X': True, 'fit_intercept': True, 'normalize': True},\n",
       "  0.15240226206246293],\n",
       " ['SGD Regressor with PCA: ',\n",
       "  {'eta0': 0.001, 'max_iter': 1000},\n",
       "  0.14604729871942196],\n",
       " ['Polynomial Regression with PCA: ', {'degree': 4}, -17.41152933103801],\n",
       " ['Ridge Regression with PCA: ', {'alpha': 100}, 0.16531848123525333]]"
      ]
     },
     "execution_count": 141,
     "metadata": {},
     "output_type": "execute_result"
    }
   ],
   "source": [
    "Full_table_PCA += [['Ridge Regression with PCA: ', grid_ridge_reg.best_params_, grid_ridge_reg.best_score_]]\n",
    "Full_table_PCA"
   ]
  },
  {
   "cell_type": "markdown",
   "id": "ba1b8e31",
   "metadata": {},
   "source": [
    "# 6. Lasso"
   ]
  },
  {
   "cell_type": "code",
   "execution_count": 142,
   "id": "da748f29",
   "metadata": {},
   "outputs": [
    {
     "data": {
      "text/plain": [
       "GridSearchCV(cv=5, estimator=Lasso(), n_jobs=-1,\n",
       "             param_grid={'alpha': [0.001, 0.01, 0.1, 1, 10, 100]},\n",
       "             return_train_score=True, scoring='r2')"
      ]
     },
     "execution_count": 142,
     "metadata": {},
     "output_type": "execute_result"
    }
   ],
   "source": [
    "from sklearn.linear_model import Lasso\n",
    "\n",
    "lasso = Lasso()\n",
    "\n",
    "param_grid_LASSO = {'alpha' : [0.001, 0.01, 0.1, 1, 10, 100]}\n",
    "\n",
    "#sklearn.metrics.SCORERS.keys()\n",
    "grid_lasso = GridSearchCV(lasso, param_grid_LASSO, cv = 5, return_train_score = True, scoring = 'r2', n_jobs = -1)\n",
    "\n",
    "# fitting the model for grid search with reduced dataset with 90% explained variance\n",
    "grid_lasso.fit(X_train_pca_reg, y_train)"
   ]
  },
  {
   "cell_type": "code",
   "execution_count": 143,
   "id": "23408f8c",
   "metadata": {},
   "outputs": [
    {
     "data": {
      "text/plain": [
       "[['knn Regressor with PCA: ', {'n_neighbors': 20}, 0.15333899967379233],\n",
       " ['Linear Regressor with PCA: ',\n",
       "  {'copy_X': True, 'fit_intercept': True, 'normalize': True},\n",
       "  0.15240226206246293],\n",
       " ['SGD Regressor with PCA: ',\n",
       "  {'eta0': 0.001, 'max_iter': 1000},\n",
       "  0.14604729871942196],\n",
       " ['Polynomial Regression with PCA: ', {'degree': 4}, -17.41152933103801],\n",
       " ['Ridge Regression with PCA: ', {'alpha': 100}, 0.16531848123525333],\n",
       " ['Lasso Regression with PCA: ', {'alpha': 0.001}, 0.15548058994699854]]"
      ]
     },
     "execution_count": 143,
     "metadata": {},
     "output_type": "execute_result"
    }
   ],
   "source": [
    "Full_table_PCA += [['Lasso Regression with PCA: ', grid_lasso.best_params_, grid_lasso.best_score_]]\n",
    "Full_table_PCA"
   ]
  },
  {
   "cell_type": "code",
   "execution_count": 144,
   "id": "e6bc745c",
   "metadata": {},
   "outputs": [
    {
     "name": "stdout",
     "output_type": "stream",
     "text": [
      "[0.24323808518151313, 0.0, 0.0, 0.0, 0.0]\n",
      "[0.265083691426238, -0.001456766113597352, -0.001456766113597352, -0.001456766113597352, -0.001456766113597352]\n"
     ]
    },
    {
     "data": {
      "image/png": "[encoded data removed]",
      "text/plain": [
       "<Figure size 1440x360 with 1 Axes>"
      ]
     },
     "metadata": {
      "needs_background": "light"
     },
     "output_type": "display_data"
    }
   ],
   "source": [
    "train_score_list = []\n",
    "test_score_list = []\n",
    "for alpha in [0.01, 0.1, 1, 10, 100]:\n",
    "    lasso = Lasso(alpha)\n",
    "    lasso.fit(X_train, y_train)\n",
    "    train_score_list.append(lasso.score(X_train, y_train))\n",
    "    test_score_list.append(lasso.score(X_test, y_test))\n",
    "    x_range = [0.01, 0.1, 1, 10, 100]\n",
    "plt.subplots(figsize = (20,5))\n",
    "plt.plot(x_range, train_score_list, c = 'g', label = 'Train Score')\n",
    "plt.plot(x_range, test_score_list, c = 'b', label = 'Test Score')\n",
    "plt.xscale('log')\n",
    "plt.legend(loc = 3)\n",
    "plt.xlabel(r'$\\alpha$')\n",
    "plt.grid()\n",
    "print(train_score_list)\n",
    "print(test_score_list)"
   ]
  },
  {
   "cell_type": "markdown",
   "id": "1bb00e98",
   "metadata": {},
   "source": [
    "# 7. Linear SVR"
   ]
  },
  {
   "cell_type": "code",
   "execution_count": 145,
   "id": "e75a4988",
   "metadata": {},
   "outputs": [
    {
     "name": "stderr",
     "output_type": "stream",
     "text": [
      "/Library/Frameworks/Python.framework/Versions/3.8/lib/python3.8/site-packages/sklearn/svm/_base.py:985: ConvergenceWarning: Liblinear failed to converge, increase the number of iterations.\n",
      "  warnings.warn(\"Liblinear failed to converge, increase \"\n"
     ]
    },
    {
     "data": {
      "text/plain": [
       "GridSearchCV(cv=5, estimator=LinearSVR(), n_jobs=-1,\n",
       "             param_grid={'C': [0.001, 0.1, 1, 10, 100, 1000],\n",
       "                         'epsilon': [0.001, 0.01, 0.1, 1],\n",
       "                         'max_iter': [1000, 5000, 10000]},\n",
       "             return_train_score=True, scoring='r2')"
      ]
     },
     "execution_count": 145,
     "metadata": {},
     "output_type": "execute_result"
    }
   ],
   "source": [
    "from sklearn.svm import LinearSVR\n",
    "\n",
    "lsvr = LinearSVR()\n",
    "\n",
    "param_grid_LSVR = {'C':[0.001, 0.1, 1, 10, 100, 1000], 'epsilon':[0.001, 0.01, 0.1, 1], 'max_iter':[1000, 5000, 10000]}\n",
    "\n",
    "#pred_svr = svr.predict(X_test)\n",
    "\n",
    "grid_lsvr = GridSearchCV(lsvr, param_grid_LSVR, cv = 5, return_train_score = True, scoring = 'r2', n_jobs = -1)\n",
    "\n",
    "# fitting the model for grid search with reduced dataset with 90% explained variance\n",
    "grid_lsvr.fit(X_train_pca_reg, y_train)"
   ]
  },
  {
   "cell_type": "code",
   "execution_count": 146,
   "id": "874bf3a1",
   "metadata": {},
   "outputs": [
    {
     "data": {
      "text/plain": [
       "[['knn Regressor with PCA: ', {'n_neighbors': 20}, 0.15333899967379233],\n",
       " ['Linear Regressor with PCA: ',\n",
       "  {'copy_X': True, 'fit_intercept': True, 'normalize': True},\n",
       "  0.15240226206246293],\n",
       " ['SGD Regressor with PCA: ',\n",
       "  {'eta0': 0.001, 'max_iter': 1000},\n",
       "  0.14604729871942196],\n",
       " ['Polynomial Regression with PCA: ', {'degree': 4}, -17.41152933103801],\n",
       " ['Ridge Regression with PCA: ', {'alpha': 100}, 0.16531848123525333],\n",
       " ['Lasso Regression with PCA: ', {'alpha': 0.001}, 0.15548058994699854],\n",
       " ['Linear SVR with PCA: ',\n",
       "  {'C': 1, 'epsilon': 0.1, 'max_iter': 10000},\n",
       "  0.14921837708624133]]"
      ]
     },
     "execution_count": 146,
     "metadata": {},
     "output_type": "execute_result"
    }
   ],
   "source": [
    "Full_table_PCA += [['Linear SVR with PCA: ', grid_lsvr.best_params_, grid_lsvr.best_score_]]\n",
    "Full_table_PCA"
   ]
  },
  {
   "cell_type": "markdown",
   "id": "7b37ef08",
   "metadata": {},
   "source": [
    "# 8. SVR with kernel trick"
   ]
  },
  {
   "cell_type": "markdown",
   "id": "d4d212eb",
   "metadata": {},
   "source": [
    "# a. kernel = 'linear'"
   ]
  },
  {
   "cell_type": "code",
   "execution_count": 147,
   "id": "824b7142",
   "metadata": {},
   "outputs": [
    {
     "data": {
      "text/plain": [
       "GridSearchCV(cv=5, estimator=SVR(kernel='linear'), n_jobs=-1,\n",
       "             param_grid={'C': [0.001, 0.01, 0.1, 1, 10, 100]},\n",
       "             return_train_score=True, scoring='r2')"
      ]
     },
     "execution_count": 147,
     "metadata": {},
     "output_type": "execute_result"
    }
   ],
   "source": [
    "from sklearn.svm import SVR\n",
    "\n",
    "svr_ker_lin = SVR(kernel = 'linear')\n",
    "\n",
    "param_grid_SVR_ker_lin = {'C': [0.001, 0.01, 0.1, 1, 10, 100]}\n",
    "\n",
    "\n",
    "grid_svr_ker_lin = GridSearchCV(svr_ker_lin, param_grid_SVR_ker_lin, cv = 5, return_train_score = True, scoring = 'r2', n_jobs = -1)\n",
    "\n",
    "# fitting the model for grid search with reduced dataset with 90% explained variance\n",
    "grid_svr_ker_lin.fit(X_train_pca_reg, y_train)"
   ]
  },
  {
   "cell_type": "code",
   "execution_count": 148,
   "id": "00d54784",
   "metadata": {},
   "outputs": [
    {
     "data": {
      "text/plain": [
       "[['knn Regressor with PCA: ', {'n_neighbors': 20}, 0.15333899967379233],\n",
       " ['Linear Regressor with PCA: ',\n",
       "  {'copy_X': True, 'fit_intercept': True, 'normalize': True},\n",
       "  0.15240226206246293],\n",
       " ['SGD Regressor with PCA: ',\n",
       "  {'eta0': 0.001, 'max_iter': 1000},\n",
       "  0.14604729871942196],\n",
       " ['Polynomial Regression with PCA: ', {'degree': 4}, -17.41152933103801],\n",
       " ['Ridge Regression with PCA: ', {'alpha': 100}, 0.16531848123525333],\n",
       " ['Lasso Regression with PCA: ', {'alpha': 0.001}, 0.15548058994699854],\n",
       " ['Linear SVR with PCA: ',\n",
       "  {'C': 1, 'epsilon': 0.1, 'max_iter': 10000},\n",
       "  0.14921837708624133],\n",
       " ['SVR kernel=linear with PCA: ', {'C': 0.001}, 0.16444605187443856]]"
      ]
     },
     "execution_count": 148,
     "metadata": {},
     "output_type": "execute_result"
    }
   ],
   "source": [
    "Full_table_PCA += [['SVR kernel=linear with PCA: ', grid_svr_ker_lin.best_params_, grid_svr_ker_lin.best_score_]]\n",
    "Full_table_PCA"
   ]
  },
  {
   "cell_type": "markdown",
   "id": "cd133ff8",
   "metadata": {},
   "source": [
    "# b. kernel = 'rbf'"
   ]
  },
  {
   "cell_type": "code",
   "execution_count": 149,
   "id": "6b07fc0f",
   "metadata": {},
   "outputs": [
    {
     "data": {
      "text/plain": [
       "GridSearchCV(cv=5, estimator=SVR(), n_jobs=-1,\n",
       "             param_grid={'C': [0.001, 0.01, 0.1, 1, 10, 100],\n",
       "                         'gamma': [0.001, 0.01, 0.1, 1, 10, 100]},\n",
       "             return_train_score=True, scoring='r2')"
      ]
     },
     "execution_count": 149,
     "metadata": {},
     "output_type": "execute_result"
    }
   ],
   "source": [
    "from sklearn.svm import SVR\n",
    "\n",
    "svr_ker_rbf = SVR(kernel = 'rbf')\n",
    "\n",
    "param_grid_SVR_ker_rbf = {'C': [0.001, 0.01, 0.1, 1, 10, 100], 'gamma': [0.001, 0.01, 0.1, 1, 10, 100]}\n",
    "\n",
    "grid_svr_ker_rbf = GridSearchCV(svr_ker_rbf, param_grid_SVR_ker_rbf, cv = 5, return_train_score = True, scoring = 'r2', n_jobs = -1)\n",
    "\n",
    "# fitting the model for grid search with reduced dataset with 90% explained variance\n",
    "grid_svr_ker_rbf.fit(X_train_pca_reg, y_train)"
   ]
  },
  {
   "cell_type": "code",
   "execution_count": 150,
   "id": "f6c405c4",
   "metadata": {},
   "outputs": [
    {
     "data": {
      "text/plain": [
       "[['knn Regressor with PCA: ', {'n_neighbors': 20}, 0.15333899967379233],\n",
       " ['Linear Regressor with PCA: ',\n",
       "  {'copy_X': True, 'fit_intercept': True, 'normalize': True},\n",
       "  0.15240226206246293],\n",
       " ['SGD Regressor with PCA: ',\n",
       "  {'eta0': 0.001, 'max_iter': 1000},\n",
       "  0.14604729871942196],\n",
       " ['Polynomial Regression with PCA: ', {'degree': 4}, -17.41152933103801],\n",
       " ['Ridge Regression with PCA: ', {'alpha': 100}, 0.16531848123525333],\n",
       " ['Lasso Regression with PCA: ', {'alpha': 0.001}, 0.15548058994699854],\n",
       " ['Linear SVR with PCA: ',\n",
       "  {'C': 1, 'epsilon': 0.1, 'max_iter': 10000},\n",
       "  0.14921837708624133],\n",
       " ['SVR kernel=linear with PCA: ', {'C': 0.001}, 0.16444605187443856],\n",
       " ['SVR kernel rbf with PCA: ', {'C': 1, 'gamma': 0.01}, 0.237668290910298]]"
      ]
     },
     "execution_count": 150,
     "metadata": {},
     "output_type": "execute_result"
    }
   ],
   "source": [
    "Full_table_PCA += [['SVR kernel rbf with PCA: ', grid_svr_ker_rbf.best_params_, grid_svr_ker_rbf.best_score_]]\n",
    "Full_table_PCA"
   ]
  },
  {
   "cell_type": "markdown",
   "id": "043e2002",
   "metadata": {},
   "source": [
    "# c. kernel = 'poly' (with degree = 3)"
   ]
  },
  {
   "cell_type": "code",
   "execution_count": 151,
   "id": "7993be5d",
   "metadata": {},
   "outputs": [
    {
     "data": {
      "text/plain": [
       "GridSearchCV(cv=5, estimator=SVR(kernel='poly'), n_jobs=-1,\n",
       "             param_grid={'C': [0.01, 0.1, 1, 10, 100]}, return_train_score=True,\n",
       "             scoring='r2')"
      ]
     },
     "execution_count": 151,
     "metadata": {},
     "output_type": "execute_result"
    }
   ],
   "source": [
    "from sklearn.svm import SVR\n",
    "\n",
    "svr_ker_poly = SVR(kernel = 'poly', degree = 3)\n",
    "\n",
    "param_grid_SVR_ker_poly = {'C': [0.01, 0.1, 1, 10, 100]}\n",
    "\n",
    "grid_svr_ker_poly = GridSearchCV(svr_ker_poly, param_grid_SVR_ker_poly, cv = 5, return_train_score = True, scoring = 'r2', n_jobs = -1)\n",
    "\n",
    "# fitting the model for grid search with reduced dataset with 90% explained variance\n",
    "grid_svr_ker_poly.fit(X_train_pca_reg, y_train)"
   ]
  },
  {
   "cell_type": "code",
   "execution_count": 152,
   "id": "a528a769",
   "metadata": {},
   "outputs": [
    {
     "data": {
      "text/plain": [
       "[['knn Regressor with PCA: ', {'n_neighbors': 20}, 0.15333899967379233],\n",
       " ['Linear Regressor with PCA: ',\n",
       "  {'copy_X': True, 'fit_intercept': True, 'normalize': True},\n",
       "  0.15240226206246293],\n",
       " ['SGD Regressor with PCA: ',\n",
       "  {'eta0': 0.001, 'max_iter': 1000},\n",
       "  0.14604729871942196],\n",
       " ['Polynomial Regression with PCA: ', {'degree': 4}, -17.41152933103801],\n",
       " ['Ridge Regression with PCA: ', {'alpha': 100}, 0.16531848123525333],\n",
       " ['Lasso Regression with PCA: ', {'alpha': 0.001}, 0.15548058994699854],\n",
       " ['Linear SVR with PCA: ',\n",
       "  {'C': 1, 'epsilon': 0.1, 'max_iter': 10000},\n",
       "  0.14921837708624133],\n",
       " ['SVR kernel=linear with PCA: ', {'C': 0.001}, 0.16444605187443856],\n",
       " ['SVR kernel rbf with PCA: ', {'C': 1, 'gamma': 0.01}, 0.237668290910298],\n",
       " ['SVR kernel poly with PCA: ', {'C': 1}, -0.24569821925696173]]"
      ]
     },
     "execution_count": 152,
     "metadata": {},
     "output_type": "execute_result"
    }
   ],
   "source": [
    "Full_table_PCA += [['SVR kernel poly with PCA: ', grid_svr_ker_poly.best_params_, grid_svr_ker_poly.best_score_]]\n",
    "Full_table_PCA"
   ]
  },
  {
   "cell_type": "markdown",
   "id": "7b61015d",
   "metadata": {},
   "source": [
    "# 9. Decision Tree Regressor"
   ]
  },
  {
   "cell_type": "code",
   "execution_count": 153,
   "id": "bc0b2ce2",
   "metadata": {},
   "outputs": [
    {
     "data": {
      "text/plain": [
       "GridSearchCV(cv=5, estimator=DecisionTreeRegressor(random_state=0), n_jobs=-1,\n",
       "             param_grid={'max_depth': [1, 2, 3, 4, 5, 6, 7, 8],\n",
       "                         'min_samples_leaf': [30, 40, 50, 60, 70, 80, 90, 100],\n",
       "                         'min_samples_split': [100, 150, 200, 250, 300]},\n",
       "             return_train_score=True, scoring='r2')"
      ]
     },
     "execution_count": 153,
     "metadata": {},
     "output_type": "execute_result"
    }
   ],
   "source": [
    "from sklearn.tree import DecisionTreeRegressor\n",
    "\n",
    "dtree_reg = DecisionTreeRegressor(random_state = 0)\n",
    "\n",
    "param_grid_DTREG = {'max_depth': [1,2,3,4,5,6,7,8],'min_samples_leaf': [30,40,50,60,70,80,90,100],\n",
    "                    'min_samples_split': [100,150,200,250,300]}\n",
    "\n",
    "\n",
    "grid_dtreg = GridSearchCV(dtree_reg, param_grid_DTREG, cv = 5, return_train_score = True, scoring = 'r2', n_jobs = -1)\n",
    "\n",
    "# fitting the model for grid search with reduced dataset with 90% explained variance\n",
    "grid_dtreg.fit(X_train_pca_reg, y_train)"
   ]
  },
  {
   "cell_type": "code",
   "execution_count": 154,
   "id": "6a6a4a9b",
   "metadata": {},
   "outputs": [
    {
     "data": {
      "text/plain": [
       "[['knn Regressor with PCA: ', {'n_neighbors': 20}, 0.15333899967379233],\n",
       " ['Linear Regressor with PCA: ',\n",
       "  {'copy_X': True, 'fit_intercept': True, 'normalize': True},\n",
       "  0.15240226206246293],\n",
       " ['SGD Regressor with PCA: ',\n",
       "  {'eta0': 0.001, 'max_iter': 1000},\n",
       "  0.14604729871942196],\n",
       " ['Polynomial Regression with PCA: ', {'degree': 4}, -17.41152933103801],\n",
       " ['Ridge Regression with PCA: ', {'alpha': 100}, 0.16531848123525333],\n",
       " ['Lasso Regression with PCA: ', {'alpha': 0.001}, 0.15548058994699854],\n",
       " ['Linear SVR with PCA: ',\n",
       "  {'C': 1, 'epsilon': 0.1, 'max_iter': 10000},\n",
       "  0.14921837708624133],\n",
       " ['SVR kernel=linear with PCA: ', {'C': 0.001}, 0.16444605187443856],\n",
       " ['SVR kernel rbf with PCA: ', {'C': 1, 'gamma': 0.01}, 0.237668290910298],\n",
       " ['SVR kernel poly with PCA: ', {'C': 1}, -0.24569821925696173],\n",
       " ['Decision Tree Regressor with PCA: ',\n",
       "  {'max_depth': 4, 'min_samples_leaf': 50, 'min_samples_split': 100},\n",
       "  0.11414284780546932]]"
      ]
     },
     "execution_count": 154,
     "metadata": {},
     "output_type": "execute_result"
    }
   ],
   "source": [
    "Full_table_PCA += [['Decision Tree Regressor with PCA: ', grid_dtreg.best_params_, grid_dtreg.best_score_]]\n",
    "Full_table_PCA"
   ]
  },
  {
   "cell_type": "markdown",
   "id": "e6b36d25",
   "metadata": {},
   "source": [
    "# Summary of Models from Project 1"
   ]
  },
  {
   "cell_type": "raw",
   "id": "c4027962",
   "metadata": {},
   "source": [
    "# Full_table1 = pd.DataFrame(Full_table, columns=['Model','Best Hyperparameters','Average train score', 'Average test score','r2 score'])\n",
    "Full_table1.index = Full_table1['Model']\n",
    "Full_table1.round(4)\n",
    "Full_table1"
   ]
  },
  {
   "cell_type": "code",
   "execution_count": 155,
   "id": "e8ca6450",
   "metadata": {},
   "outputs": [
    {
     "name": "stdout",
     "output_type": "stream",
     "text": [
      "\n",
      "\n",
      " ********************  @@@@@@@@@@@@@@@@@@  Result from Project 1  @@@@@@@@@@@@@@@@@@  ********************\n",
      "\n"
     ]
    },
    {
     "data": {
      "image/jpeg": "[encoded data removed]",
      "text/plain": [
       "<IPython.core.display.Image object>"
      ]
     },
     "execution_count": 155,
     "metadata": {},
     "output_type": "execute_result"
    }
   ],
   "source": [
    "print(\"\\n\\n ********************  @@@@@@@@@@@@@@@@@@  Result from Project 1  @@@@@@@@@@@@@@@@@@  ********************\\n\")\n",
    "from IPython.display import Image\n",
    "Image(filename='Project1_Summary.jpg')"
   ]
  },
  {
   "cell_type": "markdown",
   "id": "d0cac586",
   "metadata": {},
   "source": [
    "We got maximun r2_score: 0.2987 by using SVR with kernel = 'rbf' with hyperparamters {'C': 10, 'gamma': 0.001}. Hence this is the best model. Because the cross validation score is negative (-0.03) for the best model so far (SVR kernel=rbf) I picked the second best model i.e. Decision Tree Regressor and checked the cross validation score with 0.19 which is quite good for picking it as the final model of the project. So, Decision Tree with max_depth=8, min_samples_leaf=40, min_samples_split=100 is the final model that I am selecting across the board."
   ]
  },
  {
   "cell_type": "markdown",
   "id": "4ae88c2b",
   "metadata": {},
   "source": [
    "# Summary of Post PCA Model Performance "
   ]
  },
  {
   "cell_type": "code",
   "execution_count": 156,
   "id": "e0c95c00",
   "metadata": {},
   "outputs": [
    {
     "name": "stdout",
     "output_type": "stream",
     "text": [
      "\n",
      "\n",
      " ********************  @@@@@@@@@@ Post PCA Result  @@@@@@@@@@ ********************\n",
      "\n"
     ]
    },
    {
     "name": "stderr",
     "output_type": "stream",
     "text": [
      "/var/folders/rx/dq92bd594rd72ms3cbzf46cc0000gn/T/ipykernel_15205/3101399874.py:1: FutureWarning: Passing a negative integer is deprecated in version 1.0 and will not be supported in future version. Instead, use None to not limit the column width.\n",
      "  pd.set_option(\"display.max_colwidth\", -1)\n"
     ]
    },
    {
     "data": {
      "text/html": [
       "<div>\n",
       "<style scoped>\n",
       "    .dataframe tbody tr th:only-of-type {\n",
       "        vertical-align: middle;\n",
       "    }\n",
       "\n",
       "    .dataframe tbody tr th {\n",
       "        vertical-align: top;\n",
       "    }\n",
       "\n",
       "    .dataframe thead th {\n",
       "        text-align: right;\n",
       "    }\n",
       "</style>\n",
       "<table border=\"1\" class=\"dataframe\">\n",
       "  <thead>\n",
       "    <tr style=\"text-align: right;\">\n",
       "      <th></th>\n",
       "      <th>Model</th>\n",
       "      <th>Best Hyperparameters</th>\n",
       "      <th>r2 score</th>\n",
       "    </tr>\n",
       "  </thead>\n",
       "  <tbody>\n",
       "    <tr>\n",
       "      <th>0</th>\n",
       "      <td>knn Regressor with PCA:</td>\n",
       "      <td>{'n_neighbors': 20}</td>\n",
       "      <td>0.153339</td>\n",
       "    </tr>\n",
       "    <tr>\n",
       "      <th>1</th>\n",
       "      <td>Linear Regressor with PCA:</td>\n",
       "      <td>{'copy_X': True, 'fit_intercept': True, 'normalize': True}</td>\n",
       "      <td>0.152402</td>\n",
       "    </tr>\n",
       "    <tr>\n",
       "      <th>2</th>\n",
       "      <td>SGD Regressor with PCA:</td>\n",
       "      <td>{'eta0': 0.001, 'max_iter': 1000}</td>\n",
       "      <td>0.146047</td>\n",
       "    </tr>\n",
       "    <tr>\n",
       "      <th>3</th>\n",
       "      <td>Polynomial Regression with PCA:</td>\n",
       "      <td>{'degree': 4}</td>\n",
       "      <td>-17.411529</td>\n",
       "    </tr>\n",
       "    <tr>\n",
       "      <th>4</th>\n",
       "      <td>Ridge Regression with PCA:</td>\n",
       "      <td>{'alpha': 100}</td>\n",
       "      <td>0.165318</td>\n",
       "    </tr>\n",
       "    <tr>\n",
       "      <th>5</th>\n",
       "      <td>Lasso Regression with PCA:</td>\n",
       "      <td>{'alpha': 0.001}</td>\n",
       "      <td>0.155481</td>\n",
       "    </tr>\n",
       "    <tr>\n",
       "      <th>6</th>\n",
       "      <td>Linear SVR with PCA:</td>\n",
       "      <td>{'C': 1, 'epsilon': 0.1, 'max_iter': 10000}</td>\n",
       "      <td>0.149218</td>\n",
       "    </tr>\n",
       "    <tr>\n",
       "      <th>7</th>\n",
       "      <td>SVR kernel=linear with PCA:</td>\n",
       "      <td>{'C': 0.001}</td>\n",
       "      <td>0.164446</td>\n",
       "    </tr>\n",
       "    <tr>\n",
       "      <th>8</th>\n",
       "      <td>SVR kernel rbf with PCA:</td>\n",
       "      <td>{'C': 1, 'gamma': 0.01}</td>\n",
       "      <td>0.237668</td>\n",
       "    </tr>\n",
       "    <tr>\n",
       "      <th>9</th>\n",
       "      <td>SVR kernel poly with PCA:</td>\n",
       "      <td>{'C': 1}</td>\n",
       "      <td>-0.245698</td>\n",
       "    </tr>\n",
       "    <tr>\n",
       "      <th>10</th>\n",
       "      <td>Decision Tree Regressor with PCA:</td>\n",
       "      <td>{'max_depth': 4, 'min_samples_leaf': 50, 'min_samples_split': 100}</td>\n",
       "      <td>0.114143</td>\n",
       "    </tr>\n",
       "  </tbody>\n",
       "</table>\n",
       "</div>"
      ],
      "text/plain": [
       "                                 Model  \\\n",
       "0   knn Regressor with PCA:              \n",
       "1   Linear Regressor with PCA:           \n",
       "2   SGD Regressor with PCA:              \n",
       "3   Polynomial Regression with PCA:      \n",
       "4   Ridge Regression with PCA:           \n",
       "5   Lasso Regression with PCA:           \n",
       "6   Linear SVR with PCA:                 \n",
       "7   SVR kernel=linear with PCA:          \n",
       "8   SVR kernel rbf with PCA:             \n",
       "9   SVR kernel poly with PCA:            \n",
       "10  Decision Tree Regressor with PCA:    \n",
       "\n",
       "                                                  Best Hyperparameters  \\\n",
       "0   {'n_neighbors': 20}                                                  \n",
       "1   {'copy_X': True, 'fit_intercept': True, 'normalize': True}           \n",
       "2   {'eta0': 0.001, 'max_iter': 1000}                                    \n",
       "3   {'degree': 4}                                                        \n",
       "4   {'alpha': 100}                                                       \n",
       "5   {'alpha': 0.001}                                                     \n",
       "6   {'C': 1, 'epsilon': 0.1, 'max_iter': 10000}                          \n",
       "7   {'C': 0.001}                                                         \n",
       "8   {'C': 1, 'gamma': 0.01}                                              \n",
       "9   {'C': 1}                                                             \n",
       "10  {'max_depth': 4, 'min_samples_leaf': 50, 'min_samples_split': 100}   \n",
       "\n",
       "     r2 score  \n",
       "0   0.153339   \n",
       "1   0.152402   \n",
       "2   0.146047   \n",
       "3  -17.411529  \n",
       "4   0.165318   \n",
       "5   0.155481   \n",
       "6   0.149218   \n",
       "7   0.164446   \n",
       "8   0.237668   \n",
       "9  -0.245698   \n",
       "10  0.114143   "
      ]
     },
     "execution_count": 156,
     "metadata": {},
     "output_type": "execute_result"
    }
   ],
   "source": [
    "pd.set_option(\"display.max_colwidth\", -1)\n",
    "\n",
    "print(\"\\n\\n ********************  @@@@@@@@@@ Post PCA Result  @@@@@@@@@@ ********************\\n\")\n",
    "Full_table2 = pd.DataFrame(Full_table_PCA, columns = ['Model','Best Hyperparameters','r2 score'])\n",
    "#Full_table1.index = Full_table1['Model']\n",
    "Full_table2.round(4)\n",
    "Full_table2"
   ]
  },
  {
   "cell_type": "markdown",
   "id": "0377f12f",
   "metadata": {},
   "source": [
    "# | Model Comparision with and without PCA |"
   ]
  },
  {
   "cell_type": "markdown",
   "id": "23ddb71e",
   "metadata": {},
   "source": [
    "1. kNN Regressor : For this regression model, model using PCA reduces the no of neighbors by 1. The r2 score did not improve for the model with PCA as compared to the model without PCA."
   ]
  },
  {
   "cell_type": "markdown",
   "id": "ff20d1bb",
   "metadata": {},
   "source": [
    "2. Linear Regressor : For this regression model also the model with PCA could not improve its iverall performance in terms of r2 scoring evaluation."
   ]
  },
  {
   "cell_type": "markdown",
   "id": "5d61fa27",
   "metadata": {},
   "source": [
    "3. SGD Regressor : The performance of the model with PCA has improved about 3% with respect to that of without PCA with the exact same hyperparameter combination."
   ]
  },
  {
   "cell_type": "markdown",
   "id": "c41c641e",
   "metadata": {},
   "source": [
    "4. Polynomial Regression : The R2 score was negative for the model without PCA and it still remained negative for the model with PCA with degree 4 polynomial."
   ]
  },
  {
   "cell_type": "markdown",
   "id": "d959e977",
   "metadata": {},
   "source": [
    "5. Ridge Regressor : The performance of this model did not improve with PCA as well even with higher value of alpha (100) than that without PCA."
   ]
  },
  {
   "cell_type": "markdown",
   "id": "e0f24272",
   "metadata": {},
   "source": [
    "6. Lasso Regressor : The r2 score significantly dropped for Lasso regression model in case of model with PCA applied than that without PCA. The alpha parameter remained the same for both (0.001)"
   ]
  },
  {
   "cell_type": "markdown",
   "id": "e4e2aa38",
   "metadata": {},
   "source": [
    "7. Linear SVR : For this regression model, model using PCA did not exhibit any better with PCA than without PCA with the exact same combination of 'C', 'epsilon' and 'max_iter' parameters."
   ]
  },
  {
   "cell_type": "markdown",
   "id": "9461fa46",
   "metadata": {},
   "source": [
    "8. SVR with kernel 'linear' : The r2 score significanly dropped for this model with PCA than it was without PCA. However, the hypermparameter value of 'C' reduced a lot (10 to 0.001)."
   ]
  },
  {
   "cell_type": "markdown",
   "id": "26920fd5",
   "metadata": {},
   "source": [
    "9. SVR with kernel 'rbf' : This model is the champion model with PCA however the r2 score dropped about 6%. For the model with PCA 'C' hyperparameter value reduced from 10 to 0.1 but it took a higher 'gamma' value than without PCA."
   ]
  },
  {
   "cell_type": "markdown",
   "id": "1474907b",
   "metadata": {},
   "source": [
    "10. SVR with kernel 'poly' : The r2 score significanly dropped for the model with PCA than without PCA. Although it considered larger 'C' value than it did for without PCA."
   ]
  },
  {
   "cell_type": "markdown",
   "id": "25c6237d",
   "metadata": {},
   "source": [
    "11. Decision Tree Regressor : The r2 score of this model also significantky reduced with PCA which was the second best model without PCA. For 'max_depth' the model reduced the value with PCA but for 'min_samples_leaf' it increased and for 'min_samples_split' the value remained unchanged."
   ]
  },
  {
   "cell_type": "markdown",
   "id": "d44d7ea5",
   "metadata": {},
   "source": [
    "#### By comparing above two tables we can clearly see that r2 Score are lower for PCA processed data than scaled data (project 1 without PCA). PCA doesnt help getting better results in this case. However, we had obtained Decision Tree Regressor as the best model (28.4%) without using PCA and when we use PCA we get SVR with kernel 'rbf' as the best model (23.76%)."
   ]
  },
  {
   "cell_type": "markdown",
   "id": "955fd640",
   "metadata": {},
   "source": [
    "After initial feature transformation (with 33 features) all the 11 regression models from project 1 with gridsearch technique gave the best model as Decision Tree Regressor with the highest r2 score (~29%). The results however with the reduced dataset (with 23 features which is about 31% reduced features of the original dataset after feature transformation) after applying PCA with 90% explained variance showed a little drop in r2 score across the models. SVR kernel 'rbf' outperformed here with PCA post processed data and stood out as the best model with 24% r2 score."
   ]
  },
  {
   "cell_type": "markdown",
   "id": "46bdee3d",
   "metadata": {},
   "source": [
    "# Deep Learning Alogorithm"
   ]
  },
  {
   "cell_type": "markdown",
   "id": "7c5de795",
   "metadata": {},
   "source": [
    "# | Multi Layer Perceptron |\n",
    "\n",
    "(MLP)"
   ]
  },
  {
   "cell_type": "code",
   "execution_count": 157,
   "id": "1a42c193",
   "metadata": {},
   "outputs": [],
   "source": [
    "#!pip install tensorflow\n",
    "#!pip install PyHamcrest"
   ]
  },
  {
   "cell_type": "code",
   "execution_count": 158,
   "id": "26d986b9",
   "metadata": {},
   "outputs": [],
   "source": [
    "#from tensorflow.keras import backend\n",
    "#backend.clear_session()"
   ]
  },
  {
   "cell_type": "code",
   "execution_count": 159,
   "id": "e5daedd0",
   "metadata": {},
   "outputs": [],
   "source": [
    "import tensorflow as tf\n",
    "import tensorflow\n",
    "import matplotlib.pyplot as plt\n",
    "\n",
    "from tensorflow import keras"
   ]
  },
  {
   "cell_type": "code",
   "execution_count": 160,
   "id": "fda8d455",
   "metadata": {},
   "outputs": [],
   "source": [
    "from keras import Sequential\n",
    "from keras.layers import Dense"
   ]
  },
  {
   "cell_type": "code",
   "execution_count": 161,
   "id": "71b9fbd3",
   "metadata": {},
   "outputs": [],
   "source": [
    "import pandas as pd\n",
    "import numpy as np\n",
    "import matplotlib.pyplot as plt\n",
    "import tensorflow as tf\n",
    "import keras\n",
    "\n",
    "np.random.seed(0)\n",
    "tf.random.set_seed(0)\n",
    "\n",
    "from keras import Sequential\n",
    "from keras.layers import Conv2D, MaxPooling2D, Dropout, Dense, Flatten\n",
    "from tensorflow.keras.models import Sequential\n",
    "from tensorflow.keras.layers import Dense\n",
    "from tensorflow.keras.layers import Dropout\n",
    "from tensorflow.keras.wrappers.scikit_learn import KerasRegressor\n",
    "import warnings\n",
    "warnings.filterwarnings(\"ignore\")"
   ]
  },
  {
   "cell_type": "code",
   "execution_count": 162,
   "id": "1cef0035",
   "metadata": {},
   "outputs": [],
   "source": [
    "%matplotlib inline\n",
    "\n",
    "from keras.models import Sequential\n",
    "from keras.layers import Dense, Activation\n",
    "from keras.optimizers import gradient_descent_v2\n",
    "from tensorflow.keras.optimizers import SGD\n",
    "from keras.utils import np_utils\n",
    "\n",
    "np.random.seed(0) # for reproducibility\n",
    "tf.random.set_seed(0)"
   ]
  },
  {
   "cell_type": "code",
   "execution_count": 163,
   "id": "64374047",
   "metadata": {},
   "outputs": [
    {
     "data": {
      "text/plain": [
       "(897, 33)"
      ]
     },
     "execution_count": 163,
     "metadata": {},
     "output_type": "execute_result"
    }
   ],
   "source": [
    "X_train.shape"
   ]
  },
  {
   "cell_type": "code",
   "execution_count": 164,
   "id": "715f89a0",
   "metadata": {},
   "outputs": [
    {
     "data": {
      "text/plain": [
       "(897,)"
      ]
     },
     "execution_count": 164,
     "metadata": {},
     "output_type": "execute_result"
    }
   ],
   "source": [
    "y_train.shape"
   ]
  },
  {
   "cell_type": "code",
   "execution_count": 165,
   "id": "1363a200",
   "metadata": {},
   "outputs": [],
   "source": [
    "# step 1 : Building the Model\n",
    "def create_model(): \n",
    "    mlp = Sequential()\n",
    "    # Input Layer\n",
    "    mlp.add(Dense(32, input_dim = X_train.shape[1], activation = 'relu', name = 'input_layer'))\n",
    "    # Hidden Layer\n",
    "    mlp.add(Dense(16, activation = 'relu', name = 'hidden_layer1'))\n",
    "    mlp.add(Dense(8, activation = 'relu', name = 'hidden_layer2'))\n",
    "    # Output Layer\n",
    "    mlp.add(Dense(1, name = 'output_layer')) # only one neuron and no activation function in output layer for regression\n",
    "\n",
    "# step 2: Compilation of the Model - Building the Computational Graph\n",
    "    mlp.compile(loss = 'mse', optimizer = 'sgd', metrics = ['mse', 'mae'])\n",
    "    return mlp"
   ]
  },
  {
   "cell_type": "code",
   "execution_count": 166,
   "id": "2181b8d9",
   "metadata": {},
   "outputs": [
    {
     "name": "stdout",
     "output_type": "stream",
     "text": [
      "Fitting 5 folds for each of 8 candidates, totalling 40 fits\n"
     ]
    },
    {
     "name": "stderr",
     "output_type": "stream",
     "text": [
      "2021-11-21 13:53:56.418521: I tensorflow/core/platform/cpu_feature_guard.cc:151] This TensorFlow binary is optimized with oneAPI Deep Neural Network Library (oneDNN) to use the following CPU instructions in performance-critical operations:  AVX2 FMA\n",
      "To enable them in other operations, rebuild TensorFlow with the appropriate compiler flags.\n"
     ]
    },
    {
     "name": "stdout",
     "output_type": "stream",
     "text": [
      "[CV 1/5] END ..........batch_size=5, epochs=10;, score=-0.200 total time=   3.2s\n",
      "[CV 2/5] END ..........batch_size=5, epochs=10;, score=-0.080 total time=   2.4s\n",
      "[CV 3/5] END ..........batch_size=5, epochs=10;, score=-0.115 total time=   2.5s\n",
      "[CV 4/5] END ...........batch_size=5, epochs=10;, score=0.041 total time=   2.5s\n",
      "[CV 5/5] END ...........batch_size=5, epochs=10;, score=0.200 total time=   2.3s\n",
      "[CV 1/5] END ..........batch_size=5, epochs=15;, score=-0.058 total time=   3.4s\n",
      "[CV 2/5] END ..........batch_size=5, epochs=15;, score=-0.090 total time=   3.3s\n",
      "[CV 3/5] END ..........batch_size=5, epochs=15;, score=-0.009 total time=   3.3s\n",
      "[CV 4/5] END ...........batch_size=5, epochs=15;, score=0.065 total time=   3.2s\n",
      "[CV 5/5] END ..........batch_size=5, epochs=15;, score=-0.032 total time=   3.4s\n",
      "[CV 1/5] END ..........batch_size=5, epochs=20;, score=-0.042 total time=   4.3s\n",
      "[CV 2/5] END ..........batch_size=5, epochs=20;, score=-0.105 total time=   4.3s\n",
      "[CV 3/5] END ...........batch_size=5, epochs=20;, score=0.041 total time=   4.1s\n",
      "[CV 4/5] END ..........batch_size=5, epochs=20;, score=-0.040 total time=   4.0s\n",
      "[CV 5/5] END ...........batch_size=5, epochs=20;, score=0.102 total time=   5.2s\n",
      "[CV 1/5] END ..........batch_size=5, epochs=25;, score=-0.020 total time=   6.2s\n",
      "[CV 2/5] END ..........batch_size=5, epochs=25;, score=-0.050 total time=   6.5s\n",
      "[CV 3/5] END ...........batch_size=5, epochs=25;, score=0.050 total time=   5.6s\n",
      "[CV 4/5] END ...........batch_size=5, epochs=25;, score=0.156 total time=   5.9s\n",
      "[CV 5/5] END ...........batch_size=5, epochs=25;, score=0.007 total time=   5.4s\n",
      "[CV 1/5] END .........batch_size=10, epochs=10;, score=-0.161 total time=   1.5s\n",
      "[CV 2/5] END .........batch_size=10, epochs=10;, score=-0.318 total time=   1.5s\n",
      "[CV 3/5] END .........batch_size=10, epochs=10;, score=-0.466 total time=   1.5s\n",
      "[CV 4/5] END .........batch_size=10, epochs=10;, score=-0.106 total time=   1.6s\n",
      "[CV 5/5] END .........batch_size=10, epochs=10;, score=-0.039 total time=   1.5s\n",
      "[CV 1/5] END .........batch_size=10, epochs=15;, score=-0.020 total time=   2.0s\n",
      "[CV 2/5] END .........batch_size=10, epochs=15;, score=-0.120 total time=   1.9s\n",
      "[CV 3/5] END .........batch_size=10, epochs=15;, score=-0.287 total time=   2.0s\n",
      "[CV 4/5] END .........batch_size=10, epochs=15;, score=-0.159 total time=   1.9s\n",
      "[CV 5/5] END .........batch_size=10, epochs=15;, score=-0.040 total time=   2.0s\n",
      "[CV 1/5] END .........batch_size=10, epochs=20;, score=-0.048 total time=   2.6s\n",
      "[CV 2/5] END .........batch_size=10, epochs=20;, score=-0.012 total time=   2.3s\n",
      "[CV 3/5] END .........batch_size=10, epochs=20;, score=-0.107 total time=   2.4s\n",
      "[CV 4/5] END .........batch_size=10, epochs=20;, score=-0.071 total time=   2.5s\n",
      "[CV 5/5] END ..........batch_size=10, epochs=20;, score=0.054 total time=   2.4s\n",
      "[CV 1/5] END ..........batch_size=10, epochs=25;, score=0.042 total time=   3.1s\n",
      "[CV 2/5] END .........batch_size=10, epochs=25;, score=-0.020 total time=   3.3s\n",
      "[CV 3/5] END .........batch_size=10, epochs=25;, score=-0.033 total time=   3.0s\n",
      "[CV 4/5] END ..........batch_size=10, epochs=25;, score=0.021 total time=   2.9s\n",
      "[CV 5/5] END .........batch_size=10, epochs=25;, score=-0.153 total time=   2.9s\n"
     ]
    },
    {
     "data": {
      "text/plain": [
       "GridSearchCV(cv=5,\n",
       "             estimator=<keras.wrappers.scikit_learn.KerasRegressor object at 0x7fcefcf73070>,\n",
       "             param_grid={'batch_size': [5, 10], 'epochs': [10, 15, 20, 25]},\n",
       "             scoring='r2', verbose=3)"
      ]
     },
     "execution_count": 166,
     "metadata": {},
     "output_type": "execute_result"
    }
   ],
   "source": [
    "from sklearn.model_selection import GridSearchCV\n",
    "\n",
    "mlp_reg = KerasRegressor(build_fn = create_model, verbose = 0)\n",
    "\n",
    "grid_mlp_param = {'batch_size':[5, 10],\n",
    "                  'epochs':[10, 15, 20, 25]}\n",
    "\n",
    "grid_mlp = GridSearchCV(estimator = mlp_reg, param_grid = grid_mlp_param, cv = 5, verbose = 3, scoring = 'r2')\n",
    "grid_mlp.fit(X_train, y_train)"
   ]
  },
  {
   "cell_type": "code",
   "execution_count": 167,
   "id": "26f47e10",
   "metadata": {},
   "outputs": [
    {
     "name": "stdout",
     "output_type": "stream",
     "text": [
      "Best Score: 0.0287\n",
      "Parameters selected by best Keras Classifier model: <keras.wrappers.scikit_learn.KerasRegressor object at 0x7fcef437c3a0>\n",
      "Best parameters selected by best Keras Classifier model on reduced dataset: {'batch_size': 5, 'epochs': 25}\n"
     ]
    }
   ],
   "source": [
    "print(\"Best Score: {0:.4f}\".format(grid_mlp.best_score_))\n",
    "print(\"Parameters selected by best Keras Classifier model:\", grid_mlp.best_estimator_)\n",
    "print(\"Best parameters selected by best Keras Classifier model on reduced dataset:\", grid_mlp.best_params_)"
   ]
  },
  {
   "cell_type": "code",
   "execution_count": 168,
   "id": "76f465d4",
   "metadata": {},
   "outputs": [
    {
     "data": {
      "text/html": [
       "<div>\n",
       "<style scoped>\n",
       "    .dataframe tbody tr th:only-of-type {\n",
       "        vertical-align: middle;\n",
       "    }\n",
       "\n",
       "    .dataframe tbody tr th {\n",
       "        vertical-align: top;\n",
       "    }\n",
       "\n",
       "    .dataframe thead th {\n",
       "        text-align: right;\n",
       "    }\n",
       "</style>\n",
       "<table border=\"1\" class=\"dataframe\">\n",
       "  <thead>\n",
       "    <tr style=\"text-align: right;\">\n",
       "      <th></th>\n",
       "      <th>mean_fit_time</th>\n",
       "      <th>std_fit_time</th>\n",
       "      <th>mean_score_time</th>\n",
       "      <th>std_score_time</th>\n",
       "      <th>param_batch_size</th>\n",
       "      <th>param_epochs</th>\n",
       "      <th>params</th>\n",
       "      <th>split0_test_score</th>\n",
       "      <th>split1_test_score</th>\n",
       "      <th>split2_test_score</th>\n",
       "      <th>split3_test_score</th>\n",
       "      <th>split4_test_score</th>\n",
       "      <th>mean_test_score</th>\n",
       "      <th>std_test_score</th>\n",
       "      <th>rank_test_score</th>\n",
       "    </tr>\n",
       "  </thead>\n",
       "  <tbody>\n",
       "    <tr>\n",
       "      <th>0</th>\n",
       "      <td>2.449222</td>\n",
       "      <td>0.297919</td>\n",
       "      <td>0.131329</td>\n",
       "      <td>0.023286</td>\n",
       "      <td>5</td>\n",
       "      <td>10</td>\n",
       "      <td>{'batch_size': 5, 'epochs': 10}</td>\n",
       "      <td>-0.199858</td>\n",
       "      <td>-0.079547</td>\n",
       "      <td>-0.115208</td>\n",
       "      <td>0.041347</td>\n",
       "      <td>0.199846</td>\n",
       "      <td>-0.030684</td>\n",
       "      <td>0.138913</td>\n",
       "      <td>5</td>\n",
       "    </tr>\n",
       "    <tr>\n",
       "      <th>1</th>\n",
       "      <td>3.190582</td>\n",
       "      <td>0.073003</td>\n",
       "      <td>0.132791</td>\n",
       "      <td>0.025401</td>\n",
       "      <td>5</td>\n",
       "      <td>15</td>\n",
       "      <td>{'batch_size': 5, 'epochs': 15}</td>\n",
       "      <td>-0.058118</td>\n",
       "      <td>-0.090111</td>\n",
       "      <td>-0.009380</td>\n",
       "      <td>0.064519</td>\n",
       "      <td>-0.031832</td>\n",
       "      <td>-0.024984</td>\n",
       "      <td>0.052231</td>\n",
       "      <td>3</td>\n",
       "    </tr>\n",
       "    <tr>\n",
       "      <th>2</th>\n",
       "      <td>4.257323</td>\n",
       "      <td>0.394579</td>\n",
       "      <td>0.126727</td>\n",
       "      <td>0.017251</td>\n",
       "      <td>5</td>\n",
       "      <td>20</td>\n",
       "      <td>{'batch_size': 5, 'epochs': 20}</td>\n",
       "      <td>-0.042189</td>\n",
       "      <td>-0.104960</td>\n",
       "      <td>0.040974</td>\n",
       "      <td>-0.039565</td>\n",
       "      <td>0.102315</td>\n",
       "      <td>-0.008685</td>\n",
       "      <td>0.072294</td>\n",
       "      <td>2</td>\n",
       "    </tr>\n",
       "    <tr>\n",
       "      <th>3</th>\n",
       "      <td>5.783342</td>\n",
       "      <td>0.386520</td>\n",
       "      <td>0.129171</td>\n",
       "      <td>0.006886</td>\n",
       "      <td>5</td>\n",
       "      <td>25</td>\n",
       "      <td>{'batch_size': 5, 'epochs': 25}</td>\n",
       "      <td>-0.020379</td>\n",
       "      <td>-0.049978</td>\n",
       "      <td>0.050258</td>\n",
       "      <td>0.156298</td>\n",
       "      <td>0.007320</td>\n",
       "      <td>0.028704</td>\n",
       "      <td>0.071836</td>\n",
       "      <td>1</td>\n",
       "    </tr>\n",
       "    <tr>\n",
       "      <th>4</th>\n",
       "      <td>1.436461</td>\n",
       "      <td>0.039609</td>\n",
       "      <td>0.104090</td>\n",
       "      <td>0.002777</td>\n",
       "      <td>10</td>\n",
       "      <td>10</td>\n",
       "      <td>{'batch_size': 10, 'epochs': 10}</td>\n",
       "      <td>-0.160760</td>\n",
       "      <td>-0.318474</td>\n",
       "      <td>-0.465633</td>\n",
       "      <td>-0.106483</td>\n",
       "      <td>-0.038947</td>\n",
       "      <td>-0.218059</td>\n",
       "      <td>0.154395</td>\n",
       "      <td>8</td>\n",
       "    </tr>\n",
       "  </tbody>\n",
       "</table>\n",
       "</div>"
      ],
      "text/plain": [
       "   mean_fit_time  std_fit_time  mean_score_time  std_score_time  \\\n",
       "0  2.449222       0.297919      0.131329         0.023286         \n",
       "1  3.190582       0.073003      0.132791         0.025401         \n",
       "2  4.257323       0.394579      0.126727         0.017251         \n",
       "3  5.783342       0.386520      0.129171         0.006886         \n",
       "4  1.436461       0.039609      0.104090         0.002777         \n",
       "\n",
       "  param_batch_size param_epochs                            params  \\\n",
       "0  5                10           {'batch_size': 5, 'epochs': 10}    \n",
       "1  5                15           {'batch_size': 5, 'epochs': 15}    \n",
       "2  5                20           {'batch_size': 5, 'epochs': 20}    \n",
       "3  5                25           {'batch_size': 5, 'epochs': 25}    \n",
       "4  10               10           {'batch_size': 10, 'epochs': 10}   \n",
       "\n",
       "   split0_test_score  split1_test_score  split2_test_score  split3_test_score  \\\n",
       "0 -0.199858          -0.079547          -0.115208           0.041347            \n",
       "1 -0.058118          -0.090111          -0.009380           0.064519            \n",
       "2 -0.042189          -0.104960           0.040974          -0.039565            \n",
       "3 -0.020379          -0.049978           0.050258           0.156298            \n",
       "4 -0.160760          -0.318474          -0.465633          -0.106483            \n",
       "\n",
       "   split4_test_score  mean_test_score  std_test_score  rank_test_score  \n",
       "0  0.199846          -0.030684         0.138913        5                \n",
       "1 -0.031832          -0.024984         0.052231        3                \n",
       "2  0.102315          -0.008685         0.072294        2                \n",
       "3  0.007320           0.028704         0.071836        1                \n",
       "4 -0.038947          -0.218059         0.154395        8                "
      ]
     },
     "execution_count": 168,
     "metadata": {},
     "output_type": "execute_result"
    }
   ],
   "source": [
    "mlp_log = pd.DataFrame(grid_mlp.cv_results_)\n",
    "mlp_log.head()"
   ]
  },
  {
   "cell_type": "code",
   "execution_count": 169,
   "id": "affa7abc",
   "metadata": {},
   "outputs": [
    {
     "data": {
      "text/plain": [
       "<AxesSubplot:xlabel='param_epochs', ylabel='param_batch_size'>"
      ]
     },
     "execution_count": 169,
     "metadata": {},
     "output_type": "execute_result"
    },
    {
     "data": {
      "image/png": "[encoded data removed]",
      "text/plain": [
       "<Figure size 1000x400 with 2 Axes>"
      ]
     },
     "metadata": {
      "needs_background": "light"
     },
     "output_type": "display_data"
    }
   ],
   "source": [
    "fig = plt.figure(figsize = (10,4),dpi = 100)\n",
    "sns.heatmap(mlp_log.pivot_table(index = 'param_batch_size',\n",
    "                                columns = 'param_epochs',\n",
    "                                values = 'mean_test_score'),\n",
    "                                annot = True)\n"
   ]
  },
  {
   "cell_type": "markdown",
   "id": "1580de13",
   "metadata": {},
   "source": [
    "# Best MLP Model"
   ]
  },
  {
   "cell_type": "code",
   "execution_count": 170,
   "id": "59f66a9c",
   "metadata": {},
   "outputs": [],
   "source": [
    "# step 1 : Building the Model\n",
    "mlp_best = Sequential()\n",
    "# Input Layer\n",
    "mlp_best.add(Dense(32, input_dim = X_train.shape[1], activation = 'relu', name = 'input_layer'))\n",
    "# Hidden Layer\n",
    "mlp_best.add(Dense(16, activation = 'relu', name = 'hidden_layer1'))\n",
    "mlp_best.add(Dense(8, activation = 'relu', name = 'hidden_layer2'))\n",
    "# Output Layer\n",
    "mlp_best.add(Dense(1, name = 'output_layer')) # only one neuron and no activation function in output layer for regression\n",
    "\n",
    "# step 2: Compilation of the Model - Building the Computational Graph\n",
    "mlp_best.compile(loss = 'mse', optimizer = 'sgd', metrics = ['mse', 'mae'])"
   ]
  },
  {
   "cell_type": "code",
   "execution_count": 171,
   "id": "7d42c0eb",
   "metadata": {},
   "outputs": [
    {
     "name": "stdout",
     "output_type": "stream",
     "text": [
      "Epoch 1/25\n",
      "180/180 [==============================] - 1s 4ms/step - loss: 0.1097 - mse: 0.1097 - mae: 0.2426 - val_loss: 0.0406 - val_mse: 0.0406 - val_mae: 0.1578\n",
      "Epoch 2/25\n",
      "180/180 [==============================] - 0s 2ms/step - loss: 0.0427 - mse: 0.0427 - mae: 0.1622 - val_loss: 0.0338 - val_mse: 0.0338 - val_mae: 0.1417\n",
      "Epoch 3/25\n",
      "180/180 [==============================] - 0s 2ms/step - loss: 0.0362 - mse: 0.0362 - mae: 0.1490 - val_loss: 0.0306 - val_mse: 0.0306 - val_mae: 0.1347\n",
      "Epoch 4/25\n",
      "180/180 [==============================] - 0s 2ms/step - loss: 0.0329 - mse: 0.0329 - mae: 0.1411 - val_loss: 0.0286 - val_mse: 0.0286 - val_mae: 0.1263\n",
      "Epoch 5/25\n",
      "180/180 [==============================] - 0s 2ms/step - loss: 0.0305 - mse: 0.0305 - mae: 0.1348 - val_loss: 0.0299 - val_mse: 0.0299 - val_mae: 0.1239\n",
      "Epoch 6/25\n",
      "180/180 [==============================] - 0s 2ms/step - loss: 0.0290 - mse: 0.0290 - mae: 0.1311 - val_loss: 0.0267 - val_mse: 0.0267 - val_mae: 0.1190\n",
      "Epoch 7/25\n",
      "180/180 [==============================] - 0s 2ms/step - loss: 0.0279 - mse: 0.0279 - mae: 0.1292 - val_loss: 0.0257 - val_mse: 0.0257 - val_mae: 0.1196\n",
      "Epoch 8/25\n",
      "180/180 [==============================] - 0s 2ms/step - loss: 0.0269 - mse: 0.0269 - mae: 0.1268 - val_loss: 0.0260 - val_mse: 0.0260 - val_mae: 0.1166\n",
      "Epoch 9/25\n",
      "180/180 [==============================] - 0s 2ms/step - loss: 0.0262 - mse: 0.0262 - mae: 0.1242 - val_loss: 0.0252 - val_mse: 0.0252 - val_mae: 0.1162\n",
      "Epoch 10/25\n",
      "180/180 [==============================] - 0s 2ms/step - loss: 0.0255 - mse: 0.0255 - mae: 0.1236 - val_loss: 0.0250 - val_mse: 0.0250 - val_mae: 0.1184\n",
      "Epoch 11/25\n",
      "180/180 [==============================] - 0s 2ms/step - loss: 0.0249 - mse: 0.0249 - mae: 0.1205 - val_loss: 0.0254 - val_mse: 0.0254 - val_mae: 0.1149\n",
      "Epoch 12/25\n",
      "180/180 [==============================] - 0s 2ms/step - loss: 0.0244 - mse: 0.0244 - mae: 0.1193 - val_loss: 0.0256 - val_mse: 0.0256 - val_mae: 0.1153\n",
      "Epoch 13/25\n",
      "180/180 [==============================] - 0s 2ms/step - loss: 0.0240 - mse: 0.0240 - mae: 0.1187 - val_loss: 0.0251 - val_mse: 0.0251 - val_mae: 0.1151\n",
      "Epoch 14/25\n",
      "180/180 [==============================] - 0s 2ms/step - loss: 0.0237 - mse: 0.0237 - mae: 0.1178 - val_loss: 0.0245 - val_mse: 0.0245 - val_mae: 0.1145\n",
      "Epoch 15/25\n",
      "180/180 [==============================] - 0s 3ms/step - loss: 0.0232 - mse: 0.0232 - mae: 0.1170 - val_loss: 0.0245 - val_mse: 0.0245 - val_mae: 0.1156\n",
      "Epoch 16/25\n",
      "180/180 [==============================] - 0s 2ms/step - loss: 0.0229 - mse: 0.0229 - mae: 0.1158 - val_loss: 0.0244 - val_mse: 0.0244 - val_mae: 0.1142\n",
      "Epoch 17/25\n",
      "180/180 [==============================] - 0s 2ms/step - loss: 0.0227 - mse: 0.0227 - mae: 0.1150 - val_loss: 0.0244 - val_mse: 0.0244 - val_mae: 0.1161\n",
      "Epoch 18/25\n",
      "180/180 [==============================] - 0s 2ms/step - loss: 0.0222 - mse: 0.0222 - mae: 0.1140 - val_loss: 0.0241 - val_mse: 0.0241 - val_mae: 0.1141\n",
      "Epoch 19/25\n",
      "180/180 [==============================] - 0s 2ms/step - loss: 0.0221 - mse: 0.0221 - mae: 0.1136 - val_loss: 0.0245 - val_mse: 0.0245 - val_mae: 0.1136\n",
      "Epoch 20/25\n",
      "180/180 [==============================] - 0s 2ms/step - loss: 0.0216 - mse: 0.0216 - mae: 0.1124 - val_loss: 0.0242 - val_mse: 0.0242 - val_mae: 0.1150\n",
      "Epoch 21/25\n",
      "180/180 [==============================] - 0s 2ms/step - loss: 0.0214 - mse: 0.0214 - mae: 0.1116 - val_loss: 0.0252 - val_mse: 0.0252 - val_mae: 0.1145\n",
      "Epoch 22/25\n",
      "180/180 [==============================] - 0s 2ms/step - loss: 0.0211 - mse: 0.0211 - mae: 0.1107 - val_loss: 0.0242 - val_mse: 0.0242 - val_mae: 0.1139\n",
      "Epoch 23/25\n",
      "180/180 [==============================] - 0s 2ms/step - loss: 0.0210 - mse: 0.0210 - mae: 0.1106 - val_loss: 0.0243 - val_mse: 0.0243 - val_mae: 0.1135\n",
      "Epoch 24/25\n",
      "180/180 [==============================] - 0s 2ms/step - loss: 0.0207 - mse: 0.0207 - mae: 0.1099 - val_loss: 0.0244 - val_mse: 0.0244 - val_mae: 0.1140\n",
      "Epoch 25/25\n",
      "180/180 [==============================] - 0s 2ms/step - loss: 0.0205 - mse: 0.0205 - mae: 0.1083 - val_loss: 0.0244 - val_mse: 0.0244 - val_mae: 0.1152\n"
     ]
    },
    {
     "data": {
      "text/plain": [
       "<keras.callbacks.History at 0x7fcef81d4070>"
      ]
     },
     "execution_count": 171,
     "metadata": {},
     "output_type": "execute_result"
    }
   ],
   "source": [
    "# step 3 : Training the Model\n",
    "mlp_best.fit(X_train, y_train, epochs = 25, batch_size = 5, validation_data = (X_test, y_test))"
   ]
  },
  {
   "cell_type": "code",
   "execution_count": 172,
   "id": "c658b5f7",
   "metadata": {},
   "outputs": [
    {
     "data": {
      "text/html": [
       "<div>\n",
       "<style scoped>\n",
       "    .dataframe tbody tr th:only-of-type {\n",
       "        vertical-align: middle;\n",
       "    }\n",
       "\n",
       "    .dataframe tbody tr th {\n",
       "        vertical-align: top;\n",
       "    }\n",
       "\n",
       "    .dataframe thead th {\n",
       "        text-align: right;\n",
       "    }\n",
       "</style>\n",
       "<table border=\"1\" class=\"dataframe\">\n",
       "  <thead>\n",
       "    <tr style=\"text-align: right;\">\n",
       "      <th></th>\n",
       "      <th>loss</th>\n",
       "      <th>mse</th>\n",
       "      <th>mae</th>\n",
       "      <th>val_loss</th>\n",
       "      <th>val_mse</th>\n",
       "      <th>val_mae</th>\n",
       "    </tr>\n",
       "  </thead>\n",
       "  <tbody>\n",
       "    <tr>\n",
       "      <th>0</th>\n",
       "      <td>0.109747</td>\n",
       "      <td>0.109747</td>\n",
       "      <td>0.242565</td>\n",
       "      <td>0.040634</td>\n",
       "      <td>0.040634</td>\n",
       "      <td>0.157754</td>\n",
       "    </tr>\n",
       "    <tr>\n",
       "      <th>1</th>\n",
       "      <td>0.042740</td>\n",
       "      <td>0.042740</td>\n",
       "      <td>0.162176</td>\n",
       "      <td>0.033757</td>\n",
       "      <td>0.033757</td>\n",
       "      <td>0.141719</td>\n",
       "    </tr>\n",
       "    <tr>\n",
       "      <th>2</th>\n",
       "      <td>0.036154</td>\n",
       "      <td>0.036154</td>\n",
       "      <td>0.149011</td>\n",
       "      <td>0.030623</td>\n",
       "      <td>0.030623</td>\n",
       "      <td>0.134657</td>\n",
       "    </tr>\n",
       "    <tr>\n",
       "      <th>3</th>\n",
       "      <td>0.032942</td>\n",
       "      <td>0.032942</td>\n",
       "      <td>0.141100</td>\n",
       "      <td>0.028611</td>\n",
       "      <td>0.028611</td>\n",
       "      <td>0.126341</td>\n",
       "    </tr>\n",
       "    <tr>\n",
       "      <th>4</th>\n",
       "      <td>0.030461</td>\n",
       "      <td>0.030461</td>\n",
       "      <td>0.134768</td>\n",
       "      <td>0.029897</td>\n",
       "      <td>0.029897</td>\n",
       "      <td>0.123851</td>\n",
       "    </tr>\n",
       "  </tbody>\n",
       "</table>\n",
       "</div>"
      ],
      "text/plain": [
       "       loss       mse       mae  val_loss   val_mse   val_mae\n",
       "0  0.109747  0.109747  0.242565  0.040634  0.040634  0.157754\n",
       "1  0.042740  0.042740  0.162176  0.033757  0.033757  0.141719\n",
       "2  0.036154  0.036154  0.149011  0.030623  0.030623  0.134657\n",
       "3  0.032942  0.032942  0.141100  0.028611  0.028611  0.126341\n",
       "4  0.030461  0.030461  0.134768  0.029897  0.029897  0.123851"
      ]
     },
     "execution_count": 172,
     "metadata": {},
     "output_type": "execute_result"
    }
   ],
   "source": [
    "mlp_output = pd.DataFrame(mlp_best.history.history)\n",
    "mlp_output.head()"
   ]
  },
  {
   "cell_type": "code",
   "execution_count": 173,
   "id": "802f68a0",
   "metadata": {},
   "outputs": [
    {
     "name": "stdout",
     "output_type": "stream",
     "text": [
      "29/29 [==============================] - 0s 3ms/step - loss: 0.0200 - mse: 0.0200 - mae: 0.1084\n",
      "10/10 [==============================] - 0s 3ms/step - loss: 0.0244 - mse: 0.0244 - mae: 0.1152\n",
      "Train mse 0.01999177783727646\n",
      "Train mae 0.10842420905828476\n",
      "Test mse 0.024374675005674362\n",
      "Test mae 0.11519534140825272\n"
     ]
    }
   ],
   "source": [
    "# step 4: Evaluating the Model\n",
    "\n",
    "train_loss_and_metrics = mlp_best.evaluate(X_train, y_train)\n",
    "test_loss_and_metrics = mlp_best.evaluate(X_test, y_test)\n",
    "\n",
    "print(\"Train mse\", train_loss_and_metrics[1])\n",
    "print(\"Train mae\", train_loss_and_metrics[2])\n",
    "\n",
    "print(\"Test mse\", test_loss_and_metrics[1])\n",
    "print(\"Test mae\", test_loss_and_metrics[2])"
   ]
  },
  {
   "cell_type": "code",
   "execution_count": 174,
   "id": "fccf9de8",
   "metadata": {},
   "outputs": [
    {
     "data": {
      "text/plain": [
       "array([0.8309197 , 0.8474195 , 1.0197064 , 0.7863159 , 0.56209826,\n",
       "       0.8277876 , 0.7659368 , 0.787354  , 0.70765305, 0.73910403,\n",
       "       0.8903545 , 0.77993387, 0.48407224, 0.7879314 , 0.5324166 ,\n",
       "       0.6918428 , 0.72942936, 0.7477868 , 0.5504892 , 0.6877467 ,\n",
       "       0.7032018 , 0.5785987 , 0.61476177, 0.73580265, 0.7627734 ,\n",
       "       0.68390894, 0.76421857, 0.7182646 , 0.7352087 , 0.5623049 ,\n",
       "       0.80930746, 0.79545224, 0.9175774 , 0.76021445, 0.7904164 ,\n",
       "       0.7457669 , 0.7172077 , 0.6919676 , 0.733872  , 0.7640004 ,\n",
       "       0.64420027, 0.57962185, 0.7140628 , 0.698118  , 0.78637797,\n",
       "       0.6946113 , 0.9105525 , 0.697616  , 0.7991242 , 0.6843823 ,\n",
       "       0.77494645, 0.8577459 , 0.738667  , 0.63624287, 0.77567184,\n",
       "       0.68552977, 0.8772022 , 0.77786684, 0.7949275 , 0.6347623 ,\n",
       "       0.8700986 , 0.73118603, 0.77267474, 0.82186234, 0.65430987,\n",
       "       0.6556584 , 0.6220932 , 0.6599854 , 0.8088444 , 0.65435725,\n",
       "       0.63010454, 0.62724316, 0.74677485, 0.7084073 , 0.5246038 ,\n",
       "       0.7779268 , 0.6246657 , 0.68107736, 0.74843854, 0.8149819 ,\n",
       "       0.73225963, 0.53945327, 0.70403993, 0.6903789 , 0.74833053,\n",
       "       0.649454  , 0.7709509 , 0.63213605, 0.85897475, 0.6869861 ,\n",
       "       0.7692683 , 0.7080301 , 0.77361584, 0.68853694, 0.7688123 ,\n",
       "       0.7975913 , 0.79668593, 0.68558997, 0.8550161 , 0.59264654,\n",
       "       0.6664182 , 0.8171225 , 0.7192881 , 0.6056728 , 0.82276195,\n",
       "       0.8373687 , 0.5760487 , 0.84959716, 0.71539617, 0.81387335,\n",
       "       0.6826118 , 0.81686914, 0.79415596, 0.80166185, 0.8489069 ,\n",
       "       0.60160923, 0.89023924, 0.57520473, 0.61745524, 0.8697158 ,\n",
       "       0.79523474, 0.7602731 , 0.69730645, 0.8847557 , 0.82992214,\n",
       "       0.72953796, 0.6868088 , 0.5211775 , 0.86128813, 0.7575254 ,\n",
       "       0.6551241 , 0.70795536, 0.6322159 , 0.7226726 , 0.6713049 ,\n",
       "       0.6761751 , 0.797205  , 0.6328212 , 0.79045445, 0.67621374,\n",
       "       0.83297926, 0.7859997 , 0.7349231 , 0.68904996, 0.7087347 ,\n",
       "       0.5487889 , 0.6850051 , 0.55255723, 0.7431907 , 0.80112386,\n",
       "       0.7246604 , 0.8608547 , 0.8061778 , 0.9250215 , 0.8795338 ,\n",
       "       0.67569345, 0.6506998 , 0.7641208 , 0.7397273 , 0.81124175,\n",
       "       0.7443106 , 0.7331946 , 0.8118612 , 0.68912977, 0.73841536,\n",
       "       0.7093557 , 0.54763985, 0.7088471 , 0.67738044, 0.77654505,\n",
       "       0.8172889 , 0.55597687, 0.8508314 , 0.76103586, 0.8619646 ,\n",
       "       0.90754056, 0.84112036, 0.68866324, 0.74072456, 0.7099012 ,\n",
       "       0.77153337, 0.8041275 , 0.7748989 , 0.7788814 , 0.7291259 ,\n",
       "       0.6560939 , 0.8808949 , 0.7371172 , 0.58934975, 0.6649469 ,\n",
       "       0.88234293, 0.7303078 , 0.836986  , 0.6088218 , 0.74462664,\n",
       "       0.86432046, 0.6131679 , 0.60814106, 0.7869894 , 0.7161819 ,\n",
       "       0.7117631 , 0.86151975, 0.68147165, 0.659724  , 0.8347229 ,\n",
       "       0.76319885, 0.6766195 , 0.76230186, 0.62508106, 0.62274194,\n",
       "       0.7028451 , 0.6806721 , 0.6253152 , 0.87273306, 0.4559492 ,\n",
       "       0.7723198 , 0.7389492 , 0.8360137 , 0.62251943, 0.76044494,\n",
       "       0.59650755, 0.80056345, 0.6488816 , 0.6909735 , 0.8146038 ,\n",
       "       0.4518682 , 0.6671033 , 0.8013598 , 0.8259053 , 0.7733171 ,\n",
       "       0.78164697, 0.8774602 , 0.7923922 , 0.74201363, 0.62686193,\n",
       "       0.7002349 , 0.74870926, 0.8116663 , 0.80638254, 0.57923454,\n",
       "       0.7253026 , 0.84468913, 0.68032867, 0.93369997, 0.7364722 ,\n",
       "       0.6045641 , 0.7196084 , 0.827465  , 0.7107812 , 0.72193456,\n",
       "       0.7277153 , 0.6864163 , 0.7069012 , 0.69430894, 0.6711315 ,\n",
       "       0.73436236, 0.6911699 , 0.7401341 , 0.61773425, 0.649944  ,\n",
       "       0.56163335, 0.7543312 , 0.5623113 , 0.7002479 , 0.8215393 ,\n",
       "       0.6551621 , 0.4637266 , 0.7178529 , 0.7051994 , 0.7115232 ,\n",
       "       0.7327611 , 0.770612  , 0.68998134, 0.74520546, 0.8303747 ,\n",
       "       0.8081695 , 0.7356556 , 0.6229857 , 0.73266935, 0.7120247 ,\n",
       "       0.91578126, 0.6721192 , 0.66116023, 0.5966158 , 0.7211071 ,\n",
       "       0.7148891 , 0.66040915, 0.8215345 , 0.58204985, 0.7545281 ,\n",
       "       0.7277623 , 0.6582184 , 0.77413493, 0.7534038 , 0.7969241 ,\n",
       "       0.5438034 , 0.83895934, 0.602001  , 0.65279114, 0.77039146],\n",
       "      dtype=float32)"
      ]
     },
     "execution_count": 174,
     "metadata": {},
     "output_type": "execute_result"
    }
   ],
   "source": [
    "y_pred = mlp_best.predict(X_test).reshape(-1,)\n",
    "y_pred"
   ]
  },
  {
   "cell_type": "code",
   "execution_count": 176,
   "id": "8eef8a23",
   "metadata": {},
   "outputs": [
    {
     "data": {
      "text/plain": [
       "0.16209397842256412"
      ]
     },
     "execution_count": 176,
     "metadata": {},
     "output_type": "execute_result"
    }
   ],
   "source": [
    "from sklearn.metrics import r2_score\n",
    "r2_score(y_test, y_pred)"
   ]
  },
  {
   "cell_type": "markdown",
   "id": "9bfda1d4",
   "metadata": {},
   "source": [
    "# Project 2 in a nutshell\n",
    "First of all, I have done an exploratory data analysis and initial cleansing of the data. parsing NAN into different features finally doing imputation across the features followed by the feature conversion to make the dataset all ready for the regression machine learning with bagging ensemble, pasting ensemble, Adaboost Bossting and Gradient Boosting. I have used SVR with kernel 'rbf' in bagging and AdaBoost Boosting, Random Forest Regressor in bagging, Decision Tree Regressor in Pasting and AdaBoost Boosting. I have included several machine learning regression models such as K neighbors Regressor, Linear Regression, Polynomial Regression, Ridge Regression, Lasso, Support Vector Machine Regressor both simple and with kernel trick ('linear', 'rbf' and 'poly'), Decision Tree Regressor with the reduced dataset (with 90% explained variance 23 features) after performing the principal component analysis. I have also utilized GridSearchCV() technique to find the best suited hyperparameter in each model using r2 scoring method over each and individual model to get a glimpse of how models are performing from one to another. Then I went ahead and performed a comparison analysis on the model evaluation based on Project 1 (sclad data without PCA) and those with PCA. Finally, I have analyzed Multi-layer Perceptron Neural Network with 2 hidden layers and fine tuned my model with the best hyper paramter combination found through grid search technique and predicted the target value on the test dataset."
   ]
  },
  {
   "cell_type": "code",
   "execution_count": null,
   "id": "efb960cc",
   "metadata": {},
   "outputs": [],
   "source": []
  }
 ],
 "metadata": {
  "kernelspec": {
   "display_name": "Python 3 (ipykernel)",
   "language": "python",
   "name": "python3"
  },
  "language_info": {
   "codemirror_mode": {
    "name": "ipython",
    "version": 3
   },
   "file_extension": ".py",
   "mimetype": "text/x-python",
   "name": "python",
   "nbconvert_exporter": "python",
   "pygments_lexer": "ipython3",
   "version": "3.8.5"
  }
 },
 "nbformat": 4,
 "nbformat_minor": 5
}
